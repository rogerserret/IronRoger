{
 "cells": [
  {
   "cell_type": "markdown",
   "id": "7aaafac4",
   "metadata": {},
   "source": [
    "# Predicting if a patient will have a stroke or not "
   ]
  },
  {
   "cell_type": "code",
   "execution_count": 1,
   "id": "24449b83",
   "metadata": {},
   "outputs": [],
   "source": [
    "import pandas as pd \n",
    "import numpy as np "
   ]
  },
  {
   "cell_type": "code",
   "execution_count": 2,
   "id": "628c56cb",
   "metadata": {},
   "outputs": [],
   "source": [
    "import warnings\n",
    "warnings.simplefilter(action='ignore')"
   ]
  },
  {
   "cell_type": "code",
   "execution_count": 3,
   "id": "47eaa5c8",
   "metadata": {},
   "outputs": [
    {
     "data": {
      "text/plain": [
       "'/Users/siandavies/Documents/GitHub/BCNDATA2022/ClassMaterials/Week4/sians notebooks'"
      ]
     },
     "execution_count": 3,
     "metadata": {},
     "output_type": "execute_result"
    }
   ],
   "source": [
    "pwd"
   ]
  },
  {
   "cell_type": "code",
   "execution_count": 4,
   "id": "f7b7fa30",
   "metadata": {},
   "outputs": [
    {
     "name": "stdout",
     "output_type": "stream",
     "text": [
      "/Users/siandavies/Documents/GitHub/BCNDATA2022/ClassMaterials/Week4\n"
     ]
    }
   ],
   "source": [
    "cd .."
   ]
  },
  {
   "cell_type": "code",
   "execution_count": 5,
   "id": "5e695ea5",
   "metadata": {},
   "outputs": [
    {
     "name": "stdout",
     "output_type": "stream",
     "text": [
      "/Users/siandavies/Documents/GitHub/BCNDATA2022/ClassMaterials\n"
     ]
    }
   ],
   "source": [
    "cd .."
   ]
  },
  {
   "cell_type": "code",
   "execution_count": 6,
   "id": "5633c79a",
   "metadata": {},
   "outputs": [],
   "source": [
    "df=pd.read_csv('Week1/CaseStudies_Data/Healthcare/strokes_data.csv')"
   ]
  },
  {
   "cell_type": "code",
   "execution_count": 7,
   "id": "f135fddd",
   "metadata": {},
   "outputs": [
    {
     "name": "stdout",
     "output_type": "stream",
     "text": [
      "<class 'pandas.core.frame.DataFrame'>\n",
      "RangeIndex: 43400 entries, 0 to 43399\n",
      "Data columns (total 12 columns):\n",
      " #   Column             Non-Null Count  Dtype  \n",
      "---  ------             --------------  -----  \n",
      " 0   id                 43400 non-null  int64  \n",
      " 1   gender             43400 non-null  object \n",
      " 2   age                43400 non-null  float64\n",
      " 3   hypertension       43400 non-null  int64  \n",
      " 4   heart_disease      43400 non-null  int64  \n",
      " 5   ever_married       43400 non-null  object \n",
      " 6   work_type          43400 non-null  object \n",
      " 7   Residence_type     43400 non-null  object \n",
      " 8   avg_glucose_level  43400 non-null  float64\n",
      " 9   bmi                41938 non-null  float64\n",
      " 10  smoking_status     30108 non-null  object \n",
      " 11  stroke             43400 non-null  int64  \n",
      "dtypes: float64(3), int64(4), object(5)\n",
      "memory usage: 4.0+ MB\n"
     ]
    }
   ],
   "source": [
    "df.info()"
   ]
  },
  {
   "cell_type": "markdown",
   "id": "015da9eb",
   "metadata": {},
   "source": [
    "# EDA, clean and pre process data "
   ]
  },
  {
   "cell_type": "markdown",
   "id": "21f9a46e",
   "metadata": {},
   "source": [
    "#### EDA / identify problems and fix these - with LOG REG \n",
    "- drop duplicates                       df.drop_duplicates() \n",
    "- replace nulls                         df.replace(np.nan,'x') or remove or estimate\n",
    "- encode strings as numbers             pd.get_dummies() on df_cat\n",
    "- (optional) scale numeric variables \n",
    "- remove ID so we dont overfit "
   ]
  },
  {
   "cell_type": "code",
   "execution_count": 8,
   "id": "a55d6d12",
   "metadata": {},
   "outputs": [],
   "source": [
    "df=df.drop_duplicates()"
   ]
  },
  {
   "cell_type": "code",
   "execution_count": 9,
   "id": "89d41284",
   "metadata": {},
   "outputs": [
    {
     "data": {
      "text/plain": [
       "0    42617\n",
       "1      783\n",
       "Name: stroke, dtype: int64"
      ]
     },
     "execution_count": 9,
     "metadata": {},
     "output_type": "execute_result"
    }
   ],
   "source": [
    "df['stroke'].value_counts()"
   ]
  },
  {
   "cell_type": "code",
   "execution_count": 10,
   "id": "40b69999",
   "metadata": {},
   "outputs": [],
   "source": [
    "y=df['stroke']"
   ]
  },
  {
   "cell_type": "code",
   "execution_count": 11,
   "id": "fca26f50",
   "metadata": {},
   "outputs": [],
   "source": [
    "X=df.drop('stroke',axis=1)"
   ]
  },
  {
   "cell_type": "markdown",
   "id": "d44d4eaf",
   "metadata": {},
   "source": [
    "## stop using 'df' "
   ]
  },
  {
   "cell_type": "code",
   "execution_count": 12,
   "id": "e3fd4153",
   "metadata": {},
   "outputs": [],
   "source": [
    "X=X.drop(['id'],axis=1)"
   ]
  },
  {
   "cell_type": "code",
   "execution_count": 13,
   "id": "0454a964",
   "metadata": {},
   "outputs": [],
   "source": [
    "#null check \n",
    "null_bmi=X[X['bmi'].isna()]"
   ]
  },
  {
   "cell_type": "code",
   "execution_count": 14,
   "id": "ce528331",
   "metadata": {},
   "outputs": [],
   "source": [
    "X_cat=X.select_dtypes(include=['object'])"
   ]
  },
  {
   "cell_type": "code",
   "execution_count": 15,
   "id": "818543f9",
   "metadata": {},
   "outputs": [],
   "source": [
    "X_cat_enc=pd.get_dummies(X_cat,drop_first=True)"
   ]
  },
  {
   "cell_type": "code",
   "execution_count": 16,
   "id": "f59a3579",
   "metadata": {},
   "outputs": [
    {
     "data": {
      "text/plain": [
       "Index(['gender_Male', 'gender_Other', 'ever_married_Yes',\n",
       "       'work_type_Never_worked', 'work_type_Private',\n",
       "       'work_type_Self-employed', 'work_type_children', 'Residence_type_Urban',\n",
       "       'smoking_status_never smoked', 'smoking_status_smokes'],\n",
       "      dtype='object')"
      ]
     },
     "execution_count": 16,
     "metadata": {},
     "output_type": "execute_result"
    }
   ],
   "source": [
    "X_cat_enc.columns"
   ]
  },
  {
   "cell_type": "code",
   "execution_count": 17,
   "id": "371d51b9",
   "metadata": {},
   "outputs": [
    {
     "data": {
      "text/plain": [
       "(43400, 10)"
      ]
     },
     "execution_count": 17,
     "metadata": {},
     "output_type": "execute_result"
    }
   ],
   "source": [
    "X_cat_enc.shape"
   ]
  },
  {
   "cell_type": "code",
   "execution_count": 18,
   "id": "2ac328eb",
   "metadata": {},
   "outputs": [],
   "source": [
    "X_num=X.select_dtypes(exclude=['object'])"
   ]
  },
  {
   "cell_type": "code",
   "execution_count": 19,
   "id": "f05f0d52",
   "metadata": {},
   "outputs": [
    {
     "name": "stdout",
     "output_type": "stream",
     "text": [
      "<class 'pandas.core.frame.DataFrame'>\n",
      "Int64Index: 43400 entries, 0 to 43399\n",
      "Data columns (total 5 columns):\n",
      " #   Column             Non-Null Count  Dtype  \n",
      "---  ------             --------------  -----  \n",
      " 0   age                43400 non-null  float64\n",
      " 1   hypertension       43400 non-null  int64  \n",
      " 2   heart_disease      43400 non-null  int64  \n",
      " 3   avg_glucose_level  43400 non-null  float64\n",
      " 4   bmi                41938 non-null  float64\n",
      "dtypes: float64(3), int64(2)\n",
      "memory usage: 2.0 MB\n"
     ]
    }
   ],
   "source": [
    "X_num.info()"
   ]
  },
  {
   "cell_type": "code",
   "execution_count": 20,
   "id": "d76fcd5b",
   "metadata": {},
   "outputs": [],
   "source": [
    "X_cat=X_cat.replace(np.nan,'unknown')"
   ]
  },
  {
   "cell_type": "code",
   "execution_count": 21,
   "id": "ed685878",
   "metadata": {},
   "outputs": [
    {
     "name": "stdout",
     "output_type": "stream",
     "text": [
      "<class 'pandas.core.frame.DataFrame'>\n",
      "Int64Index: 43400 entries, 0 to 43399\n",
      "Data columns (total 5 columns):\n",
      " #   Column          Non-Null Count  Dtype \n",
      "---  ------          --------------  ----- \n",
      " 0   gender          43400 non-null  object\n",
      " 1   ever_married    43400 non-null  object\n",
      " 2   work_type       43400 non-null  object\n",
      " 3   Residence_type  43400 non-null  object\n",
      " 4   smoking_status  43400 non-null  object\n",
      "dtypes: object(5)\n",
      "memory usage: 2.0+ MB\n"
     ]
    }
   ],
   "source": [
    "X_cat.info()"
   ]
  },
  {
   "cell_type": "code",
   "execution_count": 22,
   "id": "d9b1aa45",
   "metadata": {},
   "outputs": [],
   "source": [
    "X_num['bmi']=X_num['bmi'].fillna(0)"
   ]
  },
  {
   "cell_type": "code",
   "execution_count": 23,
   "id": "64fb0b5a",
   "metadata": {},
   "outputs": [
    {
     "name": "stdout",
     "output_type": "stream",
     "text": [
      "<class 'pandas.core.frame.DataFrame'>\n",
      "Int64Index: 43400 entries, 0 to 43399\n",
      "Data columns (total 5 columns):\n",
      " #   Column             Non-Null Count  Dtype  \n",
      "---  ------             --------------  -----  \n",
      " 0   age                43400 non-null  float64\n",
      " 1   hypertension       43400 non-null  int64  \n",
      " 2   heart_disease      43400 non-null  int64  \n",
      " 3   avg_glucose_level  43400 non-null  float64\n",
      " 4   bmi                43400 non-null  float64\n",
      "dtypes: float64(3), int64(2)\n",
      "memory usage: 2.0 MB\n"
     ]
    }
   ],
   "source": [
    "X_num.info()"
   ]
  },
  {
   "cell_type": "code",
   "execution_count": 24,
   "id": "f966a0ff",
   "metadata": {},
   "outputs": [
    {
     "data": {
      "text/plain": [
       "(43400, 5)"
      ]
     },
     "execution_count": 24,
     "metadata": {},
     "output_type": "execute_result"
    }
   ],
   "source": [
    "X_num.shape"
   ]
  },
  {
   "cell_type": "code",
   "execution_count": 25,
   "id": "54dcdd47",
   "metadata": {},
   "outputs": [],
   "source": [
    "X_full=pd.concat([X_cat_enc,X_num],axis=1)"
   ]
  },
  {
   "cell_type": "code",
   "execution_count": 26,
   "id": "feaa33eb",
   "metadata": {},
   "outputs": [
    {
     "data": {
      "text/html": [
       "<div>\n",
       "<style scoped>\n",
       "    .dataframe tbody tr th:only-of-type {\n",
       "        vertical-align: middle;\n",
       "    }\n",
       "\n",
       "    .dataframe tbody tr th {\n",
       "        vertical-align: top;\n",
       "    }\n",
       "\n",
       "    .dataframe thead th {\n",
       "        text-align: right;\n",
       "    }\n",
       "</style>\n",
       "<table border=\"1\" class=\"dataframe\">\n",
       "  <thead>\n",
       "    <tr style=\"text-align: right;\">\n",
       "      <th></th>\n",
       "      <th>gender_Male</th>\n",
       "      <th>gender_Other</th>\n",
       "      <th>ever_married_Yes</th>\n",
       "      <th>work_type_Never_worked</th>\n",
       "      <th>work_type_Private</th>\n",
       "      <th>work_type_Self-employed</th>\n",
       "      <th>work_type_children</th>\n",
       "      <th>Residence_type_Urban</th>\n",
       "      <th>smoking_status_never smoked</th>\n",
       "      <th>smoking_status_smokes</th>\n",
       "      <th>age</th>\n",
       "      <th>hypertension</th>\n",
       "      <th>heart_disease</th>\n",
       "      <th>avg_glucose_level</th>\n",
       "      <th>bmi</th>\n",
       "    </tr>\n",
       "  </thead>\n",
       "  <tbody>\n",
       "    <tr>\n",
       "      <th>0</th>\n",
       "      <td>1</td>\n",
       "      <td>0</td>\n",
       "      <td>0</td>\n",
       "      <td>0</td>\n",
       "      <td>0</td>\n",
       "      <td>0</td>\n",
       "      <td>1</td>\n",
       "      <td>0</td>\n",
       "      <td>0</td>\n",
       "      <td>0</td>\n",
       "      <td>3.0</td>\n",
       "      <td>0</td>\n",
       "      <td>0</td>\n",
       "      <td>95.12</td>\n",
       "      <td>18.0</td>\n",
       "    </tr>\n",
       "    <tr>\n",
       "      <th>1</th>\n",
       "      <td>1</td>\n",
       "      <td>0</td>\n",
       "      <td>1</td>\n",
       "      <td>0</td>\n",
       "      <td>1</td>\n",
       "      <td>0</td>\n",
       "      <td>0</td>\n",
       "      <td>1</td>\n",
       "      <td>1</td>\n",
       "      <td>0</td>\n",
       "      <td>58.0</td>\n",
       "      <td>1</td>\n",
       "      <td>0</td>\n",
       "      <td>87.96</td>\n",
       "      <td>39.2</td>\n",
       "    </tr>\n",
       "    <tr>\n",
       "      <th>2</th>\n",
       "      <td>0</td>\n",
       "      <td>0</td>\n",
       "      <td>0</td>\n",
       "      <td>0</td>\n",
       "      <td>1</td>\n",
       "      <td>0</td>\n",
       "      <td>0</td>\n",
       "      <td>1</td>\n",
       "      <td>0</td>\n",
       "      <td>0</td>\n",
       "      <td>8.0</td>\n",
       "      <td>0</td>\n",
       "      <td>0</td>\n",
       "      <td>110.89</td>\n",
       "      <td>17.6</td>\n",
       "    </tr>\n",
       "    <tr>\n",
       "      <th>3</th>\n",
       "      <td>0</td>\n",
       "      <td>0</td>\n",
       "      <td>1</td>\n",
       "      <td>0</td>\n",
       "      <td>1</td>\n",
       "      <td>0</td>\n",
       "      <td>0</td>\n",
       "      <td>0</td>\n",
       "      <td>0</td>\n",
       "      <td>0</td>\n",
       "      <td>70.0</td>\n",
       "      <td>0</td>\n",
       "      <td>0</td>\n",
       "      <td>69.04</td>\n",
       "      <td>35.9</td>\n",
       "    </tr>\n",
       "    <tr>\n",
       "      <th>4</th>\n",
       "      <td>1</td>\n",
       "      <td>0</td>\n",
       "      <td>0</td>\n",
       "      <td>1</td>\n",
       "      <td>0</td>\n",
       "      <td>0</td>\n",
       "      <td>0</td>\n",
       "      <td>0</td>\n",
       "      <td>0</td>\n",
       "      <td>0</td>\n",
       "      <td>14.0</td>\n",
       "      <td>0</td>\n",
       "      <td>0</td>\n",
       "      <td>161.28</td>\n",
       "      <td>19.1</td>\n",
       "    </tr>\n",
       "  </tbody>\n",
       "</table>\n",
       "</div>"
      ],
      "text/plain": [
       "   gender_Male  gender_Other  ever_married_Yes  work_type_Never_worked  \\\n",
       "0            1             0                 0                       0   \n",
       "1            1             0                 1                       0   \n",
       "2            0             0                 0                       0   \n",
       "3            0             0                 1                       0   \n",
       "4            1             0                 0                       1   \n",
       "\n",
       "   work_type_Private  work_type_Self-employed  work_type_children  \\\n",
       "0                  0                        0                   1   \n",
       "1                  1                        0                   0   \n",
       "2                  1                        0                   0   \n",
       "3                  1                        0                   0   \n",
       "4                  0                        0                   0   \n",
       "\n",
       "   Residence_type_Urban  smoking_status_never smoked  smoking_status_smokes  \\\n",
       "0                     0                            0                      0   \n",
       "1                     1                            1                      0   \n",
       "2                     1                            0                      0   \n",
       "3                     0                            0                      0   \n",
       "4                     0                            0                      0   \n",
       "\n",
       "    age  hypertension  heart_disease  avg_glucose_level   bmi  \n",
       "0   3.0             0              0              95.12  18.0  \n",
       "1  58.0             1              0              87.96  39.2  \n",
       "2   8.0             0              0             110.89  17.6  \n",
       "3  70.0             0              0              69.04  35.9  \n",
       "4  14.0             0              0             161.28  19.1  "
      ]
     },
     "execution_count": 26,
     "metadata": {},
     "output_type": "execute_result"
    }
   ],
   "source": [
    "X_full.head()"
   ]
  },
  {
   "cell_type": "markdown",
   "id": "3eb4eb8d",
   "metadata": {},
   "source": [
    "# Build model candidate_1 "
   ]
  },
  {
   "cell_type": "markdown",
   "id": "c7f297f0",
   "metadata": {},
   "source": [
    "#### get your log regression model\n",
    "##### fit it to your data \n",
    "define X define y , train_test_split(), model.fit()"
   ]
  },
  {
   "cell_type": "code",
   "execution_count": 27,
   "id": "914d30ec",
   "metadata": {},
   "outputs": [],
   "source": [
    "from sklearn.linear_model import LogisticRegression"
   ]
  },
  {
   "cell_type": "code",
   "execution_count": 28,
   "id": "4ecc7786",
   "metadata": {},
   "outputs": [],
   "source": [
    "logreg=LogisticRegression() # set up"
   ]
  },
  {
   "cell_type": "code",
   "execution_count": 29,
   "id": "f2deb5cb",
   "metadata": {},
   "outputs": [],
   "source": [
    "from sklearn.model_selection import train_test_split"
   ]
  },
  {
   "cell_type": "code",
   "execution_count": 30,
   "id": "7b4f5839",
   "metadata": {},
   "outputs": [],
   "source": [
    "X_train, X_test, y_train, y_test = train_test_split(X_full, y, test_size=0.3, random_state=40)"
   ]
  },
  {
   "cell_type": "code",
   "execution_count": 31,
   "id": "7f6f1f12",
   "metadata": {},
   "outputs": [],
   "source": [
    "clf=logreg.fit(X_train,y_train)"
   ]
  },
  {
   "cell_type": "markdown",
   "id": "82688ad2",
   "metadata": {},
   "source": [
    "# Evaluate model candidate_1"
   ]
  },
  {
   "cell_type": "markdown",
   "id": "ca123dcf",
   "metadata": {},
   "source": [
    "#### evaluate model \n",
    "- confusion matrix \n",
    "- accuracy score "
   ]
  },
  {
   "cell_type": "code",
   "execution_count": 32,
   "id": "9dae4bb0",
   "metadata": {},
   "outputs": [],
   "source": [
    "y_pred=clf.predict(X_test)"
   ]
  },
  {
   "cell_type": "code",
   "execution_count": 33,
   "id": "8c1fa251",
   "metadata": {},
   "outputs": [],
   "source": [
    "from sklearn.metrics import accuracy_score, classification_report, confusion_matrix, plot_confusion_matrix"
   ]
  },
  {
   "cell_type": "code",
   "execution_count": 34,
   "id": "a13f955a",
   "metadata": {},
   "outputs": [
    {
     "data": {
      "text/plain": [
       "0.9817204301075269"
      ]
     },
     "execution_count": 34,
     "metadata": {},
     "output_type": "execute_result"
    }
   ],
   "source": [
    "accuracy_score(y_test,y_pred)"
   ]
  },
  {
   "cell_type": "code",
   "execution_count": 35,
   "id": "1194d50f",
   "metadata": {},
   "outputs": [],
   "source": [
    "from sklearn.metrics import ConfusionMatrixDisplay"
   ]
  },
  {
   "cell_type": "code",
   "execution_count": 36,
   "id": "7312b366",
   "metadata": {},
   "outputs": [],
   "source": [
    "import matplotlib.pyplot as plt"
   ]
  },
  {
   "cell_type": "code",
   "execution_count": 37,
   "id": "d2cd68a1",
   "metadata": {},
   "outputs": [
    {
     "data": {
      "text/plain": [
       "<sklearn.metrics._plot.confusion_matrix.ConfusionMatrixDisplay at 0x7fb7cb5caf40>"
      ]
     },
     "execution_count": 37,
     "metadata": {},
     "output_type": "execute_result"
    },
    {
     "data": {
      "image/png": "[encoded data removed]",
      "text/plain": [
       "<Figure size 432x288 with 2 Axes>"
      ]
     },
     "metadata": {
      "needs_background": "light"
     },
     "output_type": "display_data"
    }
   ],
   "source": [
    "cm = confusion_matrix(y_test, y_pred, labels=clf.classes_)\n",
    "disp = ConfusionMatrixDisplay(confusion_matrix=cm,display_labels=clf.classes_)\n",
    "disp.plot()"
   ]
  },
  {
   "cell_type": "code",
   "execution_count": 38,
   "id": "69bbe3b1",
   "metadata": {},
   "outputs": [],
   "source": [
    "cmx=confusion_matrix(y_test,y_pred)"
   ]
  },
  {
   "cell_type": "code",
   "execution_count": 39,
   "id": "288173dc",
   "metadata": {},
   "outputs": [],
   "source": [
    "import seaborn as sns "
   ]
  },
  {
   "cell_type": "code",
   "execution_count": 40,
   "id": "ad1e1ecb",
   "metadata": {},
   "outputs": [
    {
     "data": {
      "text/plain": [
       "<AxesSubplot:>"
      ]
     },
     "execution_count": 40,
     "metadata": {},
     "output_type": "execute_result"
    },
    {
     "data": {
      "image/png": "[encoded data removed]",
      "text/plain": [
       "<Figure size 432x288 with 2 Axes>"
      ]
     },
     "metadata": {
      "needs_background": "light"
     },
     "output_type": "display_data"
    }
   ],
   "source": [
    "sns.heatmap(cmx/np.sum(cmx),annot=True, fmt='.2%',cmap='Blues')"
   ]
  },
  {
   "cell_type": "markdown",
   "id": "03c9b8f2",
   "metadata": {},
   "source": [
    "## candidate 2 - apply tomek links "
   ]
  },
  {
   "cell_type": "code",
   "execution_count": 41,
   "id": "d3de89c6",
   "metadata": {},
   "outputs": [],
   "source": [
    "from imblearn.under_sampling import TomekLinks"
   ]
  },
  {
   "cell_type": "markdown",
   "id": "10964216",
   "metadata": {},
   "source": [
    "apply sampling method on X \n",
    "(after dropping dupes, splitting into num, cat, encoding etc)"
   ]
  },
  {
   "cell_type": "code",
   "execution_count": 42,
   "id": "d0c24291",
   "metadata": {},
   "outputs": [],
   "source": [
    "tomek=TomekLinks()"
   ]
  },
  {
   "cell_type": "code",
   "execution_count": 43,
   "id": "1ceb1776",
   "metadata": {},
   "outputs": [],
   "source": [
    "X_tl,y_tl=tomek.fit_resample(X_full,y)"
   ]
  },
  {
   "cell_type": "code",
   "execution_count": 44,
   "id": "d568b217",
   "metadata": {},
   "outputs": [
    {
     "data": {
      "text/plain": [
       "(43400,)"
      ]
     },
     "execution_count": 44,
     "metadata": {},
     "output_type": "execute_result"
    }
   ],
   "source": [
    "y.shape"
   ]
  },
  {
   "cell_type": "code",
   "execution_count": 45,
   "id": "e0e130e3",
   "metadata": {},
   "outputs": [
    {
     "data": {
      "text/plain": [
       "0    42617\n",
       "1      783\n",
       "Name: stroke, dtype: int64"
      ]
     },
     "execution_count": 45,
     "metadata": {},
     "output_type": "execute_result"
    }
   ],
   "source": [
    "y.value_counts()"
   ]
  },
  {
   "cell_type": "code",
   "execution_count": 46,
   "id": "b2fe43a3",
   "metadata": {},
   "outputs": [
    {
     "data": {
      "text/plain": [
       "(43024,)"
      ]
     },
     "execution_count": 46,
     "metadata": {},
     "output_type": "execute_result"
    }
   ],
   "source": [
    "y_tl.shape # applying this undersampling model we have decreased the number of rows"
   ]
  },
  {
   "cell_type": "code",
   "execution_count": 47,
   "id": "c481f77d",
   "metadata": {},
   "outputs": [
    {
     "data": {
      "text/plain": [
       "(43024, 15)"
      ]
     },
     "execution_count": 47,
     "metadata": {},
     "output_type": "execute_result"
    }
   ],
   "source": [
    "X_tl.shape"
   ]
  },
  {
   "cell_type": "code",
   "execution_count": 48,
   "id": "fe7fb1b4",
   "metadata": {},
   "outputs": [
    {
     "data": {
      "text/plain": [
       "0    42241\n",
       "1      783\n",
       "Name: stroke, dtype: int64"
      ]
     },
     "execution_count": 48,
     "metadata": {},
     "output_type": "execute_result"
    }
   ],
   "source": [
    "y_tl.value_counts()"
   ]
  },
  {
   "cell_type": "code",
   "execution_count": 49,
   "id": "08ed9c54",
   "metadata": {},
   "outputs": [],
   "source": [
    "X_train_tl, X_test_tl, y_train_tl, y_test_tl = train_test_split(X_tl, y_tl, test_size=0.3, random_state=40)"
   ]
  },
  {
   "cell_type": "code",
   "execution_count": 50,
   "id": "f2ddbdc8",
   "metadata": {},
   "outputs": [],
   "source": [
    "clf_tl=logreg.fit(X_train_tl,y_train_tl)"
   ]
  },
  {
   "cell_type": "code",
   "execution_count": 51,
   "id": "f3e69625",
   "metadata": {},
   "outputs": [],
   "source": [
    "y_pred_tl=clf_tl.predict(X_test_tl)"
   ]
  },
  {
   "cell_type": "code",
   "execution_count": 52,
   "id": "213ecb7f",
   "metadata": {},
   "outputs": [
    {
     "data": {
      "text/plain": [
       "0.9835760768515649"
      ]
     },
     "execution_count": 52,
     "metadata": {},
     "output_type": "execute_result"
    }
   ],
   "source": [
    "accuracy_score(y_test_tl,y_pred_tl)"
   ]
  },
  {
   "cell_type": "code",
   "execution_count": 53,
   "id": "94de0700",
   "metadata": {},
   "outputs": [
    {
     "data": {
      "text/plain": [
       "<sklearn.metrics._plot.confusion_matrix.ConfusionMatrixDisplay at 0x7fb7ca62f3a0>"
      ]
     },
     "execution_count": 53,
     "metadata": {},
     "output_type": "execute_result"
    },
    {
     "data": {
      "image/png": "[encoded data removed]",
      "text/plain": [
       "<Figure size 432x288 with 2 Axes>"
      ]
     },
     "metadata": {
      "needs_background": "light"
     },
     "output_type": "display_data"
    }
   ],
   "source": [
    "cm = confusion_matrix(y_test_tl, y_pred_tl, labels=clf.classes_)\n",
    "disp = ConfusionMatrixDisplay(confusion_matrix=cm,display_labels=clf.classes_)\n",
    "disp.plot()"
   ]
  },
  {
   "cell_type": "markdown",
   "id": "2910fc4f",
   "metadata": {},
   "source": [
    "## Candidate 3 - Undersample majority class  \n",
    "\n",
    "- if we used Random_Sampler() can we get better at recognising strokes ? "
   ]
  },
  {
   "cell_type": "code",
   "execution_count": null,
   "id": "95ff984b",
   "metadata": {},
   "outputs": [],
   "source": []
  }
 ],
 "metadata": {
  "kernelspec": {
   "display_name": "Python 3 (ipykernel)",
   "language": "python",
   "name": "python3"
  },
  "language_info": {
   "codemirror_mode": {
    "name": "ipython",
    "version": 3
   },
   "file_extension": ".py",
   "mimetype": "text/x-python",
   "name": "python",
   "nbconvert_exporter": "python",
   "pygments_lexer": "ipython3",
   "version": "3.8.13"
  },
  "toc": {
   "base_numbering": 1,
   "nav_menu": {},
   "number_sections": true,
   "sideBar": true,
   "skip_h1_title": false,
   "title_cell": "Table of Contents",
   "title_sidebar": "Contents",
   "toc_cell": false,
   "toc_position": {},
   "toc_section_display": true,
   "toc_window_display": false
  },
  "varInspector": {
   "cols": {
    "lenName": 16,
    "lenType": 16,
    "lenVar": 40
   },
   "kernels_config": {
    "python": {
     "delete_cmd_postfix": "",
     "delete_cmd_prefix": "del ",
     "library": "var_list.py",
     "varRefreshCmd": "print(var_dic_list())"
    },
    "r": {
     "delete_cmd_postfix": ") ",
     "delete_cmd_prefix": "rm(",
     "library": "var_list.r",
     "varRefreshCmd": "cat(var_dic_list()) "
    }
   },
   "types_to_exclude": [
    "module",
    "function",
    "builtin_function_or_method",
    "instance",
    "_Feature"
   ],
   "window_display": false
  }
 },
 "nbformat": 4,
 "nbformat_minor": 5
}
