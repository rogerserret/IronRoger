{
 "cells": [
  {
   "cell_type": "markdown",
   "metadata": {},
   "source": [
    "## Spotipy API\n",
    "\n",
    "Create an Spotify account and follow these steps to register an app: https://developer.spotify.com/documentation/general/guides/app-settings/\n",
    "\n",
    "After the app is created, you can see it on your dashboard\n",
    "https://developer.spotify.com/dashboard/applications\n",
    "\n",
    "Click on it and you'll find the client id and client secret."
   ]
  },
  {
   "cell_type": "markdown",
   "metadata": {},
   "source": [
    "#### Authentification"
   ]
  },
  {
   "cell_type": "code",
   "execution_count": 1,
   "metadata": {},
   "outputs": [],
   "source": [
    "import spotipy # install if needed\n",
    "from spotipy.oauth2 import SpotifyClientCredentials"
   ]
  },
  {
   "cell_type": "code",
   "execution_count": 2,
   "metadata": {},
   "outputs": [],
   "source": [
    "import getpass"
   ]
  },
  {
   "cell_type": "markdown",
   "metadata": {},
   "source": [
    "## Password protection section "
   ]
  },
  {
   "cell_type": "code",
   "execution_count": 3,
   "metadata": {},
   "outputs": [
    {
     "name": "stdout",
     "output_type": "stream",
     "text": [
      "enter your client id?········\n",
      "enter your client secret?········\n"
     ]
    }
   ],
   "source": [
    "client_id=str(getpass.getpass('enter your client id?'))\n",
    "client_secret=str(getpass.getpass('enter your client secret?'))"
   ]
  },
  {
   "cell_type": "code",
   "execution_count": 4,
   "metadata": {},
   "outputs": [],
   "source": [
    "#Initialize SpotiPy with user credentias\n",
    "sp = spotipy.Spotify(auth_manager=SpotifyClientCredentials(\n",
    "    client_id=client_id,\n",
    "    client_secret=client_secret))"
   ]
  },
  {
   "cell_type": "markdown",
   "metadata": {},
   "source": [
    "# BASIC QUERY "
   ]
  },
  {
   "cell_type": "markdown",
   "metadata": {},
   "source": [
    "## Searching songs with 'queries' with `sp.search`"
   ]
  },
  {
   "cell_type": "code",
   "execution_count": 5,
   "metadata": {},
   "outputs": [],
   "source": [
    "results = sp.search(q='Queen',limit=50)"
   ]
  },
  {
   "cell_type": "markdown",
   "metadata": {},
   "source": [
    "Explore the object returned by the request:"
   ]
  },
  {
   "cell_type": "code",
   "execution_count": null,
   "metadata": {},
   "outputs": [],
   "source": [
    "results"
   ]
  },
  {
   "cell_type": "code",
   "execution_count": 7,
   "metadata": {},
   "outputs": [
    {
     "data": {
      "text/plain": [
       "dict_keys(['tracks'])"
      ]
     },
     "execution_count": 7,
     "metadata": {},
     "output_type": "execute_result"
    }
   ],
   "source": [
    "results.keys()"
   ]
  },
  {
   "cell_type": "code",
   "execution_count": 8,
   "metadata": {},
   "outputs": [
    {
     "data": {
      "text/plain": [
       "dict_keys(['href', 'items', 'limit', 'next', 'offset', 'previous', 'total'])"
      ]
     },
     "execution_count": 8,
     "metadata": {},
     "output_type": "execute_result"
    }
   ],
   "source": [
    "results['tracks'].keys()"
   ]
  },
  {
   "cell_type": "code",
   "execution_count": 9,
   "metadata": {},
   "outputs": [
    {
     "data": {
      "text/plain": [
       "50"
      ]
     },
     "execution_count": 9,
     "metadata": {},
     "output_type": "execute_result"
    }
   ],
   "source": [
    "len(results['tracks']['items'])"
   ]
  },
  {
   "cell_type": "code",
   "execution_count": 10,
   "metadata": {},
   "outputs": [
    {
     "data": {
      "text/plain": [
       "dict_keys(['album', 'artists', 'available_markets', 'disc_number', 'duration_ms', 'explicit', 'external_ids', 'external_urls', 'href', 'id', 'is_local', 'name', 'popularity', 'preview_url', 'track_number', 'type', 'uri'])"
      ]
     },
     "execution_count": 10,
     "metadata": {},
     "output_type": "execute_result"
    }
   ],
   "source": [
    "results['tracks']['items'][5].keys()"
   ]
  },
  {
   "cell_type": "code",
   "execution_count": 11,
   "metadata": {},
   "outputs": [
    {
     "data": {
      "text/plain": [
       "'Queen'"
      ]
     },
     "execution_count": 11,
     "metadata": {},
     "output_type": "execute_result"
    }
   ],
   "source": [
    "results['tracks']['items'][5]['name']"
   ]
  },
  {
   "cell_type": "code",
   "execution_count": 12,
   "metadata": {},
   "outputs": [
    {
     "data": {
      "text/plain": [
       "{'spotify': 'https://open.spotify.com/track/53b4d9jHQZq89EtQxwUURr'}"
      ]
     },
     "execution_count": 12,
     "metadata": {},
     "output_type": "execute_result"
    }
   ],
   "source": [
    "results['tracks']['items'][5]['external_urls']"
   ]
  },
  {
   "cell_type": "markdown",
   "metadata": {},
   "source": [
    "## Find a single song"
   ]
  },
  {
   "cell_type": "code",
   "execution_count": 13,
   "metadata": {},
   "outputs": [
    {
     "data": {
      "text/plain": [
       "'spotify:track:53b4d9jHQZq89EtQxwUURr'"
      ]
     },
     "execution_count": 13,
     "metadata": {},
     "output_type": "execute_result"
    }
   ],
   "source": [
    "results['tracks']['items'][5]['uri']"
   ]
  },
  {
   "cell_type": "code",
   "execution_count": 14,
   "metadata": {},
   "outputs": [
    {
     "data": {
      "text/plain": [
       "'1xyUCr7dIJYaUaaiDf4Q1L'"
      ]
     },
     "execution_count": 14,
     "metadata": {},
     "output_type": "execute_result"
    }
   ],
   "source": [
    "results['tracks']['items'][0]['id']"
   ]
  },
  {
   "cell_type": "markdown",
   "metadata": {},
   "source": [
    "Spotify songs are identified by either a \"url\", a \"uri\" or an \"id\". \n",
    "\n",
    "- The `id` is an alphanumeric code, and it's the nuclear part of the identifier.\n",
    "\n",
    "- The `uri` contains \"spotify:track\" before the id. An uri is useful because it can be searched manually in the Spotify app.\n",
    "\n",
    "- The `url` is a link to the song on the Spotify web player.\n",
    "\n",
    "We'll use the `uri` in this code-along, but feel free to use whatever you think fits best your needs."
   ]
  },
  {
   "cell_type": "markdown",
   "metadata": {},
   "source": [
    "# Activity 1 "
   ]
  },
  {
   "cell_type": "markdown",
   "metadata": {},
   "source": [
    "**Searching multiple artists**\n",
    "\n",
    "create a list of my_20_artists eg \n",
    "\n",
    "artists = [\"Dire Straits\", \"Queen\", \"Ella Fitzgerald\"....]\n",
    "\n",
    "Loop over your 20 favorite artists and their results to the list.\n",
    "\n",
    "Create a function that takes a list of artist names and return their 50 first appearances as a dictionary."
   ]
  },
  {
   "cell_type": "code",
   "execution_count": 15,
   "metadata": {},
   "outputs": [],
   "source": [
    "my_20_artists=['Ella Fitzgerald','Etta James','Louis Armstrong','Cole Porter','Billie Holiday', 'Dinah Washington', 'Queen', 'Beardyman','Lea Dasandre','Gregory Porter', 'Errol Linton', 'Nubya Garcia', 'Roxette', 'Prince', 'Ellie Goulding', 'Tracy Chapman', 'Fleetwood Mac', 'Morcheeba', 'Status Quo', 'The Doors']"
   ]
  },
  {
   "cell_type": "code",
   "execution_count": 16,
   "metadata": {},
   "outputs": [
    {
     "data": {
      "text/plain": [
       "20"
      ]
     },
     "execution_count": 16,
     "metadata": {},
     "output_type": "execute_result"
    }
   ],
   "source": [
    "len(my_20_artists)"
   ]
  },
  {
   "cell_type": "code",
   "execution_count": 17,
   "metadata": {},
   "outputs": [],
   "source": [
    "my_artists_tracks = []\n",
    "for artist in my_20_artists:\n",
    "    my_artists_tracks.append(sp.search(q={artist}, limit=50)) "
   ]
  },
  {
   "cell_type": "code",
   "execution_count": 18,
   "metadata": {},
   "outputs": [
    {
     "data": {
      "text/plain": [
       "20"
      ]
     },
     "execution_count": 18,
     "metadata": {},
     "output_type": "execute_result"
    }
   ],
   "source": [
    "len(my_artists_tracks)"
   ]
  },
  {
   "cell_type": "code",
   "execution_count": null,
   "metadata": {},
   "outputs": [],
   "source": [
    "my_artists_tracks[0]['tracks']['items'][49]"
   ]
  },
  {
   "cell_type": "code",
   "execution_count": 20,
   "metadata": {},
   "outputs": [],
   "source": [
    "def artist_to_track_dict(artist_list):\n",
    "    return {artist:sp.search(q=artist,limit=50) for artist in artist_list}"
   ]
  },
  {
   "cell_type": "code",
   "execution_count": 21,
   "metadata": {},
   "outputs": [
    {
     "data": {
      "text/plain": [
       "20"
      ]
     },
     "execution_count": 21,
     "metadata": {},
     "output_type": "execute_result"
    }
   ],
   "source": [
    "len(artist_to_track_dict(my_20_artists))"
   ]
  },
  {
   "cell_type": "code",
   "execution_count": 22,
   "metadata": {},
   "outputs": [],
   "source": [
    "my_dict=artist_to_track_dict(my_20_artists)"
   ]
  },
  {
   "cell_type": "code",
   "execution_count": 23,
   "metadata": {},
   "outputs": [
    {
     "data": {
      "text/plain": [
       "dict_keys(['Ella Fitzgerald', 'Etta James', 'Louis Armstrong', 'Cole Porter', 'Billie Holiday', 'Dinah Washington', 'Queen', 'Beardyman', 'Lea Dasandre', 'Gregory Porter', 'Errol Linton', 'Nubya Garcia', 'Roxette', 'Prince', 'Ellie Goulding', 'Tracy Chapman', 'Fleetwood Mac', 'Morcheeba', 'Status Quo', 'The Doors'])"
      ]
     },
     "execution_count": 23,
     "metadata": {},
     "output_type": "execute_result"
    }
   ],
   "source": [
    "my_dict.keys()"
   ]
  },
  {
   "cell_type": "code",
   "execution_count": 24,
   "metadata": {},
   "outputs": [
    {
     "data": {
      "text/plain": [
       "dict_keys(['tracks'])"
      ]
     },
     "execution_count": 24,
     "metadata": {},
     "output_type": "execute_result"
    }
   ],
   "source": [
    "my_dict['Ella Fitzgerald'].keys()"
   ]
  },
  {
   "cell_type": "code",
   "execution_count": 25,
   "metadata": {},
   "outputs": [
    {
     "data": {
      "text/plain": [
       "dict_keys(['href', 'items', 'limit', 'next', 'offset', 'previous', 'total'])"
      ]
     },
     "execution_count": 25,
     "metadata": {},
     "output_type": "execute_result"
    }
   ],
   "source": [
    "my_dict['Ella Fitzgerald']['tracks'].keys()"
   ]
  },
  {
   "cell_type": "code",
   "execution_count": 26,
   "metadata": {},
   "outputs": [
    {
     "data": {
      "text/plain": [
       "dict_keys(['album', 'artists', 'available_markets', 'disc_number', 'duration_ms', 'explicit', 'external_ids', 'external_urls', 'href', 'id', 'is_local', 'name', 'popularity', 'preview_url', 'track_number', 'type', 'uri'])"
      ]
     },
     "execution_count": 26,
     "metadata": {},
     "output_type": "execute_result"
    }
   ],
   "source": [
    "my_dict['Ella Fitzgerald']['tracks']['items'][0].keys()"
   ]
  },
  {
   "cell_type": "code",
   "execution_count": 27,
   "metadata": {},
   "outputs": [
    {
     "data": {
      "text/plain": [
       "[{'external_urls': {'spotify': 'https://open.spotify.com/artist/5V0MlUE1Bft0mbLlND7FJz'},\n",
       "  'href': 'https://api.spotify.com/v1/artists/5V0MlUE1Bft0mbLlND7FJz',\n",
       "  'id': '5V0MlUE1Bft0mbLlND7FJz',\n",
       "  'name': 'Ella Fitzgerald',\n",
       "  'type': 'artist',\n",
       "  'uri': 'spotify:artist:5V0MlUE1Bft0mbLlND7FJz'},\n",
       " {'external_urls': {'spotify': 'https://open.spotify.com/artist/19eLuQmk9aCobbVDHc6eek'},\n",
       "  'href': 'https://api.spotify.com/v1/artists/19eLuQmk9aCobbVDHc6eek',\n",
       "  'id': '19eLuQmk9aCobbVDHc6eek',\n",
       "  'name': 'Louis Armstrong',\n",
       "  'type': 'artist',\n",
       "  'uri': 'spotify:artist:19eLuQmk9aCobbVDHc6eek'}]"
      ]
     },
     "execution_count": 27,
     "metadata": {},
     "output_type": "execute_result"
    }
   ],
   "source": [
    "my_dict['Ella Fitzgerald']['tracks']['items'][0]['artists']"
   ]
  },
  {
   "cell_type": "code",
   "execution_count": 28,
   "metadata": {},
   "outputs": [
    {
     "data": {
      "text/plain": [
       "'Dream A Little Dream Of Me - Single Version'"
      ]
     },
     "execution_count": 28,
     "metadata": {},
     "output_type": "execute_result"
    }
   ],
   "source": [
    "my_dict['Ella Fitzgerald']['tracks']['items'][0]['name']"
   ]
  },
  {
   "cell_type": "code",
   "execution_count": 29,
   "metadata": {},
   "outputs": [
    {
     "data": {
      "text/plain": [
       "{'spotify': 'https://open.spotify.com/track/78MI7mu1LV1k4IA2HzKmHe'}"
      ]
     },
     "execution_count": 29,
     "metadata": {},
     "output_type": "execute_result"
    }
   ],
   "source": [
    "my_dict['Ella Fitzgerald']['tracks']['items'][0]['external_urls']"
   ]
  },
  {
   "cell_type": "code",
   "execution_count": 30,
   "metadata": {},
   "outputs": [
    {
     "data": {
      "text/plain": [
       "'spotify:track:78MI7mu1LV1k4IA2HzKmHe'"
      ]
     },
     "execution_count": 30,
     "metadata": {},
     "output_type": "execute_result"
    }
   ],
   "source": [
    "my_dict['Ella Fitzgerald']['tracks']['items'][0]['uri']"
   ]
  },
  {
   "cell_type": "code",
   "execution_count": 31,
   "metadata": {},
   "outputs": [
    {
     "data": {
      "text/plain": [
       "'78MI7mu1LV1k4IA2HzKmHe'"
      ]
     },
     "execution_count": 31,
     "metadata": {},
     "output_type": "execute_result"
    }
   ],
   "source": [
    "my_dict['Ella Fitzgerald']['tracks']['items'][0]['id']"
   ]
  },
  {
   "cell_type": "code",
   "execution_count": 32,
   "metadata": {},
   "outputs": [],
   "source": [
    "#experiment : \n",
    "three_artists = [\"Dire Straits\", \"Queen\", \"Ella Fitzgerald\"]"
   ]
  },
  {
   "cell_type": "code",
   "execution_count": 33,
   "metadata": {},
   "outputs": [
    {
     "data": {
      "text/plain": [
       "3"
      ]
     },
     "execution_count": 33,
     "metadata": {},
     "output_type": "execute_result"
    }
   ],
   "source": [
    "len(artist_to_track_dict(three_artists))"
   ]
  },
  {
   "cell_type": "markdown",
   "metadata": {},
   "source": [
    "# look at artists and albums from first query results"
   ]
  },
  {
   "cell_type": "code",
   "execution_count": 34,
   "metadata": {},
   "outputs": [
    {
     "data": {
      "text/plain": [
       "dict_keys(['album', 'artists', 'available_markets', 'disc_number', 'duration_ms', 'explicit', 'external_ids', 'external_urls', 'href', 'id', 'is_local', 'name', 'popularity', 'preview_url', 'track_number', 'type', 'uri'])"
      ]
     },
     "execution_count": 34,
     "metadata": {},
     "output_type": "execute_result"
    }
   ],
   "source": [
    "results['tracks']['items'][13].keys()"
   ]
  },
  {
   "cell_type": "code",
   "execution_count": 35,
   "metadata": {},
   "outputs": [
    {
     "data": {
      "text/plain": [
       "'Queen'"
      ]
     },
     "execution_count": 35,
     "metadata": {},
     "output_type": "execute_result"
    }
   ],
   "source": [
    "results['tracks']['items'][13]['artists'][0]['name']"
   ]
  },
  {
   "cell_type": "code",
   "execution_count": 36,
   "metadata": {},
   "outputs": [
    {
     "data": {
      "text/plain": [
       "dict_keys(['album_type', 'artists', 'available_markets', 'external_urls', 'href', 'id', 'images', 'name', 'release_date', 'release_date_precision', 'total_tracks', 'type', 'uri'])"
      ]
     },
     "execution_count": 36,
     "metadata": {},
     "output_type": "execute_result"
    }
   ],
   "source": [
    "results['tracks']['items'][13]['album'].keys()"
   ]
  },
  {
   "cell_type": "code",
   "execution_count": 37,
   "metadata": {},
   "outputs": [
    {
     "data": {
      "text/plain": [
       "'Sheer Heart Attack (Deluxe Remastered Version)'"
      ]
     },
     "execution_count": 37,
     "metadata": {},
     "output_type": "execute_result"
    }
   ],
   "source": [
    "results['tracks']['items'][13]['album']['name']"
   ]
  },
  {
   "cell_type": "code",
   "execution_count": 38,
   "metadata": {},
   "outputs": [
    {
     "data": {
      "text/plain": [
       "'Queen'"
      ]
     },
     "execution_count": 38,
     "metadata": {},
     "output_type": "execute_result"
    }
   ],
   "source": [
    "results['tracks']['items'][13]['album']['artists'][0]['name']"
   ]
  },
  {
   "cell_type": "markdown",
   "metadata": {},
   "source": [
    "# Activity 2 "
   ]
  },
  {
   "cell_type": "markdown",
   "metadata": {},
   "source": [
    "Function to get the artists involved in a song:"
   ]
  },
  {
   "cell_type": "markdown",
   "metadata": {},
   "source": [
    "Function to get the \"id's\" of the artists from a song:"
   ]
  },
  {
   "cell_type": "code",
   "execution_count": 39,
   "metadata": {},
   "outputs": [],
   "source": [
    "results = sp.track('78MI7mu1LV1k4IA2HzKmHe', market='GB')"
   ]
  },
  {
   "cell_type": "code",
   "execution_count": 40,
   "metadata": {},
   "outputs": [
    {
     "data": {
      "text/plain": [
       "dict_keys(['album', 'artists', 'disc_number', 'duration_ms', 'explicit', 'external_ids', 'external_urls', 'href', 'id', 'is_local', 'is_playable', 'name', 'popularity', 'preview_url', 'track_number', 'type', 'uri'])"
      ]
     },
     "execution_count": 40,
     "metadata": {},
     "output_type": "execute_result"
    }
   ],
   "source": [
    "results.keys()"
   ]
  },
  {
   "cell_type": "code",
   "execution_count": null,
   "metadata": {},
   "outputs": [],
   "source": [
    "results"
   ]
  },
  {
   "cell_type": "code",
   "execution_count": 42,
   "metadata": {},
   "outputs": [
    {
     "data": {
      "text/plain": [
       "dict"
      ]
     },
     "execution_count": 42,
     "metadata": {},
     "output_type": "execute_result"
    }
   ],
   "source": [
    "type(results)"
   ]
  },
  {
   "cell_type": "code",
   "execution_count": 43,
   "metadata": {},
   "outputs": [
    {
     "data": {
      "text/plain": [
       "range(0, 2)"
      ]
     },
     "execution_count": 43,
     "metadata": {},
     "output_type": "execute_result"
    }
   ],
   "source": [
    "range(len(results['artists']))"
   ]
  },
  {
   "cell_type": "code",
   "execution_count": 44,
   "metadata": {},
   "outputs": [
    {
     "data": {
      "text/plain": [
       "'5V0MlUE1Bft0mbLlND7FJz'"
      ]
     },
     "execution_count": 44,
     "metadata": {},
     "output_type": "execute_result"
    }
   ],
   "source": [
    "results['artists'][0]['id']"
   ]
  },
  {
   "cell_type": "code",
   "execution_count": 45,
   "metadata": {},
   "outputs": [
    {
     "data": {
      "text/plain": [
       "'Ella Fitzgerald'"
      ]
     },
     "execution_count": 45,
     "metadata": {},
     "output_type": "execute_result"
    }
   ],
   "source": [
    "results['artists'][0]['name']"
   ]
  },
  {
   "cell_type": "code",
   "execution_count": 46,
   "metadata": {},
   "outputs": [],
   "source": [
    "import pandas as pd"
   ]
  },
  {
   "cell_type": "code",
   "execution_count": 47,
   "metadata": {},
   "outputs": [],
   "source": [
    "#get artist date from one song id \n",
    "artist_names=[]\n",
    "artist_ids=[]\n",
    "def get_artist_from_track(track_id):\n",
    "    search=sp.track(track_id, market='GB')\n",
    "    listofartists=search['artists']\n",
    "    for a in range(len(listofartists)):\n",
    "        artist_name=listofartists[a]['name']\n",
    "        artist_names.append(artist_name)\n",
    "        artist_id=listofartists[a]['id']\n",
    "        artist_ids.append(artist_id)\n",
    "    artists_df=pd.DataFrame({\"artist\":artist_names,\"id\":artist_ids})\n",
    "    return artists_df"
   ]
  },
  {
   "cell_type": "code",
   "execution_count": 48,
   "metadata": {},
   "outputs": [
    {
     "data": {
      "text/html": [
       "<div>\n",
       "<style scoped>\n",
       "    .dataframe tbody tr th:only-of-type {\n",
       "        vertical-align: middle;\n",
       "    }\n",
       "\n",
       "    .dataframe tbody tr th {\n",
       "        vertical-align: top;\n",
       "    }\n",
       "\n",
       "    .dataframe thead th {\n",
       "        text-align: right;\n",
       "    }\n",
       "</style>\n",
       "<table border=\"1\" class=\"dataframe\">\n",
       "  <thead>\n",
       "    <tr style=\"text-align: right;\">\n",
       "      <th></th>\n",
       "      <th>artist</th>\n",
       "      <th>id</th>\n",
       "    </tr>\n",
       "  </thead>\n",
       "  <tbody>\n",
       "    <tr>\n",
       "      <th>0</th>\n",
       "      <td>Ella Fitzgerald</td>\n",
       "      <td>5V0MlUE1Bft0mbLlND7FJz</td>\n",
       "    </tr>\n",
       "    <tr>\n",
       "      <th>1</th>\n",
       "      <td>Louis Armstrong</td>\n",
       "      <td>19eLuQmk9aCobbVDHc6eek</td>\n",
       "    </tr>\n",
       "  </tbody>\n",
       "</table>\n",
       "</div>"
      ],
      "text/plain": [
       "            artist                      id\n",
       "0  Ella Fitzgerald  5V0MlUE1Bft0mbLlND7FJz\n",
       "1  Louis Armstrong  19eLuQmk9aCobbVDHc6eek"
      ]
     },
     "execution_count": 48,
     "metadata": {},
     "output_type": "execute_result"
    }
   ],
   "source": [
    "get_artist_from_track('78MI7mu1LV1k4IA2HzKmHe')"
   ]
  },
  {
   "cell_type": "code",
   "execution_count": 49,
   "metadata": {},
   "outputs": [],
   "source": [
    "# apply the above to a dictionary of tracks - first get the song ids \n",
    "song_ids=[]\n",
    "def song_ids_from_dict_tracks(my_artist_tracks_dict):\n",
    "    for key,value in my_artist_tracks_dict.items():\n",
    "        songs=my_artist_tracks_dict[key]['tracks']['items']\n",
    "        for i in range(len(songs)):\n",
    "            song_id=songs[i]['id']\n",
    "            song_ids.append(song_id)"
   ]
  },
  {
   "cell_type": "code",
   "execution_count": 50,
   "metadata": {},
   "outputs": [],
   "source": [
    "my_artist_tracks_dict=artist_to_track_dict(three_artists)"
   ]
  },
  {
   "cell_type": "code",
   "execution_count": 51,
   "metadata": {},
   "outputs": [],
   "source": [
    "song_ids_from_dict_tracks(my_artist_tracks_dict)"
   ]
  },
  {
   "cell_type": "code",
   "execution_count": 52,
   "metadata": {},
   "outputs": [
    {
     "data": {
      "text/plain": [
       "['6cr6UDpkjEaMQ80OjWqEBQ',\n",
       " '4yqtwO7MQIIXqoiRBPHAgR',\n",
       " '423o3ZHIaBtGXyhF1uH41a',\n",
       " '0l6qqdVBT6rue1X1ZPneEZ',\n",
       " '57MflfPN3ObQQAQtPUp0WF',\n",
       " '3pGBIgFdfdnjtHDJR4nbrR',\n",
       " '0bzAPb98TlpNnVPDM5AvtM',\n",
       " '26tWBbtjvgi0tipRL2VQ2X',\n",
       " '7dRrGFypClyo0iNxSyxpnD',\n",
       " '1E8qiEnaCzyiOicYsabbtX',\n",
       " '2whYf5duw5d3N48wEseuXJ',\n",
       " '3mwFncaI2HBczQ92GP9MQF',\n",
       " '0NnuQYRXNIzncgftfbTV3P',\n",
       " '06ku5BBS2HufqSDVkcSR15',\n",
       " '4UK1g9Z1lWedkmIQuSyCe5',\n",
       " '071BtONQBIq4SkvO0okS4k',\n",
       " '4Yy5d21CJvXQ8cOuaTiCRD',\n",
       " '5EoD2H4HEX3lQd0l7CsHA1',\n",
       " '7f8mgCngOGhoRNAmhN6GIo',\n",
       " '6fg1xaDxkuQVJjwrgjx837',\n",
       " '6zvJJLQdJuM81BDkBJDAh9',\n",
       " '0OevHezRJXNhNeL7SEJbdG',\n",
       " '77OfuDUHpsVxb7tHrbmtte',\n",
       " '5rEEkF2wZsHfFHTaEknuji',\n",
       " '14huXhLmxSdpL52WL0y8gn',\n",
       " '0zUGApAGHySZcuJ70e1rkI',\n",
       " '5vFHb32rxC8sAsV5gOlZSP',\n",
       " '4dqwmCPyhseZe5j3bgqfws',\n",
       " '1wttxNcudvqE58NQpY7Jdk',\n",
       " '7tGgPpuXvofKCkjOEmLQ9t',\n",
       " '0SqUwlygrVkMWkplNvvld1',\n",
       " '1laOaJ0vcBx3cjUhH50mW7',\n",
       " '1fBxdTUpYGQPYkOfxM9uhe',\n",
       " '2XvGUsoEFpDsmfxlNsL5lL',\n",
       " '0k6KE0DIlGGmGK6yL54shP',\n",
       " '7LXxMApcyuh5A3sod0nV5s',\n",
       " '6MzKPuwhG9cFVRkKQ7RrtH',\n",
       " '6tM6gqc1liYA4403w1nyCc',\n",
       " '6cSqru6PFkJkpCrG2JhrFM',\n",
       " '5ij84aZDvRN4zSHSh2L6pl',\n",
       " '0YZpddkZ56oTPgzNvKq5Um',\n",
       " '3y9OZdKktjcFQIMls0gkkD',\n",
       " '2LvVHdbwwVGjbQZ7FbVnIE',\n",
       " '1NJBWqK7Uxxj02MUnIKcF6',\n",
       " '62KeChWhY7Inuu8CPSHE3w',\n",
       " '541EP6U9FXMjq1ulE7v3w8',\n",
       " '134JuWUat5SCHkIYEtRvO7',\n",
       " '0dZLTxbaiGYOYIEv9eqePP',\n",
       " '4XNpCQO0btQXDIZMn8UGDs',\n",
       " '7G4331Z7l2A3Tsa8REV91N',\n",
       " '1xyUCr7dIJYaUaaiDf4Q1L',\n",
       " '0GjEhVFGZW8afUYGChu3Rr',\n",
       " '6l8GvAyoUZwWDgF1e4822w',\n",
       " '3Wz9Fm9ZyhpaRGxMlSR5G4',\n",
       " '2d8JP84HNLKhmd6IYOoupQ',\n",
       " '53b4d9jHQZq89EtQxwUURr',\n",
       " '6SpPr7K4YQ2wp8jU6uOTmQ',\n",
       " '6MpCaSIOfqBqbMED4kXgNY',\n",
       " '4o05DiC0RQ9DNtGJGauwna',\n",
       " '0j4cYdOkHQgxARa0oHvECE',\n",
       " '0a9sd6MEXZXIPHk0fAxpZ4',\n",
       " '7tFiyTwD0nx5a1eklYtX2J',\n",
       " '7a53HqqArd4b9NF4XAmlbI',\n",
       " '7GqWnsKhMtEW0nzki5o0d8',\n",
       " '7hQJA50XrCWABAu5v6QZ4i',\n",
       " '0ExiKxfY5rHBW06TcV1xXU',\n",
       " '57JVGBtBLCfHw2muk5416J',\n",
       " '0qo1JukfClmpHnUOJxpFXi',\n",
       " '25H6P7a94WUr5102lC6TNI',\n",
       " '11IzgLRXV7Cgek3tEgGgjw',\n",
       " '54flyrjcdnQdco7300avMJ',\n",
       " '3pEINn37iH5fx8TpXYNGIO',\n",
       " '4pqXKc9jDaeXNh9Iuo3E3E',\n",
       " '6cFZ4PLC19taNlpl9pbGMf',\n",
       " '6N1K5OVVCopBjGViHs2IvP',\n",
       " '2oJG54pCeFBlc63HuZrOX8',\n",
       " '4vO9dmzNRqDhFY3jD1a3P7',\n",
       " '7zFXDAZ2V52022GPNYOxyH',\n",
       " '14OxJlLdcHNpgsm4DRwDOB',\n",
       " '7ccI9cStQbQdystvc6TvxD',\n",
       " '0CETmgFGt8Ne8vLnaLcduU',\n",
       " '5m4TMhR7wQQGxelJa7lToQ',\n",
       " '2eU9kOnUMcaBIM4vjZrP0l',\n",
       " '1ORNNM17VP9nwrmmmfBuke',\n",
       " '3gC6jF7vZMG0ZikklujFcy',\n",
       " '2xVCwFrNYnllRX1g0drYVI',\n",
       " '2ZdCrBA52bb4pIG3tOOZiQ',\n",
       " '4JMTWtybQVXP8yaEEBIhto',\n",
       " '1mnQiO568zXIrUncttTZGp',\n",
       " '5y9uESGX3Q9VOLWJ4fFbcd',\n",
       " '35ItUJlMtjOQW3SSiTCrrw',\n",
       " '2GbS8QZToLioxL8XMEwX3P',\n",
       " '5rQKjP9forn7JVuiZBj6eZ',\n",
       " '2Y3x5VcEAxLNmVHxQOE0jB',\n",
       " '4KfSdst7rW39C0sfhArdrz',\n",
       " '6R6ib5FgDYlG0rPA9c5DVv',\n",
       " '2lxW8vQ9Qjv0qeSQiIBOKJ',\n",
       " '6MdqqkQ8sSC0WB4i8PyRuQ',\n",
       " '1HmzAZUvhQLhLo2z3ocpZI',\n",
       " '5tkR9JkBj3Ueeo8W4k8IZD',\n",
       " '78MI7mu1LV1k4IA2HzKmHe',\n",
       " '33jt3kYWjQzqn3xyYQ5ZEh',\n",
       " '2U8D3hTpsgAGZBnNLSoAZQ',\n",
       " '2gNjmvuQiEd2z9SqyYi8HH',\n",
       " '373yGkNo74RZgmQgTiR8xK',\n",
       " '0RGMEpSB5iF6uD0ojXIiWz',\n",
       " '70Hl6QYIJGmrR7NBl666Y6',\n",
       " '1V4NaFlrUCK49MXcdOcVeS',\n",
       " '5BLr7EEgi2JdKbMbYjFXas',\n",
       " '2Co0JqgbSXZ0ouldYKv6ck',\n",
       " '0f2489MzoisF9pKduawvce',\n",
       " '0SIzIfR6913S1oqTbyg8YC',\n",
       " '5DIVWgTeJ2fPIxaY9e7ZKn',\n",
       " '5CY039j1Mt4fGfBzfJqBNP',\n",
       " '4kF394GKEnI13QdZBM9mxM',\n",
       " '5RcvlmVx2xtFcp2Ta5pw7X',\n",
       " '0gE63HwMeWgK30ONO4witM',\n",
       " '3MRu7wA7ziRNf2cZr9gqtb',\n",
       " '06h1NQ3DpZnuugQrCLVDYY',\n",
       " '5gPetRvxQKyOjjwZX1dzbt',\n",
       " '4ZXPJ8Se9PUMm59rm6ohfd',\n",
       " '39CdOo5GPGSIdxWDvyyWkr',\n",
       " '2GZUCmFanqsTYfsjsdfUb6',\n",
       " '5GIXT7rz7ID6w6LFb0N41J',\n",
       " '6W7fKOpLuyymGiqUS3VWqU',\n",
       " '11pHiBQfJyLJafOflgzkln',\n",
       " '5i35BxhfUqa7AAMDvcuOdi',\n",
       " '3dnr2FigpqoQ7pNA4EKtp3',\n",
       " '7sO8fLoq7H3er7C24UtLiF',\n",
       " '36KStm44i8gAqnQkm3PY9c',\n",
       " '65AdKtpL8F3alW7QLD5UNj',\n",
       " '6NDaYWg85ZnJ3Ae0WkILWh',\n",
       " '5OjlWOb1Iilm0QFLh17j3U',\n",
       " '0KBvapFwuz8gPKu6Gw23WN',\n",
       " '6vubuLvaXL1bO4hQbAzG2E',\n",
       " '0uqoRVmmU2WM9iDgQBf23R',\n",
       " '1NV8LlaC1InXaDQOcMBQTg',\n",
       " '5S31HUP7cg0iOFxZ3QGFN5',\n",
       " '5BsZXTkg5gz94v2HkhxXFe',\n",
       " '5GhwPGUHLh1tKl97J1dH9P',\n",
       " '5TNpCThzzXHEipXGKgNG8T',\n",
       " '7paEvsQ08LWCV8Agvo9CWa',\n",
       " '3aaeRQeZKFkGFPdg4nhwX2',\n",
       " '0f219XLMzkolxAirekgY0X',\n",
       " '1E88lcBjX5VF9m9PENWVo5',\n",
       " '4y8icjzu6fZP503Mg31Tpn',\n",
       " '3YcYPrzbJ0o9xhrwMZLIjr',\n",
       " '5K6k8BTioMS9dREUJiGpp1',\n",
       " '05A9LSscRO6tHX3xgoDJ0p',\n",
       " '3SvHikNlcFgsOceCwbiUpV']"
      ]
     },
     "execution_count": 52,
     "metadata": {},
     "output_type": "execute_result"
    }
   ],
   "source": [
    "song_ids"
   ]
  },
  {
   "cell_type": "code",
   "execution_count": 53,
   "metadata": {},
   "outputs": [
    {
     "data": {
      "text/plain": [
       "150"
      ]
     },
     "execution_count": 53,
     "metadata": {},
     "output_type": "execute_result"
    }
   ],
   "source": [
    "len(song_ids)"
   ]
  },
  {
   "cell_type": "code",
   "execution_count": 54,
   "metadata": {},
   "outputs": [],
   "source": [
    "# now test tracks method to retrieve artists from list of songs \n",
    "# maximum is 50 so we will take a cut of songs \n",
    "fifty_songs=song_ids[0:30]\n",
    "track_list=sp.tracks(fifty_songs, market='GB') # maximum is 50 so we will take the first 50 songs "
   ]
  },
  {
   "cell_type": "code",
   "execution_count": 55,
   "metadata": {},
   "outputs": [
    {
     "data": {
      "text/plain": [
       "range(0, 30)"
      ]
     },
     "execution_count": 55,
     "metadata": {},
     "output_type": "execute_result"
    }
   ],
   "source": [
    "range(len(track_list['tracks']))"
   ]
  },
  {
   "cell_type": "code",
   "execution_count": 56,
   "metadata": {},
   "outputs": [
    {
     "data": {
      "text/plain": [
       "{'external_urls': {'spotify': 'https://open.spotify.com/artist/0WwSkZ7LtFUFjGjMZBMt6T'},\n",
       " 'href': 'https://api.spotify.com/v1/artists/0WwSkZ7LtFUFjGjMZBMt6T',\n",
       " 'id': '0WwSkZ7LtFUFjGjMZBMt6T',\n",
       " 'name': 'Dire Straits',\n",
       " 'type': 'artist',\n",
       " 'uri': 'spotify:artist:0WwSkZ7LtFUFjGjMZBMt6T'}"
      ]
     },
     "execution_count": 56,
     "metadata": {},
     "output_type": "execute_result"
    }
   ],
   "source": [
    "(track_list['tracks'])[0]['artists'][0]"
   ]
  },
  {
   "cell_type": "code",
   "execution_count": 57,
   "metadata": {},
   "outputs": [],
   "source": [
    "artist_names=[]\n",
    "artist_ids=[]\n",
    "def get_artist_from_track_list(songs):\n",
    "    search=sp.tracks(songs, market='GB')\n",
    "    all_tracks_data=search['tracks']\n",
    "    for t in range(len(all_tracks_data)):\n",
    "        artist_record=search['tracks'][t]['artists']\n",
    "        for a in range(len(artist_record)):\n",
    "            artist_name=artist_record[a]['name']\n",
    "            artist_names.append(artist_name)\n",
    "            artist_id=artist_record[a]['id']\n",
    "            artist_ids.append(artist_id)\n",
    "    artists_df=pd.DataFrame({\"artist\":artist_names,\"id\":artist_ids})\n",
    "    return artists_df"
   ]
  },
  {
   "cell_type": "code",
   "execution_count": 58,
   "metadata": {},
   "outputs": [
    {
     "data": {
      "text/html": [
       "<div>\n",
       "<style scoped>\n",
       "    .dataframe tbody tr th:only-of-type {\n",
       "        vertical-align: middle;\n",
       "    }\n",
       "\n",
       "    .dataframe tbody tr th {\n",
       "        vertical-align: top;\n",
       "    }\n",
       "\n",
       "    .dataframe thead th {\n",
       "        text-align: right;\n",
       "    }\n",
       "</style>\n",
       "<table border=\"1\" class=\"dataframe\">\n",
       "  <thead>\n",
       "    <tr style=\"text-align: right;\">\n",
       "      <th></th>\n",
       "      <th>artist</th>\n",
       "      <th>id</th>\n",
       "    </tr>\n",
       "  </thead>\n",
       "  <tbody>\n",
       "    <tr>\n",
       "      <th>0</th>\n",
       "      <td>Dire Straits</td>\n",
       "      <td>0WwSkZ7LtFUFjGjMZBMt6T</td>\n",
       "    </tr>\n",
       "    <tr>\n",
       "      <th>1</th>\n",
       "      <td>Dire Straits</td>\n",
       "      <td>0WwSkZ7LtFUFjGjMZBMt6T</td>\n",
       "    </tr>\n",
       "    <tr>\n",
       "      <th>2</th>\n",
       "      <td>Dire Straits</td>\n",
       "      <td>0WwSkZ7LtFUFjGjMZBMt6T</td>\n",
       "    </tr>\n",
       "    <tr>\n",
       "      <th>3</th>\n",
       "      <td>Dire Straits</td>\n",
       "      <td>0WwSkZ7LtFUFjGjMZBMt6T</td>\n",
       "    </tr>\n",
       "    <tr>\n",
       "      <th>4</th>\n",
       "      <td>Dire Straits</td>\n",
       "      <td>0WwSkZ7LtFUFjGjMZBMt6T</td>\n",
       "    </tr>\n",
       "    <tr>\n",
       "      <th>5</th>\n",
       "      <td>Dire Straits</td>\n",
       "      <td>0WwSkZ7LtFUFjGjMZBMt6T</td>\n",
       "    </tr>\n",
       "    <tr>\n",
       "      <th>6</th>\n",
       "      <td>Blake</td>\n",
       "      <td>7dJyMvpENq3xerjTPtwZvF</td>\n",
       "    </tr>\n",
       "    <tr>\n",
       "      <th>7</th>\n",
       "      <td>Dire Straits</td>\n",
       "      <td>0WwSkZ7LtFUFjGjMZBMt6T</td>\n",
       "    </tr>\n",
       "    <tr>\n",
       "      <th>8</th>\n",
       "      <td>Dire Straits</td>\n",
       "      <td>0WwSkZ7LtFUFjGjMZBMt6T</td>\n",
       "    </tr>\n",
       "    <tr>\n",
       "      <th>9</th>\n",
       "      <td>Dire Straits</td>\n",
       "      <td>0WwSkZ7LtFUFjGjMZBMt6T</td>\n",
       "    </tr>\n",
       "    <tr>\n",
       "      <th>10</th>\n",
       "      <td>Dire Straits</td>\n",
       "      <td>0WwSkZ7LtFUFjGjMZBMt6T</td>\n",
       "    </tr>\n",
       "    <tr>\n",
       "      <th>11</th>\n",
       "      <td>Dire Straits</td>\n",
       "      <td>0WwSkZ7LtFUFjGjMZBMt6T</td>\n",
       "    </tr>\n",
       "    <tr>\n",
       "      <th>12</th>\n",
       "      <td>Dire Straits</td>\n",
       "      <td>0WwSkZ7LtFUFjGjMZBMt6T</td>\n",
       "    </tr>\n",
       "    <tr>\n",
       "      <th>13</th>\n",
       "      <td>Dire Straits</td>\n",
       "      <td>0WwSkZ7LtFUFjGjMZBMt6T</td>\n",
       "    </tr>\n",
       "    <tr>\n",
       "      <th>14</th>\n",
       "      <td>Dire Straits</td>\n",
       "      <td>0WwSkZ7LtFUFjGjMZBMt6T</td>\n",
       "    </tr>\n",
       "    <tr>\n",
       "      <th>15</th>\n",
       "      <td>Dire Straits</td>\n",
       "      <td>0WwSkZ7LtFUFjGjMZBMt6T</td>\n",
       "    </tr>\n",
       "    <tr>\n",
       "      <th>16</th>\n",
       "      <td>Dire Straits</td>\n",
       "      <td>0WwSkZ7LtFUFjGjMZBMt6T</td>\n",
       "    </tr>\n",
       "    <tr>\n",
       "      <th>17</th>\n",
       "      <td>Dire Straits</td>\n",
       "      <td>0WwSkZ7LtFUFjGjMZBMt6T</td>\n",
       "    </tr>\n",
       "    <tr>\n",
       "      <th>18</th>\n",
       "      <td>Dire Straits</td>\n",
       "      <td>0WwSkZ7LtFUFjGjMZBMt6T</td>\n",
       "    </tr>\n",
       "    <tr>\n",
       "      <th>19</th>\n",
       "      <td>Dire Straits</td>\n",
       "      <td>0WwSkZ7LtFUFjGjMZBMt6T</td>\n",
       "    </tr>\n",
       "    <tr>\n",
       "      <th>20</th>\n",
       "      <td>Mark Knopfler</td>\n",
       "      <td>0FI0kxP0BWurTz8cB8BBug</td>\n",
       "    </tr>\n",
       "    <tr>\n",
       "      <th>21</th>\n",
       "      <td>Emmylou Harris</td>\n",
       "      <td>5s6TJEuHTr9GR894wc6VfP</td>\n",
       "    </tr>\n",
       "    <tr>\n",
       "      <th>22</th>\n",
       "      <td>Dire Straits</td>\n",
       "      <td>0WwSkZ7LtFUFjGjMZBMt6T</td>\n",
       "    </tr>\n",
       "    <tr>\n",
       "      <th>23</th>\n",
       "      <td>Dire Straits</td>\n",
       "      <td>0WwSkZ7LtFUFjGjMZBMt6T</td>\n",
       "    </tr>\n",
       "    <tr>\n",
       "      <th>24</th>\n",
       "      <td>Dire Straits</td>\n",
       "      <td>0WwSkZ7LtFUFjGjMZBMt6T</td>\n",
       "    </tr>\n",
       "    <tr>\n",
       "      <th>25</th>\n",
       "      <td>Dire Straits</td>\n",
       "      <td>0WwSkZ7LtFUFjGjMZBMt6T</td>\n",
       "    </tr>\n",
       "    <tr>\n",
       "      <th>26</th>\n",
       "      <td>Dire Straits</td>\n",
       "      <td>0WwSkZ7LtFUFjGjMZBMt6T</td>\n",
       "    </tr>\n",
       "    <tr>\n",
       "      <th>27</th>\n",
       "      <td>Dire Straits</td>\n",
       "      <td>0WwSkZ7LtFUFjGjMZBMt6T</td>\n",
       "    </tr>\n",
       "    <tr>\n",
       "      <th>28</th>\n",
       "      <td>Dire Straits</td>\n",
       "      <td>0WwSkZ7LtFUFjGjMZBMt6T</td>\n",
       "    </tr>\n",
       "    <tr>\n",
       "      <th>29</th>\n",
       "      <td>Dire Straits</td>\n",
       "      <td>0WwSkZ7LtFUFjGjMZBMt6T</td>\n",
       "    </tr>\n",
       "    <tr>\n",
       "      <th>30</th>\n",
       "      <td>Dire Straits</td>\n",
       "      <td>0WwSkZ7LtFUFjGjMZBMt6T</td>\n",
       "    </tr>\n",
       "  </tbody>\n",
       "</table>\n",
       "</div>"
      ],
      "text/plain": [
       "            artist                      id\n",
       "0     Dire Straits  0WwSkZ7LtFUFjGjMZBMt6T\n",
       "1     Dire Straits  0WwSkZ7LtFUFjGjMZBMt6T\n",
       "2     Dire Straits  0WwSkZ7LtFUFjGjMZBMt6T\n",
       "3     Dire Straits  0WwSkZ7LtFUFjGjMZBMt6T\n",
       "4     Dire Straits  0WwSkZ7LtFUFjGjMZBMt6T\n",
       "5     Dire Straits  0WwSkZ7LtFUFjGjMZBMt6T\n",
       "6            Blake  7dJyMvpENq3xerjTPtwZvF\n",
       "7     Dire Straits  0WwSkZ7LtFUFjGjMZBMt6T\n",
       "8     Dire Straits  0WwSkZ7LtFUFjGjMZBMt6T\n",
       "9     Dire Straits  0WwSkZ7LtFUFjGjMZBMt6T\n",
       "10    Dire Straits  0WwSkZ7LtFUFjGjMZBMt6T\n",
       "11    Dire Straits  0WwSkZ7LtFUFjGjMZBMt6T\n",
       "12    Dire Straits  0WwSkZ7LtFUFjGjMZBMt6T\n",
       "13    Dire Straits  0WwSkZ7LtFUFjGjMZBMt6T\n",
       "14    Dire Straits  0WwSkZ7LtFUFjGjMZBMt6T\n",
       "15    Dire Straits  0WwSkZ7LtFUFjGjMZBMt6T\n",
       "16    Dire Straits  0WwSkZ7LtFUFjGjMZBMt6T\n",
       "17    Dire Straits  0WwSkZ7LtFUFjGjMZBMt6T\n",
       "18    Dire Straits  0WwSkZ7LtFUFjGjMZBMt6T\n",
       "19    Dire Straits  0WwSkZ7LtFUFjGjMZBMt6T\n",
       "20   Mark Knopfler  0FI0kxP0BWurTz8cB8BBug\n",
       "21  Emmylou Harris  5s6TJEuHTr9GR894wc6VfP\n",
       "22    Dire Straits  0WwSkZ7LtFUFjGjMZBMt6T\n",
       "23    Dire Straits  0WwSkZ7LtFUFjGjMZBMt6T\n",
       "24    Dire Straits  0WwSkZ7LtFUFjGjMZBMt6T\n",
       "25    Dire Straits  0WwSkZ7LtFUFjGjMZBMt6T\n",
       "26    Dire Straits  0WwSkZ7LtFUFjGjMZBMt6T\n",
       "27    Dire Straits  0WwSkZ7LtFUFjGjMZBMt6T\n",
       "28    Dire Straits  0WwSkZ7LtFUFjGjMZBMt6T\n",
       "29    Dire Straits  0WwSkZ7LtFUFjGjMZBMt6T\n",
       "30    Dire Straits  0WwSkZ7LtFUFjGjMZBMt6T"
      ]
     },
     "execution_count": 58,
     "metadata": {},
     "output_type": "execute_result"
    }
   ],
   "source": [
    "get_artist_from_track_list(fifty_songs)"
   ]
  },
  {
   "cell_type": "markdown",
   "metadata": {},
   "source": [
    "# Playlists\n",
    "\n",
    "We will need to collect a \"database\" of songs. Playlists are a good way to access relatively large amounts of songs."
   ]
  },
  {
   "cell_type": "code",
   "execution_count": 59,
   "metadata": {},
   "outputs": [],
   "source": [
    "playlist_2 = sp.user_playlist_tracks(\"Chris Connor\", \"6IUloum8FQGE1PrObJZavG\")\n",
    "\n",
    "#https://open.spotify.com/playlist/6IUloum8FQGE1PrObJZavG?si=7420a44dca53435a - copied from spotify"
   ]
  },
  {
   "cell_type": "code",
   "execution_count": 60,
   "metadata": {},
   "outputs": [
    {
     "data": {
      "text/plain": [
       "51"
      ]
     },
     "execution_count": 60,
     "metadata": {},
     "output_type": "execute_result"
    }
   ],
   "source": [
    "playlist_2[\"total\"]"
   ]
  },
  {
   "cell_type": "code",
   "execution_count": 61,
   "metadata": {},
   "outputs": [
    {
     "data": {
      "text/plain": [
       "'0KT6DLAELYSbgfUemzwGPX'"
      ]
     },
     "execution_count": 61,
     "metadata": {},
     "output_type": "execute_result"
    }
   ],
   "source": [
    "playlist_2['items'][0]['track']['id']"
   ]
  },
  {
   "cell_type": "markdown",
   "metadata": {},
   "source": [
    "# Activity 3 "
   ]
  },
  {
   "cell_type": "markdown",
   "metadata": {},
   "source": [
    "### Function to extract all songs ID, name, artist from a playlist\n",
    "\n",
    "Output: Dictionary with key: song ID and values: list(song name, artist)."
   ]
  },
  {
   "cell_type": "code",
   "execution_count": 64,
   "metadata": {},
   "outputs": [],
   "source": [
    "songs = {\n",
    "  track[\"track\"][\"id\"]: [track[\"track\"][\"name\"], \n",
    "  track[\"track\"][\"artists\"][0][\"name\"]] \n",
    "  for track in playlist_2[\"items\"]\n",
    "}"
   ]
  },
  {
   "cell_type": "code",
   "execution_count": 65,
   "metadata": {},
   "outputs": [],
   "source": [
    "playlist_trackIDs=[]"
   ]
  },
  {
   "cell_type": "code",
   "execution_count": 66,
   "metadata": {},
   "outputs": [],
   "source": [
    "def songsfromplaylist(username,playlist_id):\n",
    "    playlist=sp.user_playlist_tracks(username, playlist_id)\n",
    "    for item in playlist['items']:\n",
    "        playlist_trackIDs.append(item['track']['id'])"
   ]
  },
  {
   "cell_type": "code",
   "execution_count": 67,
   "metadata": {},
   "outputs": [],
   "source": [
    "songsfromplaylist(\"Chris Connor\", \"6IUloum8FQGE1PrObJZavG\")"
   ]
  },
  {
   "cell_type": "code",
   "execution_count": 70,
   "metadata": {
    "collapsed": true
   },
   "outputs": [
    {
     "data": {
      "text/plain": [
       "['0KT6DLAELYSbgfUemzwGPX',\n",
       " '3KhoIbIPMmoGthbBAPxgOK',\n",
       " '71NJqORRmwlcZSLk0VsFjU',\n",
       " '4aPyWHfUOpRucgvJ5riGvq',\n",
       " '0GA6S7nyMRn1w1S5o1LGFX',\n",
       " '0pMUR7Uvp6vxlbG0qBFvgM',\n",
       " '4YaHN0QNmlj6gagyodfT8K',\n",
       " '3e9L9HiHKcfYLAga28Vmcf',\n",
       " '0OSAJEA0ekX6pr2nuiPzX7',\n",
       " '4UfupbARPxljVkBmuZlJnY',\n",
       " '2JmH5UJ6TwTCg05OBeIa7b',\n",
       " '2Bw2MQa6qHoHUxKM9c6bds',\n",
       " '1BeZ3neH8aQioMKccVHdS9',\n",
       " '38TAtcKt2mSIKV5aq9eVtL',\n",
       " '5k68G0l4XbYskcczLtgPLs',\n",
       " '5dZ2tajLu1kwfLGfjEpr8p',\n",
       " '62boy9i5H49Fk2FUbna3co',\n",
       " '3oVnbdWg48ZrmsUAQQUKbU',\n",
       " '1zEru7ZuZFzkjRoUDvsWQ6',\n",
       " '0Wx8C0yiq0Djk9EiPktvXv',\n",
       " '5mAh5J4w6BEZkajB1M7XrB',\n",
       " '5oUH9Rl2PdFklGKc9kMBkE',\n",
       " '1rj8sTws7tXmgI8X1GMgKF',\n",
       " '1xNcBAoUw8Hz6LqK2jt4Ff',\n",
       " '6KzkqZqhUBEsWYJJa2aBOd',\n",
       " '4Z08iSbr5wXWsKUaY7BrsG',\n",
       " '6W7SV30GzW4utRTcMF8laV',\n",
       " '2h5z2TzryGt3DoeCCdQwHs',\n",
       " '37a8EdVw7VpAlRG4oASxIm',\n",
       " '0YqdtgkhhcbzWQuBmN0Lik',\n",
       " '6qjc1goYnjYrNqOXUiJgRj',\n",
       " '2aAlGJc0REgny9znAOaBsF',\n",
       " '1loMHOGpWEgh1cFvpoSZf0',\n",
       " '2KO9yJSsYzPlYTWkOY2nTb',\n",
       " '6WPH6nvXF7F7233pTNXJJx',\n",
       " '1p1qbyBOklYJI6EC69Yd1a',\n",
       " '3nUOnATHktg7VW5TtWeJnd',\n",
       " '0HnaHNLndwgiIOL2XBRnL4',\n",
       " '2U4gDQIMt74zIFIrUQksUx',\n",
       " '50v2JhRDBbQa7TpNIV3zmp',\n",
       " '4zrl5YGi2OqMar45Kdn4BM',\n",
       " '2lKNRgB2pDAnmGvi0myoLb',\n",
       " '6Ss1QOGzn0iG8hrRRSGrr9',\n",
       " '3ZwTdhV7SLapBoEXDOLxI5',\n",
       " '14IM6OZDLGfkaJNlswwNSg',\n",
       " '5ho5w0CgWmTGxuo2Ehemyc',\n",
       " '5eDQwsl2p2QivtXhmyM2rX',\n",
       " '4Zy2QYNvzenQm1BPKh6dK8',\n",
       " '2gzuyKcPVjRz8D55cNtm3m',\n",
       " '0xmHsJHjqMYB1lIs9J5zP5',\n",
       " '1SjJZewpXEHRuXn7RRszQ5']"
      ]
     },
     "execution_count": 70,
     "metadata": {},
     "output_type": "execute_result"
    }
   ],
   "source": [
    "playlist_trackIDs"
   ]
  },
  {
   "cell_type": "code",
   "execution_count": 71,
   "metadata": {},
   "outputs": [],
   "source": [
    "playlist=sp.user_playlist_tracks(\"Chris Connor\", \"6IUloum8FQGE1PrObJZavG\")\n",
    "songs = {\n",
    "  track[\"track\"][\"id\"]: [track[\"track\"][\"name\"], \n",
    "  track[\"track\"][\"artists\"][0][\"name\"]] \n",
    "  for track in playlist[\"items\"]\n",
    "}"
   ]
  },
  {
   "cell_type": "code",
   "execution_count": 72,
   "metadata": {
    "collapsed": true
   },
   "outputs": [
    {
     "data": {
      "text/plain": [
       "{'0KT6DLAELYSbgfUemzwGPX': ['Heaven', 'DJ Sammy'],\n",
       " '3KhoIbIPMmoGthbBAPxgOK': ['Castles In The Sky - Radio Mix', 'Ian van Dahl'],\n",
       " '71NJqORRmwlcZSLk0VsFjU': ['Pretty Green Eyes - Radio Edit', 'Ultrabeat'],\n",
       " '4aPyWHfUOpRucgvJ5riGvq': ['Pretty Green Eyes', 'Ultrabeat'],\n",
       " '0GA6S7nyMRn1w1S5o1LGFX': ['At Night - Original Club Mix', 'Shakedown'],\n",
       " '0pMUR7Uvp6vxlbG0qBFvgM': ['Better Off Alone', 'Alice Deejay'],\n",
       " '4YaHN0QNmlj6gagyodfT8K': ['Forever', 'Dee Dee'],\n",
       " '3e9L9HiHKcfYLAga28Vmcf': ['Something', 'Lasgo'],\n",
       " '0OSAJEA0ekX6pr2nuiPzX7': ['Rapture (feat.Nadia Ali)', 'iio'],\n",
       " '4UfupbARPxljVkBmuZlJnY': ['Starlight - Radio Edit', 'The Supermen Lovers'],\n",
       " '2JmH5UJ6TwTCg05OBeIa7b': ['Another Chance - Radio Edit', 'Roger Sanchez'],\n",
       " '2Bw2MQa6qHoHUxKM9c6bds': [\"U Don't Know Me (feat. Duane Harden)\",\n",
       "  'Armand Van Helden'],\n",
       " '1BeZ3neH8aQioMKccVHdS9': ['Finally', 'Kings Of Tomorrow'],\n",
       " '38TAtcKt2mSIKV5aq9eVtL': ['Be Cool - Radio Edit', 'Paffendorf'],\n",
       " '5k68G0l4XbYskcczLtgPLs': ['Hide U', 'Kosheen'],\n",
       " '5dZ2tajLu1kwfLGfjEpr8p': ['The Way - Svenson & Gielen Radio Edit',\n",
       "  'Divine Inspiration'],\n",
       " '62boy9i5H49Fk2FUbna3co': [\"You're a Superstar - Radio Edit\", 'Love Inc.'],\n",
       " '3oVnbdWg48ZrmsUAQQUKbU': [\"Silence (feat. Sarah McLachlan) - DJ Tiësto's In Search of Sunrise Edit\",\n",
       "  'Delerium'],\n",
       " '1zEru7ZuZFzkjRoUDvsWQ6': ['Loneliness - Radio Cut', 'Tomcraft'],\n",
       " '0Wx8C0yiq0Djk9EiPktvXv': ['All I Do (Radio Edit)', 'Cleptomaniacs'],\n",
       " '5mAh5J4w6BEZkajB1M7XrB': [\"Lola's Theme - Radio Edit\", 'The Shapeshifters'],\n",
       " '5oUH9Rl2PdFklGKc9kMBkE': ['Flawless - Phunk Investigation Club', 'Ones'],\n",
       " '1rj8sTws7tXmgI8X1GMgKF': ['Make Luv (Radio Version)', 'Room 5'],\n",
       " '1xNcBAoUw8Hz6LqK2jt4Ff': ['Call on Me - Radio Mix', 'Eric Prydz'],\n",
       " '6KzkqZqhUBEsWYJJa2aBOd': ['The Weekend - Radio Edit', 'Michael Gray'],\n",
       " '4Z08iSbr5wXWsKUaY7BrsG': ['Do You Know (I Go Crazy)', 'Angel City'],\n",
       " '6W7SV30GzW4utRTcMF8laV': ['Flashdance (Original Mix)', 'Deep Dish'],\n",
       " '2h5z2TzryGt3DoeCCdQwHs': ['Falling Stars', 'Sunset Strippers'],\n",
       " '37a8EdVw7VpAlRG4oASxIm': ['Out of Touch - Radio Edit', 'Uniting Nations'],\n",
       " '0YqdtgkhhcbzWQuBmN0Lik': ['I Like The Way - Radio Edit', 'Bodyrockers'],\n",
       " '6qjc1goYnjYrNqOXUiJgRj': ['So Much Love To Give (Radio Edit)',\n",
       "  'Freeloaders'],\n",
       " '2aAlGJc0REgny9znAOaBsF': [\"Don't Give Up\", 'Chicane'],\n",
       " '1loMHOGpWEgh1cFvpoSZf0': ['Good Luck', 'Basement Jaxx'],\n",
       " '2KO9yJSsYzPlYTWkOY2nTb': ['Boogie 2Nite - Seamus Haji Big Love Edit',\n",
       "  'Booty Luv'],\n",
       " '6WPH6nvXF7F7233pTNXJJx': ['My My My', 'Armand Van Helden'],\n",
       " '1p1qbyBOklYJI6EC69Yd1a': [\"Put 'Em High\", 'Therese'],\n",
       " '3nUOnATHktg7VW5TtWeJnd': [\"My Feeling (Daddy'S Prime Time Edit)\",\n",
       "  'Junior Jack'],\n",
       " '0HnaHNLndwgiIOL2XBRnL4': ['Sun Is Shining - Radio De Luxe Mix',\n",
       "  'Funkstar De Luxe'],\n",
       " '2U4gDQIMt74zIFIrUQksUx': ['I Wanna Be U', 'Chocolate Puma'],\n",
       " '50v2JhRDBbQa7TpNIV3zmp': ['Somebody to Love - Main Club Mix',\n",
       "  'Boogie Pimps'],\n",
       " '4zrl5YGi2OqMar45Kdn4BM': ['Take Me To The Clouds Above - LMC Vs. U2 / Radio Edit',\n",
       "  'LMC'],\n",
       " '2lKNRgB2pDAnmGvi0myoLb': ['I See Girls - Tom Neville Radio Edit',\n",
       "  'Studio B.'],\n",
       " '6Ss1QOGzn0iG8hrRRSGrr9': [\"It Just Won't Do - Radio Edit\", 'Tim Deluxe'],\n",
       " '3ZwTdhV7SLapBoEXDOLxI5': ['Stupidisco', 'Junior Jack'],\n",
       " '14IM6OZDLGfkaJNlswwNSg': ['Love Story (Radio Edit)', 'Layo & Bushwacka!'],\n",
       " '5ho5w0CgWmTGxuo2Ehemyc': ['Party All The Time', 'Sharam'],\n",
       " '5eDQwsl2p2QivtXhmyM2rX': ['Your Body - UK Radio Edit', 'Tom Novy'],\n",
       " '4Zy2QYNvzenQm1BPKh6dK8': ['Salsoul Nugget (If U Wanna)', 'M&S'],\n",
       " '2gzuyKcPVjRz8D55cNtm3m': ['Point of View - Radio Edit', 'DB Boulevard'],\n",
       " '0xmHsJHjqMYB1lIs9J5zP5': ['Shine - The Lovefreekz Radio Edit',\n",
       "  'The Lovefreekz'],\n",
       " '1SjJZewpXEHRuXn7RRszQ5': [\"King of My Castle - Roy Malone's King Radio Edit\",\n",
       "  'Wamdue Project']}"
      ]
     },
     "execution_count": 72,
     "metadata": {},
     "output_type": "execute_result"
    }
   ],
   "source": [
    "songs"
   ]
  },
  {
   "cell_type": "markdown",
   "metadata": {},
   "source": [
    "### Function to extract just the uri's:"
   ]
  },
  {
   "cell_type": "code",
   "execution_count": 73,
   "metadata": {},
   "outputs": [
    {
     "data": {
      "text/plain": [
       "'spotify:track:0KT6DLAELYSbgfUemzwGPX'"
      ]
     },
     "execution_count": 73,
     "metadata": {},
     "output_type": "execute_result"
    }
   ],
   "source": [
    "playlist_2['items'][0]['track']['uri']"
   ]
  },
  {
   "cell_type": "code",
   "execution_count": 76,
   "metadata": {},
   "outputs": [],
   "source": [
    "def uris_from_playlist(my_playlist_id,playlist_owner):\n",
    "    \n",
    "    my_playlist_uris=[]\n",
    "    for item in playlist['items']:\n",
    "        my_playlist_uris.append(item['track']['uri'])\n",
    "    return my_playlist_uris"
   ]
  },
  {
   "cell_type": "code",
   "execution_count": 81,
   "metadata": {
    "collapsed": true
   },
   "outputs": [
    {
     "data": {
      "text/plain": [
       "['spotify:track:0KT6DLAELYSbgfUemzwGPX',\n",
       " 'spotify:track:3KhoIbIPMmoGthbBAPxgOK',\n",
       " 'spotify:track:71NJqORRmwlcZSLk0VsFjU',\n",
       " 'spotify:track:4aPyWHfUOpRucgvJ5riGvq',\n",
       " 'spotify:track:0GA6S7nyMRn1w1S5o1LGFX',\n",
       " 'spotify:track:0pMUR7Uvp6vxlbG0qBFvgM',\n",
       " 'spotify:track:4YaHN0QNmlj6gagyodfT8K',\n",
       " 'spotify:track:3e9L9HiHKcfYLAga28Vmcf',\n",
       " 'spotify:track:0OSAJEA0ekX6pr2nuiPzX7',\n",
       " 'spotify:track:4UfupbARPxljVkBmuZlJnY',\n",
       " 'spotify:track:2JmH5UJ6TwTCg05OBeIa7b',\n",
       " 'spotify:track:2Bw2MQa6qHoHUxKM9c6bds',\n",
       " 'spotify:track:1BeZ3neH8aQioMKccVHdS9',\n",
       " 'spotify:track:38TAtcKt2mSIKV5aq9eVtL',\n",
       " 'spotify:track:5k68G0l4XbYskcczLtgPLs',\n",
       " 'spotify:track:5dZ2tajLu1kwfLGfjEpr8p',\n",
       " 'spotify:track:62boy9i5H49Fk2FUbna3co',\n",
       " 'spotify:track:3oVnbdWg48ZrmsUAQQUKbU',\n",
       " 'spotify:track:1zEru7ZuZFzkjRoUDvsWQ6',\n",
       " 'spotify:track:0Wx8C0yiq0Djk9EiPktvXv',\n",
       " 'spotify:track:5mAh5J4w6BEZkajB1M7XrB',\n",
       " 'spotify:track:5oUH9Rl2PdFklGKc9kMBkE',\n",
       " 'spotify:track:1rj8sTws7tXmgI8X1GMgKF',\n",
       " 'spotify:track:1xNcBAoUw8Hz6LqK2jt4Ff',\n",
       " 'spotify:track:6KzkqZqhUBEsWYJJa2aBOd',\n",
       " 'spotify:track:4Z08iSbr5wXWsKUaY7BrsG',\n",
       " 'spotify:track:6W7SV30GzW4utRTcMF8laV',\n",
       " 'spotify:track:2h5z2TzryGt3DoeCCdQwHs',\n",
       " 'spotify:track:37a8EdVw7VpAlRG4oASxIm',\n",
       " 'spotify:track:0YqdtgkhhcbzWQuBmN0Lik',\n",
       " 'spotify:track:6qjc1goYnjYrNqOXUiJgRj',\n",
       " 'spotify:track:2aAlGJc0REgny9znAOaBsF',\n",
       " 'spotify:track:1loMHOGpWEgh1cFvpoSZf0',\n",
       " 'spotify:track:2KO9yJSsYzPlYTWkOY2nTb',\n",
       " 'spotify:track:6WPH6nvXF7F7233pTNXJJx',\n",
       " 'spotify:track:1p1qbyBOklYJI6EC69Yd1a',\n",
       " 'spotify:track:3nUOnATHktg7VW5TtWeJnd',\n",
       " 'spotify:track:0HnaHNLndwgiIOL2XBRnL4',\n",
       " 'spotify:track:2U4gDQIMt74zIFIrUQksUx',\n",
       " 'spotify:track:50v2JhRDBbQa7TpNIV3zmp',\n",
       " 'spotify:track:4zrl5YGi2OqMar45Kdn4BM',\n",
       " 'spotify:track:2lKNRgB2pDAnmGvi0myoLb',\n",
       " 'spotify:track:6Ss1QOGzn0iG8hrRRSGrr9',\n",
       " 'spotify:track:3ZwTdhV7SLapBoEXDOLxI5',\n",
       " 'spotify:track:14IM6OZDLGfkaJNlswwNSg',\n",
       " 'spotify:track:5ho5w0CgWmTGxuo2Ehemyc',\n",
       " 'spotify:track:5eDQwsl2p2QivtXhmyM2rX',\n",
       " 'spotify:track:4Zy2QYNvzenQm1BPKh6dK8',\n",
       " 'spotify:track:2gzuyKcPVjRz8D55cNtm3m',\n",
       " 'spotify:track:0xmHsJHjqMYB1lIs9J5zP5',\n",
       " 'spotify:track:1SjJZewpXEHRuXn7RRszQ5']"
      ]
     },
     "execution_count": 81,
     "metadata": {},
     "output_type": "execute_result"
    }
   ],
   "source": [
    "uris_from_playlist('6PQLNIY9wZFZAygGzgH5hc','jamesacaster')"
   ]
  },
  {
   "cell_type": "markdown",
   "metadata": {},
   "source": [
    "# Pagination "
   ]
  },
  {
   "cell_type": "markdown",
   "metadata": {},
   "source": [
    "#### Pagination using \"next\"\n",
    "\n",
    "When you collect songs from a playlist using `sp.playlist_tracks`, you're limited by the `limit` parameter, which has a maximum (and default) value of 100. When the playlist has more than 100 songs, you have to collect them by navigating through the \"pages\" of the results.\n",
    "\n",
    "The parameter `offset` allows you to retrieve resuls starting at a certain position: if you start at position 101, you'd get the next \"page\" of results. An offset of 201 would give you the third page, and so on.\n",
    "\n",
    "The function `sp.next()` does the same, but in a simpler way: it can be used on the results from any request to directly retrieve the results for the next page.\n",
    "\n",
    "We can check whether there's a next page or not by accessing the key `next` on the results from any request."
   ]
  },
  {
   "cell_type": "code",
   "execution_count": 82,
   "metadata": {},
   "outputs": [],
   "source": [
    "playlist = sp.user_playlist_tracks(\"SarahWitheridge\", \"3UVNqcek0Hg8ne1ijJn9kc\")"
   ]
  },
  {
   "cell_type": "code",
   "execution_count": 83,
   "metadata": {},
   "outputs": [
    {
     "data": {
      "text/plain": [
       "2619"
      ]
     },
     "execution_count": 83,
     "metadata": {},
     "output_type": "execute_result"
    }
   ],
   "source": [
    "playlist['total']"
   ]
  },
  {
   "cell_type": "code",
   "execution_count": 84,
   "metadata": {},
   "outputs": [
    {
     "data": {
      "text/plain": [
       "'https://api.spotify.com/v1/playlists/3UVNqcek0Hg8ne1ijJn9kc/tracks?offset=100&limit=100&additional_types=track'"
      ]
     },
     "execution_count": 84,
     "metadata": {},
     "output_type": "execute_result"
    }
   ],
   "source": [
    "playlist['next']"
   ]
  },
  {
   "cell_type": "code",
   "execution_count": 85,
   "metadata": {},
   "outputs": [
    {
     "data": {
      "text/plain": [
       "100"
      ]
     },
     "execution_count": 85,
     "metadata": {},
     "output_type": "execute_result"
    }
   ],
   "source": [
    "len(playlist['items']) # here we can see the limit of 100 records"
   ]
  },
  {
   "cell_type": "code",
   "execution_count": 86,
   "metadata": {},
   "outputs": [],
   "source": [
    "def get_playlist_tracks_long(user_id,playlist_id):\n",
    "    results=sp.user_playlist_tracks(user_id,playlist_id)\n",
    "    tracks=results['items']\n",
    "    while results['next']:\n",
    "        results=sp.next(results)\n",
    "        tracks.extend(results['items'])\n",
    "    return tracks"
   ]
  },
  {
   "cell_type": "code",
   "execution_count": 87,
   "metadata": {},
   "outputs": [],
   "source": [
    "all_tracks=get_playlist_tracks_long(\"SarahWitheridge\", \"3UVNqcek0Hg8ne1ijJn9kc\")"
   ]
  },
  {
   "cell_type": "code",
   "execution_count": 88,
   "metadata": {},
   "outputs": [
    {
     "data": {
      "text/plain": [
       "2619"
      ]
     },
     "execution_count": 88,
     "metadata": {},
     "output_type": "execute_result"
    }
   ],
   "source": [
    "len(all_tracks)"
   ]
  },
  {
   "cell_type": "markdown",
   "metadata": {},
   "source": [
    "# Audio features\n",
    "\n",
    "You can check here an explanation of the audio features: https://developer.spotify.com/documentation/web-api/reference/tracks/get-audio-features/"
   ]
  },
  {
   "cell_type": "code",
   "execution_count": 89,
   "metadata": {},
   "outputs": [],
   "source": [
    "playlist = sp.user_playlist_tracks(\"sianedav\", \"12in060ErlfyPEfpGTJdaw\") # 10 song playlist "
   ]
  },
  {
   "cell_type": "code",
   "execution_count": 90,
   "metadata": {},
   "outputs": [],
   "source": [
    "spaceplaylist=[]\n",
    "for item in playlist['items']:\n",
    "    spaceplaylist.append(item['track']['id'])"
   ]
  },
  {
   "cell_type": "code",
   "execution_count": 91,
   "metadata": {},
   "outputs": [],
   "source": [
    "audio_feat_space=sp.audio_features(tracks=spaceplaylist)"
   ]
  },
  {
   "cell_type": "code",
   "execution_count": 92,
   "metadata": {},
   "outputs": [
    {
     "data": {
      "text/plain": [
       "10"
      ]
     },
     "execution_count": 92,
     "metadata": {},
     "output_type": "execute_result"
    }
   ],
   "source": [
    "len(audio_feat_space)"
   ]
  },
  {
   "cell_type": "markdown",
   "metadata": {},
   "source": [
    "### Searching the audio features for a song\n",
    "\n",
    "When the user inputs a song, you are gonna want to retrieve the audio features of that song. How to do it?\n",
    "\n",
    "1. Search the user input using the `sp.search()` function. This function works similarly to the \"search\" bar on the spotify app - using Spotify's intelligent search engine. That means that it can handle names of any songs or artists - even certain typos.\n",
    "\n",
    "2. Find the uri of the song that the API gives you back.\n",
    "\n",
    "3. Use `sp.audio_features` to retrieve the audio features of the song."
   ]
  },
  {
   "cell_type": "code",
   "execution_count": 93,
   "metadata": {},
   "outputs": [
    {
     "name": "stdout",
     "output_type": "stream",
     "text": [
      "your song is Lady in Red\n"
     ]
    }
   ],
   "source": [
    "results = sp.search(q=input('your song is '),limit=1, type='track')"
   ]
  },
  {
   "cell_type": "code",
   "execution_count": 94,
   "metadata": {},
   "outputs": [],
   "source": [
    "name=results['tracks']['items'][0]['name']"
   ]
  },
  {
   "cell_type": "code",
   "execution_count": 95,
   "metadata": {},
   "outputs": [],
   "source": [
    "artist=results['tracks']['items'][0][\"artists\"][0][\"name\"]"
   ]
  },
  {
   "cell_type": "code",
   "execution_count": 96,
   "metadata": {},
   "outputs": [],
   "source": [
    "uri = results['tracks']['items'][0]['uri']"
   ]
  },
  {
   "cell_type": "code",
   "execution_count": 97,
   "metadata": {},
   "outputs": [],
   "source": [
    "audio_feat_inputsong=sp.audio_features(tracks=uri)"
   ]
  },
  {
   "cell_type": "code",
   "execution_count": 98,
   "metadata": {},
   "outputs": [
    {
     "data": {
      "text/plain": [
       "[{'danceability': 0.548,\n",
       "  'energy': 0.294,\n",
       "  'key': 10,\n",
       "  'loudness': -17.112,\n",
       "  'mode': 1,\n",
       "  'speechiness': 0.0333,\n",
       "  'acousticness': 0.332,\n",
       "  'instrumentalness': 3.34e-06,\n",
       "  'liveness': 0.0392,\n",
       "  'valence': 0.491,\n",
       "  'tempo': 76.698,\n",
       "  'type': 'audio_features',\n",
       "  'id': '1GeNWyZtCHbcp3ZWp8GTOO',\n",
       "  'uri': 'spotify:track:1GeNWyZtCHbcp3ZWp8GTOO',\n",
       "  'track_href': 'https://api.spotify.com/v1/tracks/1GeNWyZtCHbcp3ZWp8GTOO',\n",
       "  'analysis_url': 'https://api.spotify.com/v1/audio-analysis/1GeNWyZtCHbcp3ZWp8GTOO',\n",
       "  'duration_ms': 256173,\n",
       "  'time_signature': 4}]"
      ]
     },
     "execution_count": 98,
     "metadata": {},
     "output_type": "execute_result"
    }
   ],
   "source": [
    "audio_feat_inputsong"
   ]
  },
  {
   "cell_type": "code",
   "execution_count": 99,
   "metadata": {},
   "outputs": [],
   "source": [
    "audio_feat_dict=audio_feat_inputsong[0]"
   ]
  },
  {
   "cell_type": "code",
   "execution_count": 100,
   "metadata": {},
   "outputs": [],
   "source": [
    "af_df=pd.DataFrame.from_dict([audio_feat_dict])"
   ]
  },
  {
   "cell_type": "code",
   "execution_count": 101,
   "metadata": {},
   "outputs": [
    {
     "data": {
      "text/html": [
       "<div>\n",
       "<style scoped>\n",
       "    .dataframe tbody tr th:only-of-type {\n",
       "        vertical-align: middle;\n",
       "    }\n",
       "\n",
       "    .dataframe tbody tr th {\n",
       "        vertical-align: top;\n",
       "    }\n",
       "\n",
       "    .dataframe thead th {\n",
       "        text-align: right;\n",
       "    }\n",
       "</style>\n",
       "<table border=\"1\" class=\"dataframe\">\n",
       "  <thead>\n",
       "    <tr style=\"text-align: right;\">\n",
       "      <th></th>\n",
       "      <th>danceability</th>\n",
       "      <th>energy</th>\n",
       "      <th>key</th>\n",
       "      <th>loudness</th>\n",
       "      <th>mode</th>\n",
       "      <th>speechiness</th>\n",
       "      <th>acousticness</th>\n",
       "      <th>instrumentalness</th>\n",
       "      <th>liveness</th>\n",
       "      <th>valence</th>\n",
       "      <th>tempo</th>\n",
       "      <th>type</th>\n",
       "      <th>id</th>\n",
       "      <th>uri</th>\n",
       "      <th>track_href</th>\n",
       "      <th>analysis_url</th>\n",
       "      <th>duration_ms</th>\n",
       "      <th>time_signature</th>\n",
       "    </tr>\n",
       "  </thead>\n",
       "  <tbody>\n",
       "    <tr>\n",
       "      <th>0</th>\n",
       "      <td>0.548</td>\n",
       "      <td>0.294</td>\n",
       "      <td>10</td>\n",
       "      <td>-17.112</td>\n",
       "      <td>1</td>\n",
       "      <td>0.0333</td>\n",
       "      <td>0.332</td>\n",
       "      <td>0.000003</td>\n",
       "      <td>0.0392</td>\n",
       "      <td>0.491</td>\n",
       "      <td>76.698</td>\n",
       "      <td>audio_features</td>\n",
       "      <td>1GeNWyZtCHbcp3ZWp8GTOO</td>\n",
       "      <td>spotify:track:1GeNWyZtCHbcp3ZWp8GTOO</td>\n",
       "      <td>https://api.spotify.com/v1/tracks/1GeNWyZtCHbc...</td>\n",
       "      <td>https://api.spotify.com/v1/audio-analysis/1GeN...</td>\n",
       "      <td>256173</td>\n",
       "      <td>4</td>\n",
       "    </tr>\n",
       "  </tbody>\n",
       "</table>\n",
       "</div>"
      ],
      "text/plain": [
       "   danceability  energy  key  loudness  mode  speechiness  acousticness  \\\n",
       "0         0.548   0.294   10   -17.112     1       0.0333         0.332   \n",
       "\n",
       "   instrumentalness  liveness  valence   tempo            type  \\\n",
       "0          0.000003    0.0392    0.491  76.698  audio_features   \n",
       "\n",
       "                       id                                   uri  \\\n",
       "0  1GeNWyZtCHbcp3ZWp8GTOO  spotify:track:1GeNWyZtCHbcp3ZWp8GTOO   \n",
       "\n",
       "                                          track_href  \\\n",
       "0  https://api.spotify.com/v1/tracks/1GeNWyZtCHbc...   \n",
       "\n",
       "                                        analysis_url  duration_ms  \\\n",
       "0  https://api.spotify.com/v1/audio-analysis/1GeN...       256173   \n",
       "\n",
       "   time_signature  \n",
       "0               4  "
      ]
     },
     "execution_count": 101,
     "metadata": {},
     "output_type": "execute_result"
    }
   ],
   "source": [
    "af_df"
   ]
  },
  {
   "cell_type": "code",
   "execution_count": 102,
   "metadata": {},
   "outputs": [],
   "source": [
    "af_df['song_name']=results['tracks']['items'][0]['name']\n",
    "af_df['1startist']=results['tracks']['items'][0][\"artists\"][0][\"name\"]"
   ]
  },
  {
   "cell_type": "code",
   "execution_count": 103,
   "metadata": {},
   "outputs": [
    {
     "data": {
      "text/html": [
       "<div>\n",
       "<style scoped>\n",
       "    .dataframe tbody tr th:only-of-type {\n",
       "        vertical-align: middle;\n",
       "    }\n",
       "\n",
       "    .dataframe tbody tr th {\n",
       "        vertical-align: top;\n",
       "    }\n",
       "\n",
       "    .dataframe thead th {\n",
       "        text-align: right;\n",
       "    }\n",
       "</style>\n",
       "<table border=\"1\" class=\"dataframe\">\n",
       "  <thead>\n",
       "    <tr style=\"text-align: right;\">\n",
       "      <th></th>\n",
       "      <th>danceability</th>\n",
       "      <th>energy</th>\n",
       "      <th>key</th>\n",
       "      <th>loudness</th>\n",
       "      <th>mode</th>\n",
       "      <th>speechiness</th>\n",
       "      <th>acousticness</th>\n",
       "      <th>instrumentalness</th>\n",
       "      <th>liveness</th>\n",
       "      <th>valence</th>\n",
       "      <th>tempo</th>\n",
       "      <th>type</th>\n",
       "      <th>id</th>\n",
       "      <th>uri</th>\n",
       "      <th>track_href</th>\n",
       "      <th>analysis_url</th>\n",
       "      <th>duration_ms</th>\n",
       "      <th>time_signature</th>\n",
       "      <th>song_name</th>\n",
       "      <th>1startist</th>\n",
       "    </tr>\n",
       "  </thead>\n",
       "  <tbody>\n",
       "    <tr>\n",
       "      <th>0</th>\n",
       "      <td>0.548</td>\n",
       "      <td>0.294</td>\n",
       "      <td>10</td>\n",
       "      <td>-17.112</td>\n",
       "      <td>1</td>\n",
       "      <td>0.0333</td>\n",
       "      <td>0.332</td>\n",
       "      <td>0.000003</td>\n",
       "      <td>0.0392</td>\n",
       "      <td>0.491</td>\n",
       "      <td>76.698</td>\n",
       "      <td>audio_features</td>\n",
       "      <td>1GeNWyZtCHbcp3ZWp8GTOO</td>\n",
       "      <td>spotify:track:1GeNWyZtCHbcp3ZWp8GTOO</td>\n",
       "      <td>https://api.spotify.com/v1/tracks/1GeNWyZtCHbc...</td>\n",
       "      <td>https://api.spotify.com/v1/audio-analysis/1GeN...</td>\n",
       "      <td>256173</td>\n",
       "      <td>4</td>\n",
       "      <td>The Lady In Red</td>\n",
       "      <td>Chris de Burgh</td>\n",
       "    </tr>\n",
       "  </tbody>\n",
       "</table>\n",
       "</div>"
      ],
      "text/plain": [
       "   danceability  energy  key  loudness  mode  speechiness  acousticness  \\\n",
       "0         0.548   0.294   10   -17.112     1       0.0333         0.332   \n",
       "\n",
       "   instrumentalness  liveness  valence   tempo            type  \\\n",
       "0          0.000003    0.0392    0.491  76.698  audio_features   \n",
       "\n",
       "                       id                                   uri  \\\n",
       "0  1GeNWyZtCHbcp3ZWp8GTOO  spotify:track:1GeNWyZtCHbcp3ZWp8GTOO   \n",
       "\n",
       "                                          track_href  \\\n",
       "0  https://api.spotify.com/v1/tracks/1GeNWyZtCHbc...   \n",
       "\n",
       "                                        analysis_url  duration_ms  \\\n",
       "0  https://api.spotify.com/v1/audio-analysis/1GeN...       256173   \n",
       "\n",
       "   time_signature        song_name       1startist  \n",
       "0               4  The Lady In Red  Chris de Burgh  "
      ]
     },
     "execution_count": 103,
     "metadata": {},
     "output_type": "execute_result"
    }
   ],
   "source": [
    "af_df"
   ]
  },
  {
   "cell_type": "markdown",
   "metadata": {},
   "source": [
    "# Lab: Create your collection of songs & audio features\n",
    "\n",
    "To move forward witht the project, you need to create a collection of songs with their audio features - as large as possible! \n",
    "\n",
    "These are the songs that we will cluster. And, later, when the user inputs a song, we will find the cluster to which the song belongs and recommend a song from the same cluster.\n",
    "\n",
    "The more songs you have, the more accurate and diverse recommendations you'll be able to give. Although... you might want to make sure the collected songs are \"curated\" in a certain way. Try to find playlists of songs that are diverse, but also that meet certain standards.\n",
    "\n",
    "The process of sending hundreds or thousands of requests can take some time - it's normal if you have to wait a few minutes (or, if you're ambitious, even hours) to get all the data you need.\n",
    "\n",
    "An idea for collecting as many songs as possible is to start with all the songs of a big, diverse playlist and then go to every artist present in the playlist and grab every song of every album of that artist. The amount of songs you'll be collecting per playlist will grow exponentially!"
   ]
  },
  {
   "cell_type": "code",
   "execution_count": null,
   "metadata": {},
   "outputs": [],
   "source": []
  }
 ],
 "metadata": {
  "kernelspec": {
   "display_name": "Python 3 (ipykernel)",
   "language": "python",
   "name": "python3"
  },
  "language_info": {
   "codemirror_mode": {
    "name": "ipython",
    "version": 3
   },
   "file_extension": ".py",
   "mimetype": "text/x-python",
   "name": "python",
   "nbconvert_exporter": "python",
   "pygments_lexer": "ipython3",
   "version": "3.8.13"
  },
  "toc": {
   "base_numbering": 1,
   "nav_menu": {},
   "number_sections": true,
   "sideBar": true,
   "skip_h1_title": false,
   "title_cell": "Table of Contents",
   "title_sidebar": "Contents",
   "toc_cell": false,
   "toc_position": {},
   "toc_section_display": true,
   "toc_window_display": false
  },
  "varInspector": {
   "cols": {
    "lenName": 16,
    "lenType": 16,
    "lenVar": 40
   },
   "kernels_config": {
    "python": {
     "delete_cmd_postfix": "",
     "delete_cmd_prefix": "del ",
     "library": "var_list.py",
     "varRefreshCmd": "print(var_dic_list())"
    },
    "r": {
     "delete_cmd_postfix": ") ",
     "delete_cmd_prefix": "rm(",
     "library": "var_list.r",
     "varRefreshCmd": "cat(var_dic_list()) "
    }
   },
   "types_to_exclude": [
    "module",
    "function",
    "builtin_function_or_method",
    "instance",
    "_Feature"
   ],
   "window_display": false
  }
 },
 "nbformat": 4,
 "nbformat_minor": 4
}
