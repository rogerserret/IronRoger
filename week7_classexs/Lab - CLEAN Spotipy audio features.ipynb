{
 "cells": [
  {
   "cell_type": "markdown",
   "id": "4a097e87",
   "metadata": {},
   "source": [
    "# Authentication"
   ]
  },
  {
   "cell_type": "code",
   "execution_count": 2,
   "id": "72de0d35",
   "metadata": {},
   "outputs": [],
   "source": [
    "import spotipy \n",
    "from spotipy.oauth2 import SpotifyClientCredentials"
   ]
  },
  {
   "cell_type": "markdown",
   "id": "019bb20c",
   "metadata": {},
   "source": [
    "# Password protection"
   ]
  },
  {
   "cell_type": "code",
   "execution_count": 3,
   "id": "ee741929",
   "metadata": {},
   "outputs": [],
   "source": [
    "import getpass"
   ]
  },
  {
   "cell_type": "code",
   "execution_count": 4,
   "id": "8eaa0142",
   "metadata": {},
   "outputs": [
    {
     "name": "stdout",
     "output_type": "stream",
     "text": [
      "enter your client id········\n",
      "enter your client secret········\n"
     ]
    }
   ],
   "source": [
    "client_id=str(getpass.getpass('enter your client id'))\n",
    "client_secret=str(getpass.getpass('enter your client secret')) "
   ]
  },
  {
   "cell_type": "code",
   "execution_count": 5,
   "id": "37856b31",
   "metadata": {},
   "outputs": [],
   "source": [
    "#Initialize SpotiPy with user credentials\n",
    "sp = spotipy.Spotify(auth_manager=SpotifyClientCredentials(\n",
    "    client_id=client_id,\n",
    "    client_secret=client_secret))"
   ]
  },
  {
   "cell_type": "markdown",
   "id": "ac494bc5",
   "metadata": {},
   "source": [
    "# Extract songs ID, name and artist from a single playlist and expand the function to get +100 songs with pagination"
   ]
  },
  {
   "cell_type": "code",
   "execution_count": 7,
   "id": "ce2f0d30",
   "metadata": {},
   "outputs": [],
   "source": [
    "playlist = sp.user_playlist_tracks(\"CW\", \"39sVxPTg7BKwrf2MfgrtcD\")"
   ]
  },
  {
   "cell_type": "code",
   "execution_count": 8,
   "id": "5b69efcd",
   "metadata": {},
   "outputs": [],
   "source": [
    "tracks = playlist['items']"
   ]
  },
  {
   "cell_type": "code",
   "execution_count": 9,
   "id": "1e932050",
   "metadata": {},
   "outputs": [],
   "source": [
    "results=sp.user_playlist_tracks(\"CW\", \"39sVxPTg7BKwrf2MfgrtcD\")\n",
    "tracks = results['items']\n",
    "while results['next']:\n",
    "    results=sp.next(results)\n",
    "    tracks.extend(results['items'])"
   ]
  },
  {
   "cell_type": "code",
   "execution_count": 10,
   "id": "d8338da9",
   "metadata": {},
   "outputs": [
    {
     "data": {
      "text/plain": [
       "202"
      ]
     },
     "execution_count": 10,
     "metadata": {},
     "output_type": "execute_result"
    }
   ],
   "source": [
    "len(tracks)"
   ]
  },
  {
   "cell_type": "markdown",
   "id": "b6517096",
   "metadata": {},
   "source": [
    "# Extract song ID, name and singer and create a df"
   ]
  },
  {
   "cell_type": "code",
   "execution_count": 14,
   "id": "0233a98d",
   "metadata": {},
   "outputs": [],
   "source": [
    "# create a dictionary with all the info:\n",
    "songs = {}\n",
    "\n",
    "for track in tracks:\n",
    "    songs[track[\"track\"][\"id\"]]=track[\"track\"][\"name\"], track[\"track\"][\"artists\"][0][\"name\"]"
   ]
  },
  {
   "cell_type": "code",
   "execution_count": 15,
   "id": "409dd2d7",
   "metadata": {},
   "outputs": [
    {
     "data": {
      "text/plain": [
       "202"
      ]
     },
     "execution_count": 15,
     "metadata": {},
     "output_type": "execute_result"
    }
   ],
   "source": [
    "len(songs)"
   ]
  },
  {
   "cell_type": "code",
   "execution_count": 16,
   "id": "fc30b885",
   "metadata": {},
   "outputs": [],
   "source": [
    "import pandas as pd"
   ]
  },
  {
   "cell_type": "code",
   "execution_count": 17,
   "id": "3f9e59d9",
   "metadata": {},
   "outputs": [],
   "source": [
    "songs_df=pd.DataFrame.from_dict([songs])"
   ]
  },
  {
   "cell_type": "code",
   "execution_count": 18,
   "id": "7bbc95d3",
   "metadata": {},
   "outputs": [
    {
     "data": {
      "text/html": [
       "<div>\n",
       "<style scoped>\n",
       "    .dataframe tbody tr th:only-of-type {\n",
       "        vertical-align: middle;\n",
       "    }\n",
       "\n",
       "    .dataframe tbody tr th {\n",
       "        vertical-align: top;\n",
       "    }\n",
       "\n",
       "    .dataframe thead th {\n",
       "        text-align: right;\n",
       "    }\n",
       "</style>\n",
       "<table border=\"1\" class=\"dataframe\">\n",
       "  <thead>\n",
       "    <tr style=\"text-align: right;\">\n",
       "      <th></th>\n",
       "      <th>1ru5R5iSawvuMELqKXxLjS</th>\n",
       "      <th>1HNE2PX70ztbEl6MLxrpNL</th>\n",
       "      <th>7yCPwWs66K8Ba5lFuU2bcx</th>\n",
       "      <th>4EchqUKQ3qAQuRNKmeIpnf</th>\n",
       "      <th>0BRHnOFm6sjxN1i9LJrUDu</th>\n",
       "      <th>5kD9T7GForh8LnRz5ClbL8</th>\n",
       "      <th>3Zwu2K0Qa5sT6teCCHPShP</th>\n",
       "      <th>4OSbctVD37ycS0H3rwRm72</th>\n",
       "      <th>6xyiHZgrmXw7sMyYXbXjPV</th>\n",
       "      <th>0rOTMSSa6yscfOrGnzfheM</th>\n",
       "      <th>...</th>\n",
       "      <th>6xGQhOHsCkwWIMdxXTuCfS</th>\n",
       "      <th>1yo9liZKrCiuvM9StsWAOm</th>\n",
       "      <th>3Gqqhxc01oNb8wDnR2qvIh</th>\n",
       "      <th>6GkeYr3TLFwtgbggj5EFym</th>\n",
       "      <th>252htgicGlEQdV2se6iZdJ</th>\n",
       "      <th>3nlT74t8h4XlV1D72pErhj</th>\n",
       "      <th>591vJuuep0gfPhx9p8WPD5</th>\n",
       "      <th>6xP5TGWu1GBEHjMBmHRbjT</th>\n",
       "      <th>5kqr6EkKEafBGKxzjdXOVP</th>\n",
       "      <th>5HLLD7xSN2DIMQDG7Tw2wv</th>\n",
       "    </tr>\n",
       "  </thead>\n",
       "  <tbody>\n",
       "    <tr>\n",
       "      <th>0</th>\n",
       "      <td>(The Impression That I Get, The Mighty Mighty ...</td>\n",
       "      <td>(In Too Deep, Sum 41)</td>\n",
       "      <td>(All The Small Things, blink-182)</td>\n",
       "      <td>(The Kids Aren't Alright, The Offspring)</td>\n",
       "      <td>(The Anthem, Good Charlotte)</td>\n",
       "      <td>(The Middle, Jimmy Eat World)</td>\n",
       "      <td>(Thnks fr th Mmrs, Fall Out Boy)</td>\n",
       "      <td>(Prayer Of The Refugee, Rise Against)</td>\n",
       "      <td>(Everything Is Alright, Motion City Soundtrack)</td>\n",
       "      <td>(99 Red Balloons, Goldfinger)</td>\n",
       "      <td>...</td>\n",
       "      <td>(Seein' Red, Unwritten Law)</td>\n",
       "      <td>(Can't Be Saved, Senses Fail)</td>\n",
       "      <td>(Secrets, State Champs)</td>\n",
       "      <td>(How Far I'll Go, Boy Hero)</td>\n",
       "      <td>(Dear X, You Don't Own Me, Disciple)</td>\n",
       "      <td>(Wasting My Time, Default)</td>\n",
       "      <td>(Reinventing Your Exit, Underoath)</td>\n",
       "      <td>(Hey Leonardo (She Likes Me for Me), Blessid U...</td>\n",
       "      <td>(Hammer, Point North)</td>\n",
       "      <td>(Far Behind, Social Distortion)</td>\n",
       "    </tr>\n",
       "  </tbody>\n",
       "</table>\n",
       "<p>1 rows × 202 columns</p>\n",
       "</div>"
      ],
      "text/plain": [
       "                              1ru5R5iSawvuMELqKXxLjS 1HNE2PX70ztbEl6MLxrpNL  \\\n",
       "0  (The Impression That I Get, The Mighty Mighty ...  (In Too Deep, Sum 41)   \n",
       "\n",
       "              7yCPwWs66K8Ba5lFuU2bcx  \\\n",
       "0  (All The Small Things, blink-182)   \n",
       "\n",
       "                     4EchqUKQ3qAQuRNKmeIpnf        0BRHnOFm6sjxN1i9LJrUDu  \\\n",
       "0  (The Kids Aren't Alright, The Offspring)  (The Anthem, Good Charlotte)   \n",
       "\n",
       "          5kD9T7GForh8LnRz5ClbL8            3Zwu2K0Qa5sT6teCCHPShP  \\\n",
       "0  (The Middle, Jimmy Eat World)  (Thnks fr th Mmrs, Fall Out Boy)   \n",
       "\n",
       "                  4OSbctVD37ycS0H3rwRm72  \\\n",
       "0  (Prayer Of The Refugee, Rise Against)   \n",
       "\n",
       "                            6xyiHZgrmXw7sMyYXbXjPV  \\\n",
       "0  (Everything Is Alright, Motion City Soundtrack)   \n",
       "\n",
       "          0rOTMSSa6yscfOrGnzfheM  ...       6xGQhOHsCkwWIMdxXTuCfS  \\\n",
       "0  (99 Red Balloons, Goldfinger)  ...  (Seein' Red, Unwritten Law)   \n",
       "\n",
       "          1yo9liZKrCiuvM9StsWAOm   3Gqqhxc01oNb8wDnR2qvIh  \\\n",
       "0  (Can't Be Saved, Senses Fail)  (Secrets, State Champs)   \n",
       "\n",
       "        6GkeYr3TLFwtgbggj5EFym                252htgicGlEQdV2se6iZdJ  \\\n",
       "0  (How Far I'll Go, Boy Hero)  (Dear X, You Don't Own Me, Disciple)   \n",
       "\n",
       "       3nlT74t8h4XlV1D72pErhj              591vJuuep0gfPhx9p8WPD5  \\\n",
       "0  (Wasting My Time, Default)  (Reinventing Your Exit, Underoath)   \n",
       "\n",
       "                              6xP5TGWu1GBEHjMBmHRbjT 5kqr6EkKEafBGKxzjdXOVP  \\\n",
       "0  (Hey Leonardo (She Likes Me for Me), Blessid U...  (Hammer, Point North)   \n",
       "\n",
       "            5HLLD7xSN2DIMQDG7Tw2wv  \n",
       "0  (Far Behind, Social Distortion)  \n",
       "\n",
       "[1 rows x 202 columns]"
      ]
     },
     "execution_count": 18,
     "metadata": {},
     "output_type": "execute_result"
    }
   ],
   "source": [
    "songs_df"
   ]
  },
  {
   "cell_type": "markdown",
   "id": "bf1a3873",
   "metadata": {},
   "source": [
    "# Extract song ID and audio features from a single playlist and create a df"
   ]
  },
  {
   "cell_type": "code",
   "execution_count": 19,
   "id": "b11f7045",
   "metadata": {},
   "outputs": [],
   "source": [
    "# create a dictionary with all the info:\n",
    "audio_features = {}\n",
    "\n",
    "for track in playlist['items']:\n",
    "    audio_features[track[\"track\"][\"id\"]] = sp.audio_features(track[\"track\"][\"id\"])"
   ]
  },
  {
   "cell_type": "code",
   "execution_count": 21,
   "id": "443e7dbd",
   "metadata": {},
   "outputs": [],
   "source": [
    "audiofeat_df=pd.DataFrame.from_dict([audio_features])"
   ]
  },
  {
   "cell_type": "code",
   "execution_count": 22,
   "id": "5bbc6d55",
   "metadata": {},
   "outputs": [
    {
     "data": {
      "text/html": [
       "<div>\n",
       "<style scoped>\n",
       "    .dataframe tbody tr th:only-of-type {\n",
       "        vertical-align: middle;\n",
       "    }\n",
       "\n",
       "    .dataframe tbody tr th {\n",
       "        vertical-align: top;\n",
       "    }\n",
       "\n",
       "    .dataframe thead th {\n",
       "        text-align: right;\n",
       "    }\n",
       "</style>\n",
       "<table border=\"1\" class=\"dataframe\">\n",
       "  <thead>\n",
       "    <tr style=\"text-align: right;\">\n",
       "      <th></th>\n",
       "      <th>1ru5R5iSawvuMELqKXxLjS</th>\n",
       "      <th>1HNE2PX70ztbEl6MLxrpNL</th>\n",
       "      <th>7yCPwWs66K8Ba5lFuU2bcx</th>\n",
       "      <th>4EchqUKQ3qAQuRNKmeIpnf</th>\n",
       "      <th>0BRHnOFm6sjxN1i9LJrUDu</th>\n",
       "      <th>5kD9T7GForh8LnRz5ClbL8</th>\n",
       "      <th>3Zwu2K0Qa5sT6teCCHPShP</th>\n",
       "      <th>4OSbctVD37ycS0H3rwRm72</th>\n",
       "      <th>6xyiHZgrmXw7sMyYXbXjPV</th>\n",
       "      <th>0rOTMSSa6yscfOrGnzfheM</th>\n",
       "      <th>...</th>\n",
       "      <th>18WGOPbU4FN3VY12BWKb2q</th>\n",
       "      <th>64yrDBpcdwEdNY9loyEGbX</th>\n",
       "      <th>6L89mwZXSOwYl76YXfX13s</th>\n",
       "      <th>6nTiIhLmQ3FWhvrGafw2zj</th>\n",
       "      <th>19YmvsVCetCBeVj6O2mljR</th>\n",
       "      <th>6vFD3c1WI1zuKoyk22dMw3</th>\n",
       "      <th>2dnncNWW2qbUiFRcc9an9p</th>\n",
       "      <th>0a7BloCiNzLDD9qSQHh5m7</th>\n",
       "      <th>2TfSHkHiFO4gRztVIkggkE</th>\n",
       "      <th>4c7xQ7OsqL6W4RwEQmID7g</th>\n",
       "    </tr>\n",
       "  </thead>\n",
       "  <tbody>\n",
       "    <tr>\n",
       "      <th>0</th>\n",
       "      <td>[{'danceability': 0.418, 'energy': 0.945, 'key...</td>\n",
       "      <td>[{'danceability': 0.568, 'energy': 0.844, 'key...</td>\n",
       "      <td>[{'danceability': 0.439, 'energy': 0.891, 'key...</td>\n",
       "      <td>[{'danceability': 0.523, 'energy': 0.943, 'key...</td>\n",
       "      <td>[{'danceability': 0.494, 'energy': 0.939, 'key...</td>\n",
       "      <td>[{'danceability': 0.634, 'energy': 0.886, 'key...</td>\n",
       "      <td>[{'danceability': 0.459, 'energy': 0.891, 'key...</td>\n",
       "      <td>[{'danceability': 0.2, 'energy': 0.977, 'key':...</td>\n",
       "      <td>[{'danceability': 0.435, 'energy': 0.95, 'key'...</td>\n",
       "      <td>[{'danceability': 0.285, 'energy': 0.843, 'key...</td>\n",
       "      <td>...</td>\n",
       "      <td>[{'danceability': 0.447, 'energy': 0.908, 'key...</td>\n",
       "      <td>[{'danceability': 0.268, 'energy': 0.742, 'key...</td>\n",
       "      <td>[{'danceability': 0.442, 'energy': 0.943, 'key...</td>\n",
       "      <td>[{'danceability': 0.38, 'energy': 0.988, 'key'...</td>\n",
       "      <td>[{'danceability': 0.54, 'energy': 0.902, 'key'...</td>\n",
       "      <td>[{'danceability': 0.686, 'energy': 0.84, 'key'...</td>\n",
       "      <td>[{'danceability': 0.625, 'energy': 0.766, 'key...</td>\n",
       "      <td>[{'danceability': 0.622, 'energy': 0.961, 'key...</td>\n",
       "      <td>[{'danceability': 0.494, 'energy': 0.842, 'key...</td>\n",
       "      <td>[{'danceability': 0.435, 'energy': 0.887, 'key...</td>\n",
       "    </tr>\n",
       "  </tbody>\n",
       "</table>\n",
       "<p>1 rows × 100 columns</p>\n",
       "</div>"
      ],
      "text/plain": [
       "                              1ru5R5iSawvuMELqKXxLjS  \\\n",
       "0  [{'danceability': 0.418, 'energy': 0.945, 'key...   \n",
       "\n",
       "                              1HNE2PX70ztbEl6MLxrpNL  \\\n",
       "0  [{'danceability': 0.568, 'energy': 0.844, 'key...   \n",
       "\n",
       "                              7yCPwWs66K8Ba5lFuU2bcx  \\\n",
       "0  [{'danceability': 0.439, 'energy': 0.891, 'key...   \n",
       "\n",
       "                              4EchqUKQ3qAQuRNKmeIpnf  \\\n",
       "0  [{'danceability': 0.523, 'energy': 0.943, 'key...   \n",
       "\n",
       "                              0BRHnOFm6sjxN1i9LJrUDu  \\\n",
       "0  [{'danceability': 0.494, 'energy': 0.939, 'key...   \n",
       "\n",
       "                              5kD9T7GForh8LnRz5ClbL8  \\\n",
       "0  [{'danceability': 0.634, 'energy': 0.886, 'key...   \n",
       "\n",
       "                              3Zwu2K0Qa5sT6teCCHPShP  \\\n",
       "0  [{'danceability': 0.459, 'energy': 0.891, 'key...   \n",
       "\n",
       "                              4OSbctVD37ycS0H3rwRm72  \\\n",
       "0  [{'danceability': 0.2, 'energy': 0.977, 'key':...   \n",
       "\n",
       "                              6xyiHZgrmXw7sMyYXbXjPV  \\\n",
       "0  [{'danceability': 0.435, 'energy': 0.95, 'key'...   \n",
       "\n",
       "                              0rOTMSSa6yscfOrGnzfheM  ...  \\\n",
       "0  [{'danceability': 0.285, 'energy': 0.843, 'key...  ...   \n",
       "\n",
       "                              18WGOPbU4FN3VY12BWKb2q  \\\n",
       "0  [{'danceability': 0.447, 'energy': 0.908, 'key...   \n",
       "\n",
       "                              64yrDBpcdwEdNY9loyEGbX  \\\n",
       "0  [{'danceability': 0.268, 'energy': 0.742, 'key...   \n",
       "\n",
       "                              6L89mwZXSOwYl76YXfX13s  \\\n",
       "0  [{'danceability': 0.442, 'energy': 0.943, 'key...   \n",
       "\n",
       "                              6nTiIhLmQ3FWhvrGafw2zj  \\\n",
       "0  [{'danceability': 0.38, 'energy': 0.988, 'key'...   \n",
       "\n",
       "                              19YmvsVCetCBeVj6O2mljR  \\\n",
       "0  [{'danceability': 0.54, 'energy': 0.902, 'key'...   \n",
       "\n",
       "                              6vFD3c1WI1zuKoyk22dMw3  \\\n",
       "0  [{'danceability': 0.686, 'energy': 0.84, 'key'...   \n",
       "\n",
       "                              2dnncNWW2qbUiFRcc9an9p  \\\n",
       "0  [{'danceability': 0.625, 'energy': 0.766, 'key...   \n",
       "\n",
       "                              0a7BloCiNzLDD9qSQHh5m7  \\\n",
       "0  [{'danceability': 0.622, 'energy': 0.961, 'key...   \n",
       "\n",
       "                              2TfSHkHiFO4gRztVIkggkE  \\\n",
       "0  [{'danceability': 0.494, 'energy': 0.842, 'key...   \n",
       "\n",
       "                              4c7xQ7OsqL6W4RwEQmID7g  \n",
       "0  [{'danceability': 0.435, 'energy': 0.887, 'key...  \n",
       "\n",
       "[1 rows x 100 columns]"
      ]
     },
     "execution_count": 22,
     "metadata": {},
     "output_type": "execute_result"
    }
   ],
   "source": [
    "audiofeat_df"
   ]
  },
  {
   "cell_type": "markdown",
   "id": "99d5682a",
   "metadata": {},
   "source": [
    "# Concat the two df in one"
   ]
  },
  {
   "cell_type": "code",
   "execution_count": 23,
   "id": "014d5325",
   "metadata": {},
   "outputs": [],
   "source": [
    "songs_info_df = pd.concat([songs_df, audiofeat_df])"
   ]
  },
  {
   "cell_type": "code",
   "execution_count": 24,
   "id": "8da8f3cf",
   "metadata": {},
   "outputs": [
    {
     "data": {
      "text/html": [
       "<div>\n",
       "<style scoped>\n",
       "    .dataframe tbody tr th:only-of-type {\n",
       "        vertical-align: middle;\n",
       "    }\n",
       "\n",
       "    .dataframe tbody tr th {\n",
       "        vertical-align: top;\n",
       "    }\n",
       "\n",
       "    .dataframe thead th {\n",
       "        text-align: right;\n",
       "    }\n",
       "</style>\n",
       "<table border=\"1\" class=\"dataframe\">\n",
       "  <thead>\n",
       "    <tr style=\"text-align: right;\">\n",
       "      <th></th>\n",
       "      <th>1ru5R5iSawvuMELqKXxLjS</th>\n",
       "      <th>1HNE2PX70ztbEl6MLxrpNL</th>\n",
       "      <th>7yCPwWs66K8Ba5lFuU2bcx</th>\n",
       "      <th>4EchqUKQ3qAQuRNKmeIpnf</th>\n",
       "      <th>0BRHnOFm6sjxN1i9LJrUDu</th>\n",
       "      <th>5kD9T7GForh8LnRz5ClbL8</th>\n",
       "      <th>3Zwu2K0Qa5sT6teCCHPShP</th>\n",
       "      <th>4OSbctVD37ycS0H3rwRm72</th>\n",
       "      <th>6xyiHZgrmXw7sMyYXbXjPV</th>\n",
       "      <th>0rOTMSSa6yscfOrGnzfheM</th>\n",
       "      <th>...</th>\n",
       "      <th>6xGQhOHsCkwWIMdxXTuCfS</th>\n",
       "      <th>1yo9liZKrCiuvM9StsWAOm</th>\n",
       "      <th>3Gqqhxc01oNb8wDnR2qvIh</th>\n",
       "      <th>6GkeYr3TLFwtgbggj5EFym</th>\n",
       "      <th>252htgicGlEQdV2se6iZdJ</th>\n",
       "      <th>3nlT74t8h4XlV1D72pErhj</th>\n",
       "      <th>591vJuuep0gfPhx9p8WPD5</th>\n",
       "      <th>6xP5TGWu1GBEHjMBmHRbjT</th>\n",
       "      <th>5kqr6EkKEafBGKxzjdXOVP</th>\n",
       "      <th>5HLLD7xSN2DIMQDG7Tw2wv</th>\n",
       "    </tr>\n",
       "  </thead>\n",
       "  <tbody>\n",
       "    <tr>\n",
       "      <th>0</th>\n",
       "      <td>(The Impression That I Get, The Mighty Mighty ...</td>\n",
       "      <td>(In Too Deep, Sum 41)</td>\n",
       "      <td>(All The Small Things, blink-182)</td>\n",
       "      <td>(The Kids Aren't Alright, The Offspring)</td>\n",
       "      <td>(The Anthem, Good Charlotte)</td>\n",
       "      <td>(The Middle, Jimmy Eat World)</td>\n",
       "      <td>(Thnks fr th Mmrs, Fall Out Boy)</td>\n",
       "      <td>(Prayer Of The Refugee, Rise Against)</td>\n",
       "      <td>(Everything Is Alright, Motion City Soundtrack)</td>\n",
       "      <td>(99 Red Balloons, Goldfinger)</td>\n",
       "      <td>...</td>\n",
       "      <td>(Seein' Red, Unwritten Law)</td>\n",
       "      <td>(Can't Be Saved, Senses Fail)</td>\n",
       "      <td>(Secrets, State Champs)</td>\n",
       "      <td>(How Far I'll Go, Boy Hero)</td>\n",
       "      <td>(Dear X, You Don't Own Me, Disciple)</td>\n",
       "      <td>(Wasting My Time, Default)</td>\n",
       "      <td>(Reinventing Your Exit, Underoath)</td>\n",
       "      <td>(Hey Leonardo (She Likes Me for Me), Blessid U...</td>\n",
       "      <td>(Hammer, Point North)</td>\n",
       "      <td>(Far Behind, Social Distortion)</td>\n",
       "    </tr>\n",
       "    <tr>\n",
       "      <th>0</th>\n",
       "      <td>[{'danceability': 0.418, 'energy': 0.945, 'key...</td>\n",
       "      <td>[{'danceability': 0.568, 'energy': 0.844, 'key...</td>\n",
       "      <td>[{'danceability': 0.439, 'energy': 0.891, 'key...</td>\n",
       "      <td>[{'danceability': 0.523, 'energy': 0.943, 'key...</td>\n",
       "      <td>[{'danceability': 0.494, 'energy': 0.939, 'key...</td>\n",
       "      <td>[{'danceability': 0.634, 'energy': 0.886, 'key...</td>\n",
       "      <td>[{'danceability': 0.459, 'energy': 0.891, 'key...</td>\n",
       "      <td>[{'danceability': 0.2, 'energy': 0.977, 'key':...</td>\n",
       "      <td>[{'danceability': 0.435, 'energy': 0.95, 'key'...</td>\n",
       "      <td>[{'danceability': 0.285, 'energy': 0.843, 'key...</td>\n",
       "      <td>...</td>\n",
       "      <td>NaN</td>\n",
       "      <td>NaN</td>\n",
       "      <td>NaN</td>\n",
       "      <td>NaN</td>\n",
       "      <td>NaN</td>\n",
       "      <td>NaN</td>\n",
       "      <td>NaN</td>\n",
       "      <td>NaN</td>\n",
       "      <td>NaN</td>\n",
       "      <td>NaN</td>\n",
       "    </tr>\n",
       "  </tbody>\n",
       "</table>\n",
       "<p>2 rows × 202 columns</p>\n",
       "</div>"
      ],
      "text/plain": [
       "                              1ru5R5iSawvuMELqKXxLjS  \\\n",
       "0  (The Impression That I Get, The Mighty Mighty ...   \n",
       "0  [{'danceability': 0.418, 'energy': 0.945, 'key...   \n",
       "\n",
       "                              1HNE2PX70ztbEl6MLxrpNL  \\\n",
       "0                              (In Too Deep, Sum 41)   \n",
       "0  [{'danceability': 0.568, 'energy': 0.844, 'key...   \n",
       "\n",
       "                              7yCPwWs66K8Ba5lFuU2bcx  \\\n",
       "0                  (All The Small Things, blink-182)   \n",
       "0  [{'danceability': 0.439, 'energy': 0.891, 'key...   \n",
       "\n",
       "                              4EchqUKQ3qAQuRNKmeIpnf  \\\n",
       "0           (The Kids Aren't Alright, The Offspring)   \n",
       "0  [{'danceability': 0.523, 'energy': 0.943, 'key...   \n",
       "\n",
       "                              0BRHnOFm6sjxN1i9LJrUDu  \\\n",
       "0                       (The Anthem, Good Charlotte)   \n",
       "0  [{'danceability': 0.494, 'energy': 0.939, 'key...   \n",
       "\n",
       "                              5kD9T7GForh8LnRz5ClbL8  \\\n",
       "0                      (The Middle, Jimmy Eat World)   \n",
       "0  [{'danceability': 0.634, 'energy': 0.886, 'key...   \n",
       "\n",
       "                              3Zwu2K0Qa5sT6teCCHPShP  \\\n",
       "0                   (Thnks fr th Mmrs, Fall Out Boy)   \n",
       "0  [{'danceability': 0.459, 'energy': 0.891, 'key...   \n",
       "\n",
       "                              4OSbctVD37ycS0H3rwRm72  \\\n",
       "0              (Prayer Of The Refugee, Rise Against)   \n",
       "0  [{'danceability': 0.2, 'energy': 0.977, 'key':...   \n",
       "\n",
       "                              6xyiHZgrmXw7sMyYXbXjPV  \\\n",
       "0    (Everything Is Alright, Motion City Soundtrack)   \n",
       "0  [{'danceability': 0.435, 'energy': 0.95, 'key'...   \n",
       "\n",
       "                              0rOTMSSa6yscfOrGnzfheM  ...  \\\n",
       "0                      (99 Red Balloons, Goldfinger)  ...   \n",
       "0  [{'danceability': 0.285, 'energy': 0.843, 'key...  ...   \n",
       "\n",
       "        6xGQhOHsCkwWIMdxXTuCfS         1yo9liZKrCiuvM9StsWAOm  \\\n",
       "0  (Seein' Red, Unwritten Law)  (Can't Be Saved, Senses Fail)   \n",
       "0                          NaN                            NaN   \n",
       "\n",
       "    3Gqqhxc01oNb8wDnR2qvIh       6GkeYr3TLFwtgbggj5EFym  \\\n",
       "0  (Secrets, State Champs)  (How Far I'll Go, Boy Hero)   \n",
       "0                      NaN                          NaN   \n",
       "\n",
       "                 252htgicGlEQdV2se6iZdJ      3nlT74t8h4XlV1D72pErhj  \\\n",
       "0  (Dear X, You Don't Own Me, Disciple)  (Wasting My Time, Default)   \n",
       "0                                   NaN                         NaN   \n",
       "\n",
       "               591vJuuep0gfPhx9p8WPD5  \\\n",
       "0  (Reinventing Your Exit, Underoath)   \n",
       "0                                 NaN   \n",
       "\n",
       "                              6xP5TGWu1GBEHjMBmHRbjT 5kqr6EkKEafBGKxzjdXOVP  \\\n",
       "0  (Hey Leonardo (She Likes Me for Me), Blessid U...  (Hammer, Point North)   \n",
       "0                                                NaN                    NaN   \n",
       "\n",
       "            5HLLD7xSN2DIMQDG7Tw2wv  \n",
       "0  (Far Behind, Social Distortion)  \n",
       "0                              NaN  \n",
       "\n",
       "[2 rows x 202 columns]"
      ]
     },
     "execution_count": 24,
     "metadata": {},
     "output_type": "execute_result"
    }
   ],
   "source": [
    "songs_info_df"
   ]
  },
  {
   "cell_type": "markdown",
   "id": "75a0eeb6",
   "metadata": {},
   "source": [
    "# Define a function for all the process"
   ]
  },
  {
   "cell_type": "code",
   "execution_count": 28,
   "id": "584fc20d",
   "metadata": {},
   "outputs": [],
   "source": [
    "def spotify_connect():\n",
    "    import spotipy \n",
    "    from spotipy.oauth2 import SpotifyClientCredentials\n",
    "    import pandas as pd\n",
    "    import getpass\n",
    "    \n",
    "    # identification\n",
    "    client_id=str(getpass.getpass('enter your client id'))\n",
    "    client_secret=str(getpass.getpass('enter your client secret')) \n",
    "    sp = spotipy.Spotify(auth_manager=SpotifyClientCredentials(\n",
    "    client_id=client_id,\n",
    "    client_secret=client_secret))\n",
    "    \n",
    "    #extract song ID, name, singer and audio features and create a df\n",
    "    playlist = sp.user_playlist_tracks(\"CW\", \"39sVxPTg7BKwrf2MfgrtcD\")\n",
    "    tracks = playlist['items']\n",
    "    results=sp.user_playlist_tracks(\"CW\", \"39sVxPTg7BKwrf2MfgrtcD\")\n",
    "    tracks = results['items']\n",
    "    while results['next']:\n",
    "        results=sp.next(results)\n",
    "        tracks.extend(results['items'])\n",
    "    songs = {}\n",
    "    for track in tracks:\n",
    "        songs[track[\"track\"][\"id\"]]=track[\"track\"][\"name\"], track[\"track\"][\"artists\"][0][\"name\"]\n",
    "    songs_df=pd.DataFrame.from_dict([songs])\n",
    "    audio_features = {}\n",
    "    for track in playlist['items']:\n",
    "        audio_features[track[\"track\"][\"id\"]] = sp.audio_features(track[\"track\"][\"id\"])\n",
    "    audiofeat_df=pd.DataFrame.from_dict([audio_features])\n",
    "    songs_info_df = pd.concat([songs_df, audiofeat_df])\n",
    "    print(songs_info_df)\n",
    "    \n",
    "    # check if the input song is in the Spotify list (I will add a step in the Recommender function calling this before the final step)"
   ]
  },
  {
   "cell_type": "code",
   "execution_count": 29,
   "id": "132e11e4",
   "metadata": {},
   "outputs": [
    {
     "name": "stdout",
     "output_type": "stream",
     "text": [
      "enter your client id········\n",
      "enter your client secret········\n",
      "                              1ru5R5iSawvuMELqKXxLjS  \\\n",
      "0  (The Impression That I Get, The Mighty Mighty ...   \n",
      "0  [{'danceability': 0.418, 'energy': 0.945, 'key...   \n",
      "\n",
      "                              1HNE2PX70ztbEl6MLxrpNL  \\\n",
      "0                              (In Too Deep, Sum 41)   \n",
      "0  [{'danceability': 0.568, 'energy': 0.844, 'key...   \n",
      "\n",
      "                              7yCPwWs66K8Ba5lFuU2bcx  \\\n",
      "0                  (All The Small Things, blink-182)   \n",
      "0  [{'danceability': 0.439, 'energy': 0.891, 'key...   \n",
      "\n",
      "                              4EchqUKQ3qAQuRNKmeIpnf  \\\n",
      "0           (The Kids Aren't Alright, The Offspring)   \n",
      "0  [{'danceability': 0.523, 'energy': 0.943, 'key...   \n",
      "\n",
      "                              0BRHnOFm6sjxN1i9LJrUDu  \\\n",
      "0                       (The Anthem, Good Charlotte)   \n",
      "0  [{'danceability': 0.494, 'energy': 0.939, 'key...   \n",
      "\n",
      "                              5kD9T7GForh8LnRz5ClbL8  \\\n",
      "0                      (The Middle, Jimmy Eat World)   \n",
      "0  [{'danceability': 0.634, 'energy': 0.886, 'key...   \n",
      "\n",
      "                              3Zwu2K0Qa5sT6teCCHPShP  \\\n",
      "0                   (Thnks fr th Mmrs, Fall Out Boy)   \n",
      "0  [{'danceability': 0.459, 'energy': 0.891, 'key...   \n",
      "\n",
      "                              4OSbctVD37ycS0H3rwRm72  \\\n",
      "0              (Prayer Of The Refugee, Rise Against)   \n",
      "0  [{'danceability': 0.2, 'energy': 0.977, 'key':...   \n",
      "\n",
      "                              6xyiHZgrmXw7sMyYXbXjPV  \\\n",
      "0    (Everything Is Alright, Motion City Soundtrack)   \n",
      "0  [{'danceability': 0.435, 'energy': 0.95, 'key'...   \n",
      "\n",
      "                              0rOTMSSa6yscfOrGnzfheM  ...  \\\n",
      "0                      (99 Red Balloons, Goldfinger)  ...   \n",
      "0  [{'danceability': 0.285, 'energy': 0.843, 'key...  ...   \n",
      "\n",
      "        6xGQhOHsCkwWIMdxXTuCfS         1yo9liZKrCiuvM9StsWAOm  \\\n",
      "0  (Seein' Red, Unwritten Law)  (Can't Be Saved, Senses Fail)   \n",
      "0                          NaN                            NaN   \n",
      "\n",
      "    3Gqqhxc01oNb8wDnR2qvIh       6GkeYr3TLFwtgbggj5EFym  \\\n",
      "0  (Secrets, State Champs)  (How Far I'll Go, Boy Hero)   \n",
      "0                      NaN                          NaN   \n",
      "\n",
      "                 252htgicGlEQdV2se6iZdJ      3nlT74t8h4XlV1D72pErhj  \\\n",
      "0  (Dear X, You Don't Own Me, Disciple)  (Wasting My Time, Default)   \n",
      "0                                   NaN                         NaN   \n",
      "\n",
      "               591vJuuep0gfPhx9p8WPD5  \\\n",
      "0  (Reinventing Your Exit, Underoath)   \n",
      "0                                 NaN   \n",
      "\n",
      "                              6xP5TGWu1GBEHjMBmHRbjT 5kqr6EkKEafBGKxzjdXOVP  \\\n",
      "0  (Hey Leonardo (She Likes Me for Me), Blessid U...  (Hammer, Point North)   \n",
      "0                                                NaN                    NaN   \n",
      "\n",
      "            5HLLD7xSN2DIMQDG7Tw2wv  \n",
      "0  (Far Behind, Social Distortion)  \n",
      "0                              NaN  \n",
      "\n",
      "[2 rows x 202 columns]\n"
     ]
    }
   ],
   "source": [
    "spotify_connect()"
   ]
  },
  {
   "cell_type": "code",
   "execution_count": null,
   "id": "9c0ca650",
   "metadata": {},
   "outputs": [],
   "source": []
  },
  {
   "cell_type": "code",
   "execution_count": null,
   "id": "ba13e530",
   "metadata": {},
   "outputs": [],
   "source": []
  },
  {
   "cell_type": "code",
   "execution_count": null,
   "id": "48eb1436",
   "metadata": {},
   "outputs": [],
   "source": []
  }
 ],
 "metadata": {
  "kernelspec": {
   "display_name": "Python 3 (ipykernel)",
   "language": "python",
   "name": "python3"
  },
  "language_info": {
   "codemirror_mode": {
    "name": "ipython",
    "version": 3
   },
   "file_extension": ".py",
   "mimetype": "text/x-python",
   "name": "python",
   "nbconvert_exporter": "python",
   "pygments_lexer": "ipython3",
   "version": "3.8.13"
  },
  "toc": {
   "base_numbering": 1,
   "nav_menu": {},
   "number_sections": true,
   "sideBar": true,
   "skip_h1_title": false,
   "title_cell": "Table of Contents",
   "title_sidebar": "Contents",
   "toc_cell": false,
   "toc_position": {},
   "toc_section_display": true,
   "toc_window_display": false
  }
 },
 "nbformat": 4,
 "nbformat_minor": 5
}
