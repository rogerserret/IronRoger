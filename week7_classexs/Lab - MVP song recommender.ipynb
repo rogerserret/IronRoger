{
 "cells": [
  {
   "cell_type": "markdown",
   "id": "89ec5d6d",
   "metadata": {},
   "source": [
    "# Creating a MVP for the song recommender"
   ]
  },
  {
   "cell_type": "markdown",
   "id": "e6af60df",
   "metadata": {},
   "source": [
    "- Import data and create df\n",
    "- Collect user input\n",
    "- Deal with possible user input errors / behaviours\n",
    "- Look for what the user has input, against the 100 hot song collection\n",
    "- Feedback to user if their song is hot or not\n",
    "- Provide a recommendation from the collection - potentially randomly"
   ]
  },
  {
   "cell_type": "markdown",
   "id": "0b425362",
   "metadata": {},
   "source": [
    "## Import data and create df"
   ]
  },
  {
   "cell_type": "code",
   "execution_count": 1,
   "id": "ac91ec7e",
   "metadata": {},
   "outputs": [],
   "source": [
    "import pandas as pd\n",
    "import random"
   ]
  },
  {
   "cell_type": "code",
   "execution_count": 2,
   "id": "52464369",
   "metadata": {},
   "outputs": [
    {
     "data": {
      "text/html": [
       "<div>\n",
       "<style scoped>\n",
       "    .dataframe tbody tr th:only-of-type {\n",
       "        vertical-align: middle;\n",
       "    }\n",
       "\n",
       "    .dataframe tbody tr th {\n",
       "        vertical-align: top;\n",
       "    }\n",
       "\n",
       "    .dataframe thead th {\n",
       "        text-align: right;\n",
       "    }\n",
       "</style>\n",
       "<table border=\"1\" class=\"dataframe\">\n",
       "  <thead>\n",
       "    <tr style=\"text-align: right;\">\n",
       "      <th></th>\n",
       "      <th>rank</th>\n",
       "      <th>song</th>\n",
       "      <th>singer</th>\n",
       "    </tr>\n",
       "  </thead>\n",
       "  <tbody>\n",
       "    <tr>\n",
       "      <th>0</th>\n",
       "      <td>1</td>\n",
       "      <td>First Class</td>\n",
       "      <td>Jack Harlow</td>\n",
       "    </tr>\n",
       "    <tr>\n",
       "      <th>1</th>\n",
       "      <td>2</td>\n",
       "      <td>As It Was</td>\n",
       "      <td>Harry Styles</td>\n",
       "    </tr>\n",
       "    <tr>\n",
       "      <th>2</th>\n",
       "      <td>3</td>\n",
       "      <td>Wait For U</td>\n",
       "      <td>Future Featuring Drake &amp; Tems</td>\n",
       "    </tr>\n",
       "    <tr>\n",
       "      <th>3</th>\n",
       "      <td>4</td>\n",
       "      <td>Moscow Mule</td>\n",
       "      <td>Bad Bunny</td>\n",
       "    </tr>\n",
       "    <tr>\n",
       "      <th>4</th>\n",
       "      <td>5</td>\n",
       "      <td>Titi Me Pregunto</td>\n",
       "      <td>Bad Bunny</td>\n",
       "    </tr>\n",
       "  </tbody>\n",
       "</table>\n",
       "</div>"
      ],
      "text/plain": [
       "   rank              song                         singer\n",
       "0     1       First Class                    Jack Harlow\n",
       "1     2         As It Was                   Harry Styles\n",
       "2     3        Wait For U  Future Featuring Drake & Tems\n",
       "3     4       Moscow Mule                      Bad Bunny\n",
       "4     5  Titi Me Pregunto                      Bad Bunny"
      ]
     },
     "execution_count": 2,
     "metadata": {},
     "output_type": "execute_result"
    }
   ],
   "source": [
    "top100= pd.read_excel('top100songs.xlsx') # import df\n",
    "top100.head()"
   ]
  },
  {
   "cell_type": "code",
   "execution_count": 3,
   "id": "fcc7c4dc",
   "metadata": {},
   "outputs": [],
   "source": [
    "top100['song'] = top100['song'].str.rstrip().str.lstrip().str.lower() #lower case all song and singer names\n",
    "top100['singer'] = top100['singer'].str.lower()"
   ]
  },
  {
   "cell_type": "code",
   "execution_count": 4,
   "id": "80cfe1e3",
   "metadata": {},
   "outputs": [
    {
     "data": {
      "text/html": [
       "<div>\n",
       "<style scoped>\n",
       "    .dataframe tbody tr th:only-of-type {\n",
       "        vertical-align: middle;\n",
       "    }\n",
       "\n",
       "    .dataframe tbody tr th {\n",
       "        vertical-align: top;\n",
       "    }\n",
       "\n",
       "    .dataframe thead th {\n",
       "        text-align: right;\n",
       "    }\n",
       "</style>\n",
       "<table border=\"1\" class=\"dataframe\">\n",
       "  <thead>\n",
       "    <tr style=\"text-align: right;\">\n",
       "      <th></th>\n",
       "      <th>rank</th>\n",
       "      <th>song</th>\n",
       "      <th>singer</th>\n",
       "    </tr>\n",
       "  </thead>\n",
       "  <tbody>\n",
       "    <tr>\n",
       "      <th>0</th>\n",
       "      <td>1</td>\n",
       "      <td>first class</td>\n",
       "      <td>jack harlow</td>\n",
       "    </tr>\n",
       "    <tr>\n",
       "      <th>1</th>\n",
       "      <td>2</td>\n",
       "      <td>as it was</td>\n",
       "      <td>harry styles</td>\n",
       "    </tr>\n",
       "    <tr>\n",
       "      <th>2</th>\n",
       "      <td>3</td>\n",
       "      <td>wait for u</td>\n",
       "      <td>future featuring drake &amp; tems</td>\n",
       "    </tr>\n",
       "    <tr>\n",
       "      <th>3</th>\n",
       "      <td>4</td>\n",
       "      <td>moscow mule</td>\n",
       "      <td>bad bunny</td>\n",
       "    </tr>\n",
       "    <tr>\n",
       "      <th>4</th>\n",
       "      <td>5</td>\n",
       "      <td>titi me pregunto</td>\n",
       "      <td>bad bunny</td>\n",
       "    </tr>\n",
       "    <tr>\n",
       "      <th>...</th>\n",
       "      <td>...</td>\n",
       "      <td>...</td>\n",
       "      <td>...</td>\n",
       "    </tr>\n",
       "    <tr>\n",
       "      <th>95</th>\n",
       "      <td>96</td>\n",
       "      <td>frozen</td>\n",
       "      <td>lil baby</td>\n",
       "    </tr>\n",
       "    <tr>\n",
       "      <th>96</th>\n",
       "      <td>97</td>\n",
       "      <td>young harleezy</td>\n",
       "      <td>jack harlow</td>\n",
       "    </tr>\n",
       "    <tr>\n",
       "      <th>97</th>\n",
       "      <td>98</td>\n",
       "      <td>23</td>\n",
       "      <td>sam hunt</td>\n",
       "    </tr>\n",
       "    <tr>\n",
       "      <th>98</th>\n",
       "      <td>99</td>\n",
       "      <td>poison</td>\n",
       "      <td>jack harlow featuring lil wayne</td>\n",
       "    </tr>\n",
       "    <tr>\n",
       "      <th>99</th>\n",
       "      <td>100</td>\n",
       "      <td>honest</td>\n",
       "      <td>justin bieber &amp; don toliver</td>\n",
       "    </tr>\n",
       "  </tbody>\n",
       "</table>\n",
       "<p>100 rows × 3 columns</p>\n",
       "</div>"
      ],
      "text/plain": [
       "    rank              song                           singer\n",
       "0      1       first class                      jack harlow\n",
       "1      2         as it was                     harry styles\n",
       "2      3        wait for u    future featuring drake & tems\n",
       "3      4       moscow mule                        bad bunny\n",
       "4      5  titi me pregunto                        bad bunny\n",
       "..   ...               ...                              ...\n",
       "95    96            frozen                         lil baby\n",
       "96    97    young harleezy                      jack harlow\n",
       "97    98                23                         sam hunt\n",
       "98    99            poison  jack harlow featuring lil wayne\n",
       "99   100            honest      justin bieber & don toliver\n",
       "\n",
       "[100 rows x 3 columns]"
      ]
     },
     "execution_count": 4,
     "metadata": {},
     "output_type": "execute_result"
    }
   ],
   "source": [
    "top100"
   ]
  },
  {
   "cell_type": "markdown",
   "id": "cba9304f",
   "metadata": {},
   "source": [
    "## Collect user input"
   ]
  },
  {
   "cell_type": "code",
   "execution_count": 5,
   "id": "1d200b78",
   "metadata": {},
   "outputs": [],
   "source": [
    "top100songs=top100['song'].tolist() # a column is a series, we should convert it to list"
   ]
  },
  {
   "cell_type": "code",
   "execution_count": 6,
   "id": "9814fddd",
   "metadata": {},
   "outputs": [
    {
     "data": {
      "text/plain": [
       "['first class',\n",
       " 'as it was',\n",
       " 'wait for u',\n",
       " 'moscow mule',\n",
       " 'titi me pregunto',\n",
       " 'despues de la playa',\n",
       " 'heat waves',\n",
       " 'big energy',\n",
       " 'about damn time',\n",
       " 'me porto bonito',\n",
       " 'enemy',\n",
       " 'thought you should know',\n",
       " 'stay',\n",
       " 'party',\n",
       " 'the heart part 5',\n",
       " 'un ratito',\n",
       " 'ghost',\n",
       " 'tarot',\n",
       " 'puffin on zootiez',\n",
       " 'woman',\n",
       " 'dua lipa',\n",
       " 'yo no soy celoso',\n",
       " 'churchill downs',\n",
       " 'bad habits',\n",
       " 'super gremlin',\n",
       " 'ojitos lindos',\n",
       " 'provenza',\n",
       " 'thats what i want',\n",
       " 'shivers',\n",
       " 'cold heart (pnau remix)',\n",
       " 'neverita',\n",
       " 'la corriente',\n",
       " 'wasted on you',\n",
       " 'efecto',\n",
       " 'boyfriend',\n",
       " 'bam bam',\n",
       " \"'til you can't\",\n",
       " 'mamiii',\n",
       " 'sweetest pie',\n",
       " 'aa',\n",
       " 'abcdefu',\n",
       " 'industry baby',\n",
       " 'numb little bug',\n",
       " 'aguacero',\n",
       " 'dos mil 16',\n",
       " 'easy on me',\n",
       " 'need to know',\n",
       " 'trouble with a heartbreak',\n",
       " 'otro atardecer',\n",
       " \"this love (taylor's version)\",\n",
       " 'andrea',\n",
       " \"doin' this\",\n",
       " 'in a minute',\n",
       " 'el apagon',\n",
       " 'un verano sin ti',\n",
       " 'un coco',\n",
       " 'to the moon!',\n",
       " 'thousand miles',\n",
       " 'me fui de vacaciones',\n",
       " 'ensename a bailar',\n",
       " 'love you better',\n",
       " 'hrs and hrs',\n",
       " \"i'm on one\",\n",
       " '712pm',\n",
       " 'nail tech',\n",
       " 'take my name',\n",
       " 'never say never',\n",
       " \"she's all i wanna be\",\n",
       " 'right on',\n",
       " \"we don't talk about bruno\",\n",
       " 'damn strait',\n",
       " \"when you're gone\",\n",
       " 'if i was a cowboy',\n",
       " 'agosto',\n",
       " '2step',\n",
       " 'freaky deaky',\n",
       " 'something in the orange',\n",
       " 'what happened to virgil',\n",
       " \"i'm dat n***a\",\n",
       " 'never wanted to be that girl',\n",
       " 'get into it (yuh)',\n",
       " 'hold my hand',\n",
       " 'slow down summer',\n",
       " 'whiskey on you',\n",
       " \"don't think jesus\",\n",
       " 'peru',\n",
       " 'massaging me',\n",
       " \"i'd do anything to make you smile\",\n",
       " 'pushin p',\n",
       " 'flower shops',\n",
       " 'me or sum',\n",
       " 'beers on me',\n",
       " 'flowers',\n",
       " 'fingers crossed',\n",
       " 'the motto',\n",
       " 'frozen',\n",
       " 'young harleezy',\n",
       " '23',\n",
       " 'poison',\n",
       " 'honest']"
      ]
     },
     "execution_count": 6,
     "metadata": {},
     "output_type": "execute_result"
    }
   ],
   "source": [
    "top100songs"
   ]
  },
  {
   "cell_type": "code",
   "execution_count": 7,
   "id": "2042e03c",
   "metadata": {},
   "outputs": [
    {
     "name": "stdout",
     "output_type": "stream",
     "text": [
      "Write your favourite song to check if it's in the TOP100: Party\n",
      "Your song is in the TOP100 list! I also recommend you to listen to:  ojitos lindos\n"
     ]
    }
   ],
   "source": [
    "song_name = input(\"Write your favourite song to check if it's in the TOP100: \").lower()\n",
    "if len(song_name) < 3:\n",
    "    print(\"Write a song with more than 3 characters, don't be lazy!\")\n",
    "elif song_name in top100songs:\n",
    "    print('Your song is in the TOP100 list! I also recommend you to listen to: ', random.choice(top100songs))\n",
    "else:\n",
    "    print('You like weird music dude, your song is not in the TOP100 list!')"
   ]
  },
  {
   "cell_type": "code",
   "execution_count": 13,
   "id": "4e85ea3a",
   "metadata": {},
   "outputs": [],
   "source": [
    "def top100_check():\n",
    "    from billboard_scraping import billboard_scrape\n",
    "    top100 = billboard_scrape()\n",
    "    \n",
    "    # lower case all song and singer names and convert to list\n",
    "    top100['song'] = top100['song'].str.rstrip().str.lstrip().str.lower() #lower case all song and singer names\n",
    "    top100['singer'] = top100['singer'].str.lower()\n",
    "    top100songs=top100['song'].tolist()\n",
    "    \n",
    "    # check song\n",
    "    song_name = input(\"Write your favourite song to check if it's in the TOP100: \").lower()\n",
    "    if len(song_name) < 3:\n",
    "        print(\"Write a song with more than 3 characters, don't be lazy!\")\n",
    "    elif song_name in top100songs:\n",
    "        print('Your song is in the TOP100 list! I also recommend you to listen to: ', random.choice(top100songs))\n",
    "    else:\n",
    "        print('You like weird music dude, your song is not in the TOP100 list!')  \n",
    "    "
   ]
  },
  {
   "cell_type": "code",
   "execution_count": 14,
   "id": "af8df38a",
   "metadata": {},
   "outputs": [
    {
     "name": "stdout",
     "output_type": "stream",
     "text": [
      "Write your favourite song to check if it's in the TOP100: Party\n",
      "Your song is in the TOP100 list! I also recommend you to listen to:  boyfriend\n"
     ]
    }
   ],
   "source": [
    "top100_check()"
   ]
  }
 ],
 "metadata": {
  "kernelspec": {
   "display_name": "Python 3 (ipykernel)",
   "language": "python",
   "name": "python3"
  },
  "language_info": {
   "codemirror_mode": {
    "name": "ipython",
    "version": 3
   },
   "file_extension": ".py",
   "mimetype": "text/x-python",
   "name": "python",
   "nbconvert_exporter": "python",
   "pygments_lexer": "ipython3",
   "version": "3.8.13"
  },
  "toc": {
   "base_numbering": 1,
   "nav_menu": {},
   "number_sections": true,
   "sideBar": true,
   "skip_h1_title": false,
   "title_cell": "Table of Contents",
   "title_sidebar": "Contents",
   "toc_cell": false,
   "toc_position": {},
   "toc_section_display": true,
   "toc_window_display": false
  }
 },
 "nbformat": 4,
 "nbformat_minor": 5
}
