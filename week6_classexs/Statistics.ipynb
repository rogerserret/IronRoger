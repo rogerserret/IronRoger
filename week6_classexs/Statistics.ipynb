{
 "cells": [
  {
   "cell_type": "markdown",
   "id": "fd98b571",
   "metadata": {},
   "source": [
    "# School weigh case"
   ]
  },
  {
   "cell_type": "code",
   "execution_count": 1,
   "id": "479cdb45",
   "metadata": {},
   "outputs": [],
   "source": [
    "from scipy.stats import ttest_1samp"
   ]
  },
  {
   "cell_type": "code",
   "execution_count": 2,
   "id": "73698a5d",
   "metadata": {},
   "outputs": [],
   "source": [
    "from scipy.stats import norm"
   ]
  },
  {
   "cell_type": "markdown",
   "id": "3f8cdd87",
   "metadata": {},
   "source": [
    "## If we know the data"
   ]
  },
  {
   "cell_type": "code",
   "execution_count": 5,
   "id": "08a6a67d",
   "metadata": {},
   "outputs": [],
   "source": [
    "data = [87,68,69,71,85,86,76] #example weights\n",
    "#This could also come from a data frame, from a list or if we know the data and we write it manually"
   ]
  },
  {
   "cell_type": "code",
   "execution_count": 6,
   "id": "edcdb450",
   "metadata": {},
   "outputs": [],
   "source": [
    "test = ttest_1samp(a=data,popmean=85) #popmean = population mean\n",
    "# one sample, one sided (we only look to see if its below the mean, we don't care if it's above. If we cared, we would need to do a 2-sided test)"
   ]
  },
  {
   "cell_type": "code",
   "execution_count": 7,
   "id": "dede3b35",
   "metadata": {},
   "outputs": [
    {
     "name": "stdout",
     "output_type": "stream",
     "text": [
      "Ttest_1sampResult(statistic=-2.378172554291756, pvalue=0.054904857540624415)\n"
     ]
    }
   ],
   "source": [
    "print(test)\n"
   ]
  },
  {
   "cell_type": "code",
   "execution_count": 12,
   "id": "be376236",
   "metadata": {},
   "outputs": [],
   "source": [
    "# There is no extreme result - we don't have enough evidence (not all the cases are underweight which would be needed to take a conclusions in such a small sample)\n",
    "# We can't claim that boys are are underweight (the pvalue is higher than 0.05, and we are working in a standard interval of confidence of 95%)\n",
    "# We could also check the critical value for a p value of 0,05 and compare it to our statistic value (if statistic value is lower it means that the H0 is not true)\n",
    "# But both, p value and critical value should confirm that H0 is null, if one of them fails, then we cannot confirm that the H0 is null (so we cannot confirm that there is significal evidence)\n",
    "# We would accept the H0 + reject the HA"
   ]
  },
  {
   "cell_type": "markdown",
   "id": "7e96f17b",
   "metadata": {},
   "source": [
    "## If we don't know the data"
   ]
  },
  {
   "cell_type": "code",
   "execution_count": 11,
   "id": "9fdaf16f",
   "metadata": {},
   "outputs": [],
   "source": [
    "# if we don't have the readings/observations we can do the following:"
   ]
  },
  {
   "cell_type": "code",
   "execution_count": 10,
   "id": "b4c7d466",
   "metadata": {},
   "outputs": [],
   "source": [
    "sample_mean = 80.94\n",
    "pop_mean = 85\n",
    "sample_std = 11.6\n",
    "n = 25"
   ]
  },
  {
   "cell_type": "code",
   "execution_count": 14,
   "id": "30813fd0",
   "metadata": {},
   "outputs": [],
   "source": [
    "import math"
   ]
  },
  {
   "cell_type": "code",
   "execution_count": 15,
   "id": "102b88c1",
   "metadata": {},
   "outputs": [],
   "source": [
    "t_statistic = (sample_mean-pop_mean)/(sample_std/(math.sqrt(n-1)))"
   ]
  },
  {
   "cell_type": "code",
   "execution_count": 16,
   "id": "caf671d1",
   "metadata": {},
   "outputs": [
    {
     "data": {
      "text/plain": [
       "-1.7146428199482255"
      ]
     },
     "execution_count": 16,
     "metadata": {},
     "output_type": "execute_result"
    }
   ],
   "source": [
    "t_statistic"
   ]
  },
  {
   "cell_type": "code",
   "execution_count": 17,
   "id": "29983fd6",
   "metadata": {},
   "outputs": [],
   "source": [
    "#p value\n",
    "p_value=norm.cdf(t_statistic)"
   ]
  },
  {
   "cell_type": "code",
   "execution_count": 18,
   "id": "c76a7ec8",
   "metadata": {},
   "outputs": [
    {
     "data": {
      "text/plain": [
       "0.04320536648684992"
      ]
     },
     "execution_count": 18,
     "metadata": {},
     "output_type": "execute_result"
    }
   ],
   "source": [
    "p_value"
   ]
  },
  {
   "cell_type": "code",
   "execution_count": 20,
   "id": "4ff88ff2",
   "metadata": {},
   "outputs": [],
   "source": [
    "# critical value\n",
    "critical_value = norm.ppf(0.05)"
   ]
  },
  {
   "cell_type": "code",
   "execution_count": 21,
   "id": "455a9aaf",
   "metadata": {},
   "outputs": [
    {
     "data": {
      "text/plain": [
       "-1.6448536269514729"
      ]
     },
     "execution_count": 21,
     "metadata": {},
     "output_type": "execute_result"
    }
   ],
   "source": [
    "critical_value"
   ]
  },
  {
   "cell_type": "code",
   "execution_count": 22,
   "id": "ceda73c6",
   "metadata": {},
   "outputs": [],
   "source": [
    "# As t_statistic value is lower than critical_value we can say that boys are underweight (and p value is lower than 0.05)"
   ]
  },
  {
   "cell_type": "markdown",
   "id": "8d500107",
   "metadata": {},
   "source": [
    "# Anova test example"
   ]
  },
  {
   "cell_type": "code",
   "execution_count": 23,
   "id": "88323b12",
   "metadata": {},
   "outputs": [],
   "source": [
    "import pandas as pd"
   ]
  },
  {
   "cell_type": "code",
   "execution_count": 24,
   "id": "bdebaaf2",
   "metadata": {},
   "outputs": [],
   "source": [
    "df = pd.read_excel('anova_class_example_data.xlsx', sheet_name = 'data_collected')"
   ]
  },
  {
   "cell_type": "code",
   "execution_count": 25,
   "id": "4f384067",
   "metadata": {},
   "outputs": [
    {
     "data": {
      "text/html": [
       "<div>\n",
       "<style scoped>\n",
       "    .dataframe tbody tr th:only-of-type {\n",
       "        vertical-align: middle;\n",
       "    }\n",
       "\n",
       "    .dataframe tbody tr th {\n",
       "        vertical-align: top;\n",
       "    }\n",
       "\n",
       "    .dataframe thead th {\n",
       "        text-align: right;\n",
       "    }\n",
       "</style>\n",
       "<table border=\"1\" class=\"dataframe\">\n",
       "  <thead>\n",
       "    <tr style=\"text-align: right;\">\n",
       "      <th></th>\n",
       "      <th>Display_design</th>\n",
       "      <th>Percent_increase_in_sales</th>\n",
       "    </tr>\n",
       "  </thead>\n",
       "  <tbody>\n",
       "    <tr>\n",
       "      <th>0</th>\n",
       "      <td>1</td>\n",
       "      <td>575</td>\n",
       "    </tr>\n",
       "    <tr>\n",
       "      <th>1</th>\n",
       "      <td>2</td>\n",
       "      <td>565</td>\n",
       "    </tr>\n",
       "    <tr>\n",
       "      <th>2</th>\n",
       "      <td>3</td>\n",
       "      <td>600</td>\n",
       "    </tr>\n",
       "    <tr>\n",
       "      <th>3</th>\n",
       "      <td>4</td>\n",
       "      <td>725</td>\n",
       "    </tr>\n",
       "    <tr>\n",
       "      <th>4</th>\n",
       "      <td>1</td>\n",
       "      <td>542</td>\n",
       "    </tr>\n",
       "    <tr>\n",
       "      <th>5</th>\n",
       "      <td>2</td>\n",
       "      <td>593</td>\n",
       "    </tr>\n",
       "    <tr>\n",
       "      <th>6</th>\n",
       "      <td>3</td>\n",
       "      <td>651</td>\n",
       "    </tr>\n",
       "    <tr>\n",
       "      <th>7</th>\n",
       "      <td>4</td>\n",
       "      <td>700</td>\n",
       "    </tr>\n",
       "    <tr>\n",
       "      <th>8</th>\n",
       "      <td>1</td>\n",
       "      <td>530</td>\n",
       "    </tr>\n",
       "    <tr>\n",
       "      <th>9</th>\n",
       "      <td>2</td>\n",
       "      <td>590</td>\n",
       "    </tr>\n",
       "    <tr>\n",
       "      <th>10</th>\n",
       "      <td>3</td>\n",
       "      <td>610</td>\n",
       "    </tr>\n",
       "    <tr>\n",
       "      <th>11</th>\n",
       "      <td>4</td>\n",
       "      <td>715</td>\n",
       "    </tr>\n",
       "    <tr>\n",
       "      <th>12</th>\n",
       "      <td>1</td>\n",
       "      <td>539</td>\n",
       "    </tr>\n",
       "    <tr>\n",
       "      <th>13</th>\n",
       "      <td>2</td>\n",
       "      <td>579</td>\n",
       "    </tr>\n",
       "    <tr>\n",
       "      <th>14</th>\n",
       "      <td>3</td>\n",
       "      <td>637</td>\n",
       "    </tr>\n",
       "    <tr>\n",
       "      <th>15</th>\n",
       "      <td>4</td>\n",
       "      <td>685</td>\n",
       "    </tr>\n",
       "    <tr>\n",
       "      <th>16</th>\n",
       "      <td>1</td>\n",
       "      <td>570</td>\n",
       "    </tr>\n",
       "    <tr>\n",
       "      <th>17</th>\n",
       "      <td>2</td>\n",
       "      <td>610</td>\n",
       "    </tr>\n",
       "    <tr>\n",
       "      <th>18</th>\n",
       "      <td>3</td>\n",
       "      <td>629</td>\n",
       "    </tr>\n",
       "    <tr>\n",
       "      <th>19</th>\n",
       "      <td>4</td>\n",
       "      <td>710</td>\n",
       "    </tr>\n",
       "  </tbody>\n",
       "</table>\n",
       "</div>"
      ],
      "text/plain": [
       "    Display_design  Percent_increase_in_sales\n",
       "0                1                        575\n",
       "1                2                        565\n",
       "2                3                        600\n",
       "3                4                        725\n",
       "4                1                        542\n",
       "5                2                        593\n",
       "6                3                        651\n",
       "7                4                        700\n",
       "8                1                        530\n",
       "9                2                        590\n",
       "10               3                        610\n",
       "11               4                        715\n",
       "12               1                        539\n",
       "13               2                        579\n",
       "14               3                        637\n",
       "15               4                        685\n",
       "16               1                        570\n",
       "17               2                        610\n",
       "18               3                        629\n",
       "19               4                        710"
      ]
     },
     "execution_count": 25,
     "metadata": {},
     "output_type": "execute_result"
    }
   ],
   "source": [
    "df"
   ]
  },
  {
   "cell_type": "code",
   "execution_count": 26,
   "id": "3f96f24c",
   "metadata": {},
   "outputs": [],
   "source": [
    "import statsmodels.api as sm"
   ]
  },
  {
   "cell_type": "code",
   "execution_count": 27,
   "id": "dbda052a",
   "metadata": {},
   "outputs": [],
   "source": [
    "from statsmodels.formula.api import ols #ordinary least squares"
   ]
  },
  {
   "cell_type": "code",
   "execution_count": 29,
   "id": "5a0f6fdf",
   "metadata": {},
   "outputs": [],
   "source": [
    "# samples should be independent\n",
    "# samples should be similar period of time (in that case, same 5 days)\n",
    "# more than 2 samples\n",
    "# interested in difference not which is better/worse\n",
    "\n",
    "model = ols('Percent_increase_in_sales ~ C(Display_design)', data=df).fit()\n",
    "# first column is the one we want to see the impact on and the second one is the variation we apply"
   ]
  },
  {
   "cell_type": "code",
   "execution_count": 30,
   "id": "828a1bca",
   "metadata": {},
   "outputs": [],
   "source": [
    "results_table=sm.stats.anova_lm(model)"
   ]
  },
  {
   "cell_type": "code",
   "execution_count": 31,
   "id": "f7dd586d",
   "metadata": {},
   "outputs": [
    {
     "data": {
      "text/html": [
       "<div>\n",
       "<style scoped>\n",
       "    .dataframe tbody tr th:only-of-type {\n",
       "        vertical-align: middle;\n",
       "    }\n",
       "\n",
       "    .dataframe tbody tr th {\n",
       "        vertical-align: top;\n",
       "    }\n",
       "\n",
       "    .dataframe thead th {\n",
       "        text-align: right;\n",
       "    }\n",
       "</style>\n",
       "<table border=\"1\" class=\"dataframe\">\n",
       "  <thead>\n",
       "    <tr style=\"text-align: right;\">\n",
       "      <th></th>\n",
       "      <th>df</th>\n",
       "      <th>sum_sq</th>\n",
       "      <th>mean_sq</th>\n",
       "      <th>F</th>\n",
       "      <th>PR(&gt;F)</th>\n",
       "    </tr>\n",
       "  </thead>\n",
       "  <tbody>\n",
       "    <tr>\n",
       "      <th>C(Display_design)</th>\n",
       "      <td>3.0</td>\n",
       "      <td>66870.55</td>\n",
       "      <td>22290.183333</td>\n",
       "      <td>66.797073</td>\n",
       "      <td>2.882866e-09</td>\n",
       "    </tr>\n",
       "    <tr>\n",
       "      <th>Residual</th>\n",
       "      <td>16.0</td>\n",
       "      <td>5339.20</td>\n",
       "      <td>333.700000</td>\n",
       "      <td>NaN</td>\n",
       "      <td>NaN</td>\n",
       "    </tr>\n",
       "  </tbody>\n",
       "</table>\n",
       "</div>"
      ],
      "text/plain": [
       "                     df    sum_sq       mean_sq          F        PR(>F)\n",
       "C(Display_design)   3.0  66870.55  22290.183333  66.797073  2.882866e-09\n",
       "Residual           16.0   5339.20    333.700000        NaN           NaN"
      ]
     },
     "execution_count": 31,
     "metadata": {},
     "output_type": "execute_result"
    }
   ],
   "source": [
    "results_table"
   ]
  },
  {
   "cell_type": "code",
   "execution_count": 32,
   "id": "be2dfff9",
   "metadata": {},
   "outputs": [],
   "source": [
    "# F is the F statistic for the Anova test\n",
    "# PR is the p-value\n",
    "# df are degrees of freedom to look in the F table (number of display designs and number of observations)\n",
    "# We are trying to understand if there is a difference in sales if we use different designs"
   ]
  },
  {
   "cell_type": "code",
   "execution_count": 33,
   "id": "753d39c7",
   "metadata": {},
   "outputs": [],
   "source": [
    "# As P value is < 0.01 we can reject H0 and say there is a difference in sales depending on display"
   ]
  },
  {
   "cell_type": "code",
   "execution_count": null,
   "id": "b46234e1",
   "metadata": {},
   "outputs": [],
   "source": [
    "# We need to check also the F value\n",
    "# F value is higher than the critical value (checked in the F table)\n",
    "\n",
    "# We can say that design does matter and reject the H0. There is a significant difference."
   ]
  }
 ],
 "metadata": {
  "kernelspec": {
   "display_name": "Python 3 (ipykernel)",
   "language": "python",
   "name": "python3"
  },
  "language_info": {
   "codemirror_mode": {
    "name": "ipython",
    "version": 3
   },
   "file_extension": ".py",
   "mimetype": "text/x-python",
   "name": "python",
   "nbconvert_exporter": "python",
   "pygments_lexer": "ipython3",
   "version": "3.8.13"
  },
  "toc": {
   "base_numbering": 1,
   "nav_menu": {},
   "number_sections": true,
   "sideBar": true,
   "skip_h1_title": false,
   "title_cell": "Table of Contents",
   "title_sidebar": "Contents",
   "toc_cell": false,
   "toc_position": {},
   "toc_section_display": true,
   "toc_window_display": false
  }
 },
 "nbformat": 4,
 "nbformat_minor": 5
}
