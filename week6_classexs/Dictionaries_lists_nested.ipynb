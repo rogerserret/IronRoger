{
 "cells": [
  {
   "cell_type": "markdown",
   "id": "27cff14d",
   "metadata": {},
   "source": [
    "# Lists"
   ]
  },
  {
   "cell_type": "code",
   "execution_count": 2,
   "id": "832bddf4",
   "metadata": {},
   "outputs": [],
   "source": [
    "classroom=['sian','john', 'roger', 'andy', 'cath', 'fede', 'lucas', 'miguel', 'pau']"
   ]
  },
  {
   "cell_type": "code",
   "execution_count": 3,
   "id": "e05dca11",
   "metadata": {},
   "outputs": [
    {
     "data": {
      "text/plain": [
       "'cath'"
      ]
     },
     "execution_count": 3,
     "metadata": {},
     "output_type": "execute_result"
    }
   ],
   "source": [
    "# Use index to select members of the list\n",
    "classroom[4]"
   ]
  },
  {
   "cell_type": "code",
   "execution_count": 9,
   "id": "92eaba26",
   "metadata": {},
   "outputs": [],
   "source": [
    "cap_list=[]\n",
    "for i in classroom:\n",
    "    cap_list.append(i.upper())"
   ]
  },
  {
   "cell_type": "code",
   "execution_count": 10,
   "id": "02485165",
   "metadata": {},
   "outputs": [
    {
     "data": {
      "text/plain": [
       "['SIAN', 'JOHN', 'ROGER', 'ANDY', 'CATH', 'FEDE', 'LUCAS', 'MIGUEL', 'PAU']"
      ]
     },
     "execution_count": 10,
     "metadata": {},
     "output_type": "execute_result"
    }
   ],
   "source": [
    "cap_list"
   ]
  },
  {
   "cell_type": "code",
   "execution_count": 37,
   "id": "ebd02bed",
   "metadata": {},
   "outputs": [],
   "source": [
    "for i in range(len(classroom)):\n",
    "    cap_list=classroom[i].upper()"
   ]
  },
  {
   "cell_type": "code",
   "execution_count": 38,
   "id": "c48a5cac",
   "metadata": {},
   "outputs": [
    {
     "data": {
      "text/plain": [
       "'PAU'"
      ]
     },
     "execution_count": 38,
     "metadata": {},
     "output_type": "execute_result"
    }
   ],
   "source": [
    "cap_list #not working, it should give us all results, sth is wrong (we should use append or it doesn't work)"
   ]
  },
  {
   "cell_type": "code",
   "execution_count": 20,
   "id": "c981d701",
   "metadata": {},
   "outputs": [
    {
     "name": "stdout",
     "output_type": "stream",
     "text": [
      "sian\n",
      "john\n",
      "roger\n",
      "andy\n",
      "cath\n",
      "fede\n",
      "lucas\n",
      "miguel\n",
      "pau\n"
     ]
    }
   ],
   "source": [
    "new_list=[print(i) for i in classroom] #list comprenhension (one liners) - when iterable target is a list"
   ]
  },
  {
   "cell_type": "code",
   "execution_count": 24,
   "id": "c7d12e96",
   "metadata": {},
   "outputs": [
    {
     "data": {
      "text/plain": [
       "['sian', 'john', 'roger', 'andy', 'cath', 'fede', 'lucas', 'miguel', 'pau']"
      ]
     },
     "execution_count": 24,
     "metadata": {},
     "output_type": "execute_result"
    }
   ],
   "source": [
    "classroom"
   ]
  },
  {
   "cell_type": "code",
   "execution_count": 25,
   "id": "56d8b3ba",
   "metadata": {},
   "outputs": [],
   "source": [
    "j_list=[i for i in classroom if i.startswith('j')]"
   ]
  },
  {
   "cell_type": "code",
   "execution_count": 26,
   "id": "ec8f465a",
   "metadata": {},
   "outputs": [
    {
     "data": {
      "text/plain": [
       "['john']"
      ]
     },
     "execution_count": 26,
     "metadata": {},
     "output_type": "execute_result"
    }
   ],
   "source": [
    "j_list"
   ]
  },
  {
   "cell_type": "code",
   "execution_count": 28,
   "id": "17561896",
   "metadata": {},
   "outputs": [],
   "source": [
    "upper_list=[i.upper() for i in classroom]"
   ]
  },
  {
   "cell_type": "code",
   "execution_count": 29,
   "id": "d6fb31c2",
   "metadata": {},
   "outputs": [
    {
     "data": {
      "text/plain": [
       "['SIAN', 'JOHN', 'ROGER', 'ANDY', 'CATH', 'FEDE', 'LUCAS', 'MIGUEL', 'PAU']"
      ]
     },
     "execution_count": 29,
     "metadata": {},
     "output_type": "execute_result"
    }
   ],
   "source": [
    "upper_list"
   ]
  },
  {
   "cell_type": "code",
   "execution_count": 30,
   "id": "5f65eaec",
   "metadata": {},
   "outputs": [],
   "source": [
    "# integer / index to select or iterate\n",
    "# list[int]\n",
    "\n",
    "# with these integers we can slice the list\n",
    "# list [4:8]"
   ]
  },
  {
   "cell_type": "code",
   "execution_count": 31,
   "id": "d3de0771",
   "metadata": {},
   "outputs": [
    {
     "data": {
      "text/plain": [
       "['CATH', 'FEDE', 'LUCAS', 'MIGUEL']"
      ]
     },
     "execution_count": 31,
     "metadata": {},
     "output_type": "execute_result"
    }
   ],
   "source": [
    "upper_list[4:8] # first one is inclusive and second one exclusive"
   ]
  },
  {
   "cell_type": "code",
   "execution_count": 32,
   "id": "f9ff34cc",
   "metadata": {},
   "outputs": [
    {
     "data": {
      "text/plain": [
       "['SIAN', 'JOHN', 'ROGER', 'ANDY', 'CATH', 'FEDE', 'LUCAS', 'MIGUEL', 'PAU']"
      ]
     },
     "execution_count": 32,
     "metadata": {},
     "output_type": "execute_result"
    }
   ],
   "source": [
    "upper_list"
   ]
  },
  {
   "cell_type": "code",
   "execution_count": 33,
   "id": "c2cb7e2a",
   "metadata": {},
   "outputs": [],
   "source": [
    "# append a list\n",
    "# list.append('paupau')\n",
    "upper_list.append('PAUPAU')"
   ]
  },
  {
   "cell_type": "code",
   "execution_count": 34,
   "id": "d32bd16d",
   "metadata": {},
   "outputs": [
    {
     "data": {
      "text/plain": [
       "['SIAN',\n",
       " 'JOHN',\n",
       " 'ROGER',\n",
       " 'ANDY',\n",
       " 'CATH',\n",
       " 'FEDE',\n",
       " 'LUCAS',\n",
       " 'MIGUEL',\n",
       " 'PAU',\n",
       " 'PAUPAU']"
      ]
     },
     "execution_count": 34,
     "metadata": {},
     "output_type": "execute_result"
    }
   ],
   "source": [
    "upper_list"
   ]
  },
  {
   "cell_type": "code",
   "execution_count": 35,
   "id": "412322ad",
   "metadata": {},
   "outputs": [],
   "source": [
    "upper_list.remove('PAUPAU')"
   ]
  },
  {
   "cell_type": "code",
   "execution_count": 36,
   "id": "6d226389",
   "metadata": {},
   "outputs": [
    {
     "data": {
      "text/plain": [
       "['SIAN', 'JOHN', 'ROGER', 'ANDY', 'CATH', 'FEDE', 'LUCAS', 'MIGUEL', 'PAU']"
      ]
     },
     "execution_count": 36,
     "metadata": {},
     "output_type": "execute_result"
    }
   ],
   "source": [
    "upper_list"
   ]
  },
  {
   "cell_type": "markdown",
   "id": "4976e568",
   "metadata": {},
   "source": [
    "# Dictionaries"
   ]
  },
  {
   "cell_type": "code",
   "execution_count": 39,
   "id": "561d35bc",
   "metadata": {},
   "outputs": [],
   "source": [
    "topics={1:'pandas', 2:'sql', 3:'tableau', 4:'agile'}"
   ]
  },
  {
   "cell_type": "code",
   "execution_count": 40,
   "id": "c14949ae",
   "metadata": {},
   "outputs": [
    {
     "data": {
      "text/plain": [
       "'pandas'"
      ]
     },
     "execution_count": 40,
     "metadata": {},
     "output_type": "execute_result"
    }
   ],
   "source": [
    "topics[1] #we use the key to select"
   ]
  },
  {
   "cell_type": "code",
   "execution_count": 41,
   "id": "d4f196c6",
   "metadata": {},
   "outputs": [
    {
     "data": {
      "text/plain": [
       "dict_keys([1, 2, 3, 4])"
      ]
     },
     "execution_count": 41,
     "metadata": {},
     "output_type": "execute_result"
    }
   ],
   "source": [
    "topics.keys() # review keys of the dictionary"
   ]
  },
  {
   "cell_type": "code",
   "execution_count": 42,
   "id": "e206d76a",
   "metadata": {},
   "outputs": [],
   "source": [
    "topics[5]='json' # add a new value key pair"
   ]
  },
  {
   "cell_type": "code",
   "execution_count": 43,
   "id": "d7391144",
   "metadata": {},
   "outputs": [
    {
     "data": {
      "text/plain": [
       "{1: 'pandas', 2: 'sql', 3: 'tableau', 4: 'agile', 5: 'json'}"
      ]
     },
     "execution_count": 43,
     "metadata": {},
     "output_type": "execute_result"
    }
   ],
   "source": [
    "topics"
   ]
  },
  {
   "cell_type": "code",
   "execution_count": 44,
   "id": "07c146ac",
   "metadata": {},
   "outputs": [
    {
     "data": {
      "text/plain": [
       "dict_values(['pandas', 'sql', 'tableau', 'agile', 'json'])"
      ]
     },
     "execution_count": 44,
     "metadata": {},
     "output_type": "execute_result"
    }
   ],
   "source": [
    "topics.values()"
   ]
  },
  {
   "cell_type": "code",
   "execution_count": 45,
   "id": "6e0ae969",
   "metadata": {},
   "outputs": [
    {
     "name": "stdout",
     "output_type": "stream",
     "text": [
      "PANDAS\n",
      "SQL\n",
      "TABLEAU\n",
      "AGILE\n",
      "JSON\n"
     ]
    }
   ],
   "source": [
    "for value in topics.values():\n",
    "    print(value.upper())"
   ]
  },
  {
   "cell_type": "code",
   "execution_count": 46,
   "id": "b3030b1c",
   "metadata": {},
   "outputs": [
    {
     "name": "stdout",
     "output_type": "stream",
     "text": [
      "1\n",
      "2\n",
      "3\n",
      "4\n",
      "5\n"
     ]
    }
   ],
   "source": [
    "for key in topics.keys():\n",
    "    print(key)"
   ]
  },
  {
   "cell_type": "code",
   "execution_count": 49,
   "id": "e9708353",
   "metadata": {},
   "outputs": [
    {
     "name": "stdout",
     "output_type": "stream",
     "text": [
      "1 .... pandas\n",
      "2 .... sql\n",
      "3 .... tableau\n",
      "4 .... agile\n",
      "5 .... json\n"
     ]
    }
   ],
   "source": [
    "for key, value in topics.items():\n",
    "    print(key,'....', value)"
   ]
  },
  {
   "cell_type": "markdown",
   "id": "d85a091a",
   "metadata": {},
   "source": [
    "# Nested lists"
   ]
  },
  {
   "cell_type": "code",
   "execution_count": 50,
   "id": "5204e0b5",
   "metadata": {},
   "outputs": [],
   "source": [
    "sians_class=[['sian','john'],['roger', 'cath', 'fede', 'lucas', 'miguel', 'andy'],['pau']]"
   ]
  },
  {
   "cell_type": "code",
   "execution_count": 51,
   "id": "d9113c85",
   "metadata": {},
   "outputs": [
    {
     "data": {
      "text/plain": [
       "'s'"
      ]
     },
     "execution_count": 51,
     "metadata": {},
     "output_type": "execute_result"
    }
   ],
   "source": [
    "sians_class[0][0][0] # first letter of the first word of the first list (always from the top to the most nested one)"
   ]
  },
  {
   "cell_type": "code",
   "execution_count": 52,
   "id": "15789e63",
   "metadata": {},
   "outputs": [
    {
     "data": {
      "text/plain": [
       "['sian', 'john']"
      ]
     },
     "execution_count": 52,
     "metadata": {},
     "output_type": "execute_result"
    }
   ],
   "source": [
    "sians_class[0]"
   ]
  },
  {
   "cell_type": "code",
   "execution_count": 54,
   "id": "be0f23d2",
   "metadata": {},
   "outputs": [],
   "source": [
    "my_family=['leri','aled','david', ['gilly',['jack'],'sian'], 'carole',['tracy']]"
   ]
  },
  {
   "cell_type": "code",
   "execution_count": 56,
   "id": "0e7cd694",
   "metadata": {},
   "outputs": [
    {
     "name": "stdout",
     "output_type": "stream",
     "text": [
      "my nephew is jack\n"
     ]
    }
   ],
   "source": [
    "print('my nephew is ' + my_family[3][1][0]) # we start for the first list and go until the most nested one"
   ]
  },
  {
   "cell_type": "markdown",
   "id": "f201e630",
   "metadata": {},
   "source": [
    "# Nested dictionaries"
   ]
  },
  {
   "cell_type": "code",
   "execution_count": 57,
   "id": "3f0c3c5b",
   "metadata": {},
   "outputs": [],
   "source": [
    "shapes={\n",
    "    1:{'colour':'blue','shape':'circle','sides':'1'}\n",
    "    ,\n",
    "    2:{'colour':'orange','shape':'triangle','sides':'3'}\n",
    "    ,\n",
    "    3:{'colour':'green','shape':'square','sides':'4'}}\n"
   ]
  },
  {
   "cell_type": "code",
   "execution_count": null,
   "id": "2f2a2510",
   "metadata": {},
   "outputs": [],
   "source": [
    "# print the number of sides of the square\n",
    "# print the colour of the circle\n",
    "# print the shape of the second object"
   ]
  },
  {
   "cell_type": "code",
   "execution_count": 59,
   "id": "b48f5eea",
   "metadata": {},
   "outputs": [
    {
     "data": {
      "text/plain": [
       "'4'"
      ]
     },
     "execution_count": 59,
     "metadata": {},
     "output_type": "execute_result"
    }
   ],
   "source": [
    "shapes[3]['sides']"
   ]
  },
  {
   "cell_type": "code",
   "execution_count": 60,
   "id": "f4aacae6",
   "metadata": {},
   "outputs": [
    {
     "data": {
      "text/plain": [
       "'blue'"
      ]
     },
     "execution_count": 60,
     "metadata": {},
     "output_type": "execute_result"
    }
   ],
   "source": [
    "shapes[1]['colour']"
   ]
  },
  {
   "cell_type": "code",
   "execution_count": 61,
   "id": "8035b367",
   "metadata": {},
   "outputs": [
    {
     "data": {
      "text/plain": [
       "'triangle'"
      ]
     },
     "execution_count": 61,
     "metadata": {},
     "output_type": "execute_result"
    }
   ],
   "source": [
    "shapes[2]['shape']"
   ]
  },
  {
   "cell_type": "code",
   "execution_count": 62,
   "id": "a4f5a355",
   "metadata": {},
   "outputs": [
    {
     "data": {
      "text/plain": [
       "dict_keys(['colour', 'shape', 'sides'])"
      ]
     },
     "execution_count": 62,
     "metadata": {},
     "output_type": "execute_result"
    }
   ],
   "source": [
    "shapes[2].keys() # to see the keys of the 2nd nested dictionary"
   ]
  },
  {
   "cell_type": "markdown",
   "id": "684fc40c",
   "metadata": {},
   "source": [
    "# JSON objects"
   ]
  },
  {
   "cell_type": "code",
   "execution_count": 63,
   "id": "8dd059eb",
   "metadata": {},
   "outputs": [],
   "source": [
    "import json"
   ]
  },
  {
   "cell_type": "code",
   "execution_count": 68,
   "id": "84d0fb90",
   "metadata": {},
   "outputs": [],
   "source": [
    "json_1 = json.load(open('example_1.json'))"
   ]
  },
  {
   "cell_type": "code",
   "execution_count": 69,
   "id": "9cc0e467",
   "metadata": {},
   "outputs": [
    {
     "data": {
      "text/plain": [
       "{'fruit': 'Apple', 'size': 'Large', 'color': 'Red'}"
      ]
     },
     "execution_count": 69,
     "metadata": {},
     "output_type": "execute_result"
    }
   ],
   "source": [
    "json_1"
   ]
  },
  {
   "cell_type": "code",
   "execution_count": 70,
   "id": "8a1bc114",
   "metadata": {},
   "outputs": [
    {
     "data": {
      "text/plain": [
       "'Large'"
      ]
     },
     "execution_count": 70,
     "metadata": {},
     "output_type": "execute_result"
    }
   ],
   "source": [
    "json_1['size']"
   ]
  },
  {
   "cell_type": "code",
   "execution_count": 71,
   "id": "2cc7c21e",
   "metadata": {},
   "outputs": [],
   "source": [
    "json_2 = json.load(open('example_2.json'))"
   ]
  },
  {
   "cell_type": "code",
   "execution_count": 72,
   "id": "b9888531",
   "metadata": {},
   "outputs": [
    {
     "data": {
      "text/plain": [
       "{'quiz': {'sport': {'q1': {'question': 'Which one is correct team name in NBA?',\n",
       "    'options': ['New York Bulls',\n",
       "     'Los Angeles Kings',\n",
       "     'Golden State Warriros',\n",
       "     'Huston Rocket'],\n",
       "    'answer': 'Huston Rocket'}},\n",
       "  'maths': {'q1': {'question': '5 + 7 = ?',\n",
       "    'options': ['10', '11', '12', '13'],\n",
       "    'answer': '12'},\n",
       "   'q2': {'question': '12 - 8 = ?',\n",
       "    'options': ['1', '2', '3', '4'],\n",
       "    'answer': '4'}}}}"
      ]
     },
     "execution_count": 72,
     "metadata": {},
     "output_type": "execute_result"
    }
   ],
   "source": [
    "json_2"
   ]
  },
  {
   "cell_type": "code",
   "execution_count": 77,
   "id": "6959248d",
   "metadata": {},
   "outputs": [],
   "source": [
    "json_4 = json.load(open('sample4.json'))"
   ]
  },
  {
   "cell_type": "code",
   "execution_count": 78,
   "id": "3a6cb135",
   "metadata": {},
   "outputs": [
    {
     "data": {
      "text/plain": [
       "{'people': [{'firstName': 'Joe',\n",
       "   'lastName': 'Jackson',\n",
       "   'gender': 'male',\n",
       "   'age': 28,\n",
       "   'number': '7349282382'},\n",
       "  {'firstName': 'James',\n",
       "   'lastName': 'Smith',\n",
       "   'gender': 'male',\n",
       "   'age': 32,\n",
       "   'number': '5678568567'},\n",
       "  {'firstName': 'Emily',\n",
       "   'lastName': 'Jones',\n",
       "   'gender': 'female',\n",
       "   'age': 24,\n",
       "   'number': '456754675'}]}"
      ]
     },
     "execution_count": 78,
     "metadata": {},
     "output_type": "execute_result"
    }
   ],
   "source": [
    "json_4"
   ]
  },
  {
   "cell_type": "code",
   "execution_count": 88,
   "id": "7ac409d3",
   "metadata": {},
   "outputs": [],
   "source": [
    "# prettify the json code - makes it more readable\n",
    "json_formatted2=json.dumps(json_2, indent=2)"
   ]
  },
  {
   "cell_type": "code",
   "execution_count": 89,
   "id": "dfb74764",
   "metadata": {},
   "outputs": [
    {
     "name": "stdout",
     "output_type": "stream",
     "text": [
      "{\n",
      "  \"quiz\": {\n",
      "    \"sport\": {\n",
      "      \"q1\": {\n",
      "        \"question\": \"Which one is correct team name in NBA?\",\n",
      "        \"options\": [\n",
      "          \"New York Bulls\",\n",
      "          \"Los Angeles Kings\",\n",
      "          \"Golden State Warriros\",\n",
      "          \"Huston Rocket\"\n",
      "        ],\n",
      "        \"answer\": \"Huston Rocket\"\n",
      "      }\n",
      "    },\n",
      "    \"maths\": {\n",
      "      \"q1\": {\n",
      "        \"question\": \"5 + 7 = ?\",\n",
      "        \"options\": [\n",
      "          \"10\",\n",
      "          \"11\",\n",
      "          \"12\",\n",
      "          \"13\"\n",
      "        ],\n",
      "        \"answer\": \"12\"\n",
      "      },\n",
      "      \"q2\": {\n",
      "        \"question\": \"12 - 8 = ?\",\n",
      "        \"options\": [\n",
      "          \"1\",\n",
      "          \"2\",\n",
      "          \"3\",\n",
      "          \"4\"\n",
      "        ],\n",
      "        \"answer\": \"4\"\n",
      "      }\n",
      "    }\n",
      "  }\n",
      "}\n"
     ]
    }
   ],
   "source": [
    "print(json_formatted2)"
   ]
  },
  {
   "cell_type": "code",
   "execution_count": 90,
   "id": "e6541b47",
   "metadata": {},
   "outputs": [],
   "source": [
    "json_formatted4=json.dumps(json_4, indent=2)"
   ]
  },
  {
   "cell_type": "code",
   "execution_count": 92,
   "id": "4a2c4338",
   "metadata": {},
   "outputs": [
    {
     "name": "stdout",
     "output_type": "stream",
     "text": [
      "{\n",
      "  \"people\": [\n",
      "    {\n",
      "      \"firstName\": \"Joe\",\n",
      "      \"lastName\": \"Jackson\",\n",
      "      \"gender\": \"male\",\n",
      "      \"age\": 28,\n",
      "      \"number\": \"7349282382\"\n",
      "    },\n",
      "    {\n",
      "      \"firstName\": \"James\",\n",
      "      \"lastName\": \"Smith\",\n",
      "      \"gender\": \"male\",\n",
      "      \"age\": 32,\n",
      "      \"number\": \"5678568567\"\n",
      "    },\n",
      "    {\n",
      "      \"firstName\": \"Emily\",\n",
      "      \"lastName\": \"Jones\",\n",
      "      \"gender\": \"female\",\n",
      "      \"age\": 24,\n",
      "      \"number\": \"456754675\"\n",
      "    }\n",
      "  ]\n",
      "}\n"
     ]
    }
   ],
   "source": [
    "print(json_formatted4)"
   ]
  }
 ],
 "metadata": {
  "kernelspec": {
   "display_name": "Python 3 (ipykernel)",
   "language": "python",
   "name": "python3"
  },
  "language_info": {
   "codemirror_mode": {
    "name": "ipython",
    "version": 3
   },
   "file_extension": ".py",
   "mimetype": "text/x-python",
   "name": "python",
   "nbconvert_exporter": "python",
   "pygments_lexer": "ipython3",
   "version": "3.8.13"
  },
  "toc": {
   "base_numbering": 1,
   "nav_menu": {},
   "number_sections": true,
   "sideBar": true,
   "skip_h1_title": false,
   "title_cell": "Table of Contents",
   "title_sidebar": "Contents",
   "toc_cell": false,
   "toc_position": {},
   "toc_section_display": true,
   "toc_window_display": false
  }
 },
 "nbformat": 4,
 "nbformat_minor": 5
}
