{
 "cells": [
  {
   "cell_type": "markdown",
   "id": "17bfb252",
   "metadata": {},
   "source": [
    "# RF and ensemble "
   ]
  },
  {
   "cell_type": "code",
   "execution_count": 1,
   "id": "a76d96cd",
   "metadata": {},
   "outputs": [],
   "source": [
    "import pandas as pd \n",
    "import numpy as np "
   ]
  },
  {
   "cell_type": "code",
   "execution_count": 2,
   "id": "77742b5c",
   "metadata": {},
   "outputs": [
    {
     "data": {
      "text/plain": [
       "'/Users/siandavies/Documents/GitHub/BCNDATA2022/ClassMaterials/Week8/sians_notebooks'"
      ]
     },
     "execution_count": 2,
     "metadata": {},
     "output_type": "execute_result"
    }
   ],
   "source": [
    "pwd "
   ]
  },
  {
   "cell_type": "code",
   "execution_count": 3,
   "id": "020e5a71",
   "metadata": {},
   "outputs": [
    {
     "name": "stdout",
     "output_type": "stream",
     "text": [
      "/Users/siandavies/Documents/GitHub/BCNDATA2022/ClassMaterials/Week8\n"
     ]
    }
   ],
   "source": [
    "cd .."
   ]
  },
  {
   "cell_type": "code",
   "execution_count": 4,
   "id": "ed04cbce",
   "metadata": {},
   "outputs": [
    {
     "name": "stdout",
     "output_type": "stream",
     "text": [
      "/Users/siandavies/Documents/GitHub/BCNDATA2022/ClassMaterials/Week8/Datasources/RF-data\n"
     ]
    }
   ],
   "source": [
    "cd Datasources/RF-data/"
   ]
  },
  {
   "cell_type": "code",
   "execution_count": 5,
   "id": "710eac77",
   "metadata": {},
   "outputs": [
    {
     "name": "stdout",
     "output_type": "stream",
     "text": [
      "categorical.csv    numerical.csv      numerical.csv.zip  target.csv\r\n"
     ]
    }
   ],
   "source": [
    "ls"
   ]
  },
  {
   "cell_type": "code",
   "execution_count": 6,
   "id": "82d364eb",
   "metadata": {},
   "outputs": [],
   "source": [
    "cat=pd.read_csv('categorical.csv')\n",
    "num=pd.read_csv('numerical.csv')\n",
    "target=pd.read_csv('target.csv')"
   ]
  },
  {
   "cell_type": "code",
   "execution_count": 7,
   "id": "0aa1073e",
   "metadata": {},
   "outputs": [],
   "source": [
    "#concat them together \n",
    "data=pd.concat([num,cat,target],axis=1)"
   ]
  },
  {
   "cell_type": "code",
   "execution_count": 8,
   "id": "c54dc8ad",
   "metadata": {},
   "outputs": [
    {
     "name": "stdout",
     "output_type": "stream",
     "text": [
      "<class 'pandas.core.frame.DataFrame'>\n",
      "RangeIndex: 95412 entries, 0 to 95411\n",
      "Columns: 339 entries, TCODE to TARGET_D\n",
      "dtypes: float64(10), int64(322), object(7)\n",
      "memory usage: 246.8+ MB\n"
     ]
    }
   ],
   "source": [
    "data.info()"
   ]
  },
  {
   "cell_type": "code",
   "execution_count": 9,
   "id": "b92a13ea",
   "metadata": {},
   "outputs": [
    {
     "data": {
      "text/html": [
       "<div>\n",
       "<style scoped>\n",
       "    .dataframe tbody tr th:only-of-type {\n",
       "        vertical-align: middle;\n",
       "    }\n",
       "\n",
       "    .dataframe tbody tr th {\n",
       "        vertical-align: top;\n",
       "    }\n",
       "\n",
       "    .dataframe thead th {\n",
       "        text-align: right;\n",
       "    }\n",
       "</style>\n",
       "<table border=\"1\" class=\"dataframe\">\n",
       "  <thead>\n",
       "    <tr style=\"text-align: right;\">\n",
       "      <th></th>\n",
       "      <th>TCODE</th>\n",
       "      <th>AGE</th>\n",
       "      <th>INCOME</th>\n",
       "      <th>WEALTH1</th>\n",
       "      <th>HIT</th>\n",
       "      <th>MALEMILI</th>\n",
       "      <th>MALEVET</th>\n",
       "      <th>VIETVETS</th>\n",
       "      <th>WWIIVETS</th>\n",
       "      <th>LOCALGOV</th>\n",
       "      <th>...</th>\n",
       "      <th>MINRDATE_YR</th>\n",
       "      <th>MINRDATE_MM</th>\n",
       "      <th>MAXRDATE_YR</th>\n",
       "      <th>MAXRDATE_MM</th>\n",
       "      <th>LASTDATE_YR</th>\n",
       "      <th>LASTDATE_MM</th>\n",
       "      <th>FIRSTDATE_YR</th>\n",
       "      <th>FIRSTDATE_MM</th>\n",
       "      <th>TARGET_B</th>\n",
       "      <th>TARGET_D</th>\n",
       "    </tr>\n",
       "  </thead>\n",
       "  <tbody>\n",
       "    <tr>\n",
       "      <th>0</th>\n",
       "      <td>0</td>\n",
       "      <td>60.000000</td>\n",
       "      <td>5</td>\n",
       "      <td>9</td>\n",
       "      <td>0</td>\n",
       "      <td>0</td>\n",
       "      <td>39</td>\n",
       "      <td>34</td>\n",
       "      <td>18</td>\n",
       "      <td>10</td>\n",
       "      <td>...</td>\n",
       "      <td>92</td>\n",
       "      <td>8</td>\n",
       "      <td>94</td>\n",
       "      <td>2</td>\n",
       "      <td>95</td>\n",
       "      <td>12</td>\n",
       "      <td>89</td>\n",
       "      <td>11</td>\n",
       "      <td>0</td>\n",
       "      <td>0.0</td>\n",
       "    </tr>\n",
       "    <tr>\n",
       "      <th>1</th>\n",
       "      <td>1</td>\n",
       "      <td>46.000000</td>\n",
       "      <td>6</td>\n",
       "      <td>9</td>\n",
       "      <td>16</td>\n",
       "      <td>0</td>\n",
       "      <td>15</td>\n",
       "      <td>55</td>\n",
       "      <td>11</td>\n",
       "      <td>6</td>\n",
       "      <td>...</td>\n",
       "      <td>93</td>\n",
       "      <td>10</td>\n",
       "      <td>95</td>\n",
       "      <td>12</td>\n",
       "      <td>95</td>\n",
       "      <td>12</td>\n",
       "      <td>93</td>\n",
       "      <td>10</td>\n",
       "      <td>0</td>\n",
       "      <td>0.0</td>\n",
       "    </tr>\n",
       "    <tr>\n",
       "      <th>2</th>\n",
       "      <td>1</td>\n",
       "      <td>61.611649</td>\n",
       "      <td>3</td>\n",
       "      <td>1</td>\n",
       "      <td>2</td>\n",
       "      <td>0</td>\n",
       "      <td>20</td>\n",
       "      <td>29</td>\n",
       "      <td>33</td>\n",
       "      <td>6</td>\n",
       "      <td>...</td>\n",
       "      <td>91</td>\n",
       "      <td>11</td>\n",
       "      <td>92</td>\n",
       "      <td>7</td>\n",
       "      <td>95</td>\n",
       "      <td>12</td>\n",
       "      <td>90</td>\n",
       "      <td>1</td>\n",
       "      <td>0</td>\n",
       "      <td>0.0</td>\n",
       "    </tr>\n",
       "    <tr>\n",
       "      <th>3</th>\n",
       "      <td>0</td>\n",
       "      <td>70.000000</td>\n",
       "      <td>1</td>\n",
       "      <td>4</td>\n",
       "      <td>2</td>\n",
       "      <td>0</td>\n",
       "      <td>23</td>\n",
       "      <td>14</td>\n",
       "      <td>31</td>\n",
       "      <td>3</td>\n",
       "      <td>...</td>\n",
       "      <td>87</td>\n",
       "      <td>11</td>\n",
       "      <td>94</td>\n",
       "      <td>11</td>\n",
       "      <td>95</td>\n",
       "      <td>12</td>\n",
       "      <td>87</td>\n",
       "      <td>2</td>\n",
       "      <td>0</td>\n",
       "      <td>0.0</td>\n",
       "    </tr>\n",
       "    <tr>\n",
       "      <th>4</th>\n",
       "      <td>0</td>\n",
       "      <td>78.000000</td>\n",
       "      <td>3</td>\n",
       "      <td>2</td>\n",
       "      <td>60</td>\n",
       "      <td>1</td>\n",
       "      <td>28</td>\n",
       "      <td>9</td>\n",
       "      <td>53</td>\n",
       "      <td>26</td>\n",
       "      <td>...</td>\n",
       "      <td>93</td>\n",
       "      <td>10</td>\n",
       "      <td>96</td>\n",
       "      <td>1</td>\n",
       "      <td>96</td>\n",
       "      <td>1</td>\n",
       "      <td>79</td>\n",
       "      <td>3</td>\n",
       "      <td>0</td>\n",
       "      <td>0.0</td>\n",
       "    </tr>\n",
       "  </tbody>\n",
       "</table>\n",
       "<p>5 rows × 339 columns</p>\n",
       "</div>"
      ],
      "text/plain": [
       "   TCODE        AGE  INCOME  WEALTH1  HIT  MALEMILI  MALEVET  VIETVETS  \\\n",
       "0      0  60.000000       5        9    0         0       39        34   \n",
       "1      1  46.000000       6        9   16         0       15        55   \n",
       "2      1  61.611649       3        1    2         0       20        29   \n",
       "3      0  70.000000       1        4    2         0       23        14   \n",
       "4      0  78.000000       3        2   60         1       28         9   \n",
       "\n",
       "   WWIIVETS  LOCALGOV  ...  MINRDATE_YR  MINRDATE_MM  MAXRDATE_YR  \\\n",
       "0        18        10  ...           92            8           94   \n",
       "1        11         6  ...           93           10           95   \n",
       "2        33         6  ...           91           11           92   \n",
       "3        31         3  ...           87           11           94   \n",
       "4        53        26  ...           93           10           96   \n",
       "\n",
       "   MAXRDATE_MM  LASTDATE_YR  LASTDATE_MM  FIRSTDATE_YR  FIRSTDATE_MM  \\\n",
       "0            2           95           12            89            11   \n",
       "1           12           95           12            93            10   \n",
       "2            7           95           12            90             1   \n",
       "3           11           95           12            87             2   \n",
       "4            1           96            1            79             3   \n",
       "\n",
       "   TARGET_B  TARGET_D  \n",
       "0         0       0.0  \n",
       "1         0       0.0  \n",
       "2         0       0.0  \n",
       "3         0       0.0  \n",
       "4         0       0.0  \n",
       "\n",
       "[5 rows x 339 columns]"
      ]
     },
     "execution_count": 9,
     "metadata": {},
     "output_type": "execute_result"
    }
   ],
   "source": [
    "data.head()"
   ]
  },
  {
   "cell_type": "code",
   "execution_count": 13,
   "id": "7d5c1e2d",
   "metadata": {},
   "outputs": [],
   "source": [
    "lst=data.columns.to_list()"
   ]
  },
  {
   "cell_type": "code",
   "execution_count": 14,
   "id": "03370a48",
   "metadata": {},
   "outputs": [
    {
     "data": {
      "text/plain": [
       "['TCODE',\n",
       " 'AGE',\n",
       " 'INCOME',\n",
       " 'WEALTH1',\n",
       " 'HIT',\n",
       " 'MALEMILI',\n",
       " 'MALEVET',\n",
       " 'VIETVETS',\n",
       " 'WWIIVETS',\n",
       " 'LOCALGOV',\n",
       " 'STATEGOV',\n",
       " 'FEDGOV',\n",
       " 'WEALTH2',\n",
       " 'POP901',\n",
       " 'POP902',\n",
       " 'POP903',\n",
       " 'POP90C1',\n",
       " 'POP90C2',\n",
       " 'POP90C3',\n",
       " 'POP90C4',\n",
       " 'POP90C5',\n",
       " 'ETH1',\n",
       " 'ETH2',\n",
       " 'ETH3',\n",
       " 'ETH4',\n",
       " 'ETH5',\n",
       " 'ETH6',\n",
       " 'ETH7',\n",
       " 'ETH8',\n",
       " 'ETH9',\n",
       " 'ETH10',\n",
       " 'ETH11',\n",
       " 'ETH12',\n",
       " 'ETH13',\n",
       " 'ETH14',\n",
       " 'ETH15',\n",
       " 'ETH16',\n",
       " 'AGE901',\n",
       " 'AGE902',\n",
       " 'AGE903',\n",
       " 'AGE904',\n",
       " 'AGE905',\n",
       " 'AGE906',\n",
       " 'AGE907',\n",
       " 'CHIL1',\n",
       " 'CHIL2',\n",
       " 'CHIL3',\n",
       " 'AGEC1',\n",
       " 'AGEC2',\n",
       " 'AGEC3',\n",
       " 'AGEC4',\n",
       " 'AGEC5',\n",
       " 'AGEC6',\n",
       " 'AGEC7',\n",
       " 'CHILC1',\n",
       " 'CHILC2',\n",
       " 'CHILC3',\n",
       " 'CHILC4',\n",
       " 'CHILC5',\n",
       " 'HHAGE1',\n",
       " 'HHAGE2',\n",
       " 'HHAGE3',\n",
       " 'HHN1',\n",
       " 'HHN2',\n",
       " 'HHN3',\n",
       " 'HHN4',\n",
       " 'HHN5',\n",
       " 'HHN6',\n",
       " 'MARR1',\n",
       " 'MARR2',\n",
       " 'MARR3',\n",
       " 'MARR4',\n",
       " 'HHP1',\n",
       " 'HHP2',\n",
       " 'DW1',\n",
       " 'DW2',\n",
       " 'DW3',\n",
       " 'DW4',\n",
       " 'DW5',\n",
       " 'DW6',\n",
       " 'DW7',\n",
       " 'DW8',\n",
       " 'DW9',\n",
       " 'HV1',\n",
       " 'HV2',\n",
       " 'HV3',\n",
       " 'HV4',\n",
       " 'HU1',\n",
       " 'HU2',\n",
       " 'HU3',\n",
       " 'HU4',\n",
       " 'HU5',\n",
       " 'HHD1',\n",
       " 'HHD2',\n",
       " 'HHD3',\n",
       " 'HHD4',\n",
       " 'HHD5',\n",
       " 'HHD6',\n",
       " 'HHD7',\n",
       " 'HHD8',\n",
       " 'HHD9',\n",
       " 'HHD10',\n",
       " 'HHD11',\n",
       " 'HHD12',\n",
       " 'ETHC1',\n",
       " 'ETHC2',\n",
       " 'ETHC3',\n",
       " 'ETHC4',\n",
       " 'ETHC5',\n",
       " 'ETHC6',\n",
       " 'HVP1',\n",
       " 'HVP2',\n",
       " 'HVP3',\n",
       " 'HVP4',\n",
       " 'HVP5',\n",
       " 'HVP6',\n",
       " 'HUR1',\n",
       " 'HUR2',\n",
       " 'RHP1',\n",
       " 'RHP2',\n",
       " 'RHP3',\n",
       " 'RHP4',\n",
       " 'HUPA1',\n",
       " 'HUPA2',\n",
       " 'HUPA3',\n",
       " 'HUPA4',\n",
       " 'HUPA5',\n",
       " 'HUPA6',\n",
       " 'HUPA7',\n",
       " 'RP1',\n",
       " 'RP2',\n",
       " 'RP3',\n",
       " 'RP4',\n",
       " 'MSA',\n",
       " 'ADI',\n",
       " 'DMA',\n",
       " 'IC1',\n",
       " 'IC2',\n",
       " 'IC3',\n",
       " 'IC4',\n",
       " 'IC5',\n",
       " 'IC6',\n",
       " 'IC7',\n",
       " 'IC8',\n",
       " 'IC9',\n",
       " 'IC10',\n",
       " 'IC11',\n",
       " 'IC12',\n",
       " 'IC13',\n",
       " 'IC14',\n",
       " 'IC15',\n",
       " 'IC16',\n",
       " 'IC17',\n",
       " 'IC18',\n",
       " 'IC19',\n",
       " 'IC20',\n",
       " 'IC21',\n",
       " 'IC22',\n",
       " 'IC23',\n",
       " 'HHAS1',\n",
       " 'HHAS2',\n",
       " 'HHAS3',\n",
       " 'HHAS4',\n",
       " 'MC1',\n",
       " 'MC2',\n",
       " 'MC3',\n",
       " 'TPE1',\n",
       " 'TPE2',\n",
       " 'TPE3',\n",
       " 'TPE4',\n",
       " 'TPE5',\n",
       " 'TPE6',\n",
       " 'TPE7',\n",
       " 'TPE8',\n",
       " 'TPE9',\n",
       " 'PEC1',\n",
       " 'PEC2',\n",
       " 'TPE10',\n",
       " 'TPE11',\n",
       " 'TPE12',\n",
       " 'TPE13',\n",
       " 'LFC1',\n",
       " 'LFC2',\n",
       " 'LFC3',\n",
       " 'LFC4',\n",
       " 'LFC5',\n",
       " 'LFC6',\n",
       " 'LFC7',\n",
       " 'LFC8',\n",
       " 'LFC9',\n",
       " 'LFC10',\n",
       " 'OCC1',\n",
       " 'OCC2',\n",
       " 'OCC3',\n",
       " 'OCC4',\n",
       " 'OCC5',\n",
       " 'OCC6',\n",
       " 'OCC7',\n",
       " 'OCC8',\n",
       " 'OCC9',\n",
       " 'OCC10',\n",
       " 'OCC11',\n",
       " 'OCC12',\n",
       " 'OCC13',\n",
       " 'EIC1',\n",
       " 'EIC2',\n",
       " 'EIC3',\n",
       " 'EIC4',\n",
       " 'EIC5',\n",
       " 'EIC6',\n",
       " 'EIC7',\n",
       " 'EIC8',\n",
       " 'EIC9',\n",
       " 'EIC10',\n",
       " 'EIC11',\n",
       " 'EIC12',\n",
       " 'EIC13',\n",
       " 'EIC14',\n",
       " 'EIC15',\n",
       " 'EIC16',\n",
       " 'OEDC1',\n",
       " 'OEDC2',\n",
       " 'OEDC3',\n",
       " 'OEDC4',\n",
       " 'OEDC5',\n",
       " 'OEDC6',\n",
       " 'OEDC7',\n",
       " 'EC1',\n",
       " 'EC2',\n",
       " 'EC3',\n",
       " 'EC4',\n",
       " 'EC5',\n",
       " 'EC6',\n",
       " 'EC7',\n",
       " 'EC8',\n",
       " 'SEC1',\n",
       " 'SEC2',\n",
       " 'SEC3',\n",
       " 'SEC4',\n",
       " 'SEC5',\n",
       " 'AFC1',\n",
       " 'AFC2',\n",
       " 'AFC3',\n",
       " 'AFC4',\n",
       " 'AFC5',\n",
       " 'AFC6',\n",
       " 'VC1',\n",
       " 'VC2',\n",
       " 'VC3',\n",
       " 'VC4',\n",
       " 'ANC1',\n",
       " 'ANC2',\n",
       " 'ANC3',\n",
       " 'ANC4',\n",
       " 'ANC5',\n",
       " 'ANC6',\n",
       " 'ANC7',\n",
       " 'ANC8',\n",
       " 'ANC9',\n",
       " 'ANC10',\n",
       " 'ANC11',\n",
       " 'ANC12',\n",
       " 'ANC13',\n",
       " 'ANC14',\n",
       " 'ANC15',\n",
       " 'POBC1',\n",
       " 'POBC2',\n",
       " 'LSC1',\n",
       " 'LSC2',\n",
       " 'LSC3',\n",
       " 'LSC4',\n",
       " 'VOC1',\n",
       " 'VOC2',\n",
       " 'VOC3',\n",
       " 'HC1',\n",
       " 'HC2',\n",
       " 'HC3',\n",
       " 'HC4',\n",
       " 'HC5',\n",
       " 'HC6',\n",
       " 'HC7',\n",
       " 'HC8',\n",
       " 'HC9',\n",
       " 'HC10',\n",
       " 'HC11',\n",
       " 'HC12',\n",
       " 'HC13',\n",
       " 'HC14',\n",
       " 'HC15',\n",
       " 'HC16',\n",
       " 'HC17',\n",
       " 'HC18',\n",
       " 'HC19',\n",
       " 'HC20',\n",
       " 'HC21',\n",
       " 'MHUC1',\n",
       " 'MHUC2',\n",
       " 'AC1',\n",
       " 'AC2',\n",
       " 'CARDPROM',\n",
       " 'NUMPROM',\n",
       " 'CARDPM12',\n",
       " 'NUMPRM12',\n",
       " 'RAMNTALL',\n",
       " 'NGIFTALL',\n",
       " 'CARDGIFT',\n",
       " 'MINRAMNT',\n",
       " 'MAXRAMNT',\n",
       " 'LASTGIFT',\n",
       " 'TIMELAG',\n",
       " 'AVGGIFT',\n",
       " 'CONTROLN',\n",
       " 'HPHONE_D',\n",
       " 'RFA_2F',\n",
       " 'CLUSTER2',\n",
       " 'STATE',\n",
       " 'CLUSTER',\n",
       " 'HOMEOWNR',\n",
       " 'GENDER',\n",
       " 'DATASRCE',\n",
       " 'RFA_2R',\n",
       " 'RFA_2A',\n",
       " 'GEOCODE2',\n",
       " 'DOMAIN_A',\n",
       " 'DOMAIN_B',\n",
       " 'ODATEW_YR',\n",
       " 'ODATEW_MM',\n",
       " 'DOB_YR',\n",
       " 'DOB_MM',\n",
       " 'MINRDATE_YR',\n",
       " 'MINRDATE_MM',\n",
       " 'MAXRDATE_YR',\n",
       " 'MAXRDATE_MM',\n",
       " 'LASTDATE_YR',\n",
       " 'LASTDATE_MM',\n",
       " 'FIRSTDATE_YR',\n",
       " 'FIRSTDATE_MM',\n",
       " 'TARGET_B',\n",
       " 'TARGET_D']"
      ]
     },
     "execution_count": 14,
     "metadata": {},
     "output_type": "execute_result"
    }
   ],
   "source": [
    "lst"
   ]
  },
  {
   "cell_type": "code",
   "execution_count": 10,
   "id": "c1e85261",
   "metadata": {},
   "outputs": [
    {
     "data": {
      "text/plain": [
       "0    90569\n",
       "1     4843\n",
       "Name: TARGET_B, dtype: int64"
      ]
     },
     "execution_count": 10,
     "metadata": {},
     "output_type": "execute_result"
    }
   ],
   "source": [
    "data['TARGET_B'].value_counts()"
   ]
  },
  {
   "cell_type": "markdown",
   "id": "61c1055a",
   "metadata": {},
   "source": [
    "## correcting the imbalance "
   ]
  },
  {
   "cell_type": "code",
   "execution_count": 16,
   "id": "5b48e2ed",
   "metadata": {},
   "outputs": [],
   "source": [
    "#downsample using logic \n",
    "\n",
    "category_0=data[data['TARGET_B']==0].sample(len(data[data['TARGET_B']==1]))"
   ]
  },
  {
   "cell_type": "code",
   "execution_count": 17,
   "id": "632e7438",
   "metadata": {},
   "outputs": [],
   "source": [
    "category_1=(data[data['TARGET_B']==1])"
   ]
  },
  {
   "cell_type": "code",
   "execution_count": 18,
   "id": "f7589c9b",
   "metadata": {},
   "outputs": [
    {
     "data": {
      "text/plain": [
       "(9686, 339)"
      ]
     },
     "execution_count": 18,
     "metadata": {},
     "output_type": "execute_result"
    }
   ],
   "source": [
    "data=pd.concat([category_0,category_1],axis=0)\n",
    "data.reset_index(inplace=True,drop=True)\n",
    "data.shape"
   ]
  },
  {
   "cell_type": "code",
   "execution_count": 19,
   "id": "f512f37f",
   "metadata": {},
   "outputs": [
    {
     "data": {
      "text/plain": [
       "0    4843\n",
       "1    4843\n",
       "Name: TARGET_B, dtype: int64"
      ]
     },
     "execution_count": 19,
     "metadata": {},
     "output_type": "execute_result"
    }
   ],
   "source": [
    "data['TARGET_B'].value_counts()"
   ]
  },
  {
   "cell_type": "markdown",
   "id": "2a59bd3e",
   "metadata": {},
   "source": [
    "## pre processing "
   ]
  },
  {
   "cell_type": "code",
   "execution_count": 38,
   "id": "c9f94a31",
   "metadata": {},
   "outputs": [],
   "source": [
    "y=data['TARGET_B']\n",
    "X=data.drop(['TARGET_B'],axis=1)"
   ]
  },
  {
   "cell_type": "code",
   "execution_count": 30,
   "id": "ab129ac9",
   "metadata": {},
   "outputs": [],
   "source": [
    "numericals=X.select_dtypes(np.number)\n",
    "categoricals=X.select_dtypes(object)"
   ]
  },
  {
   "cell_type": "code",
   "execution_count": 31,
   "id": "67078a06",
   "metadata": {},
   "outputs": [],
   "source": [
    "# one hot encoder \n",
    "from sklearn.preprocessing import OneHotEncoder as ohe\n",
    "encoder = ohe(drop='first').fit(categoricals)\n",
    "cat_enc=encoder.transform(categoricals).toarray()\n",
    "cat_enc_cols=encoder.get_feature_names_out(categoricals.columns)\n",
    "cat_enc_df=pd.DataFrame(cat_enc, columns=cat_enc_cols)"
   ]
  },
  {
   "cell_type": "code",
   "execution_count": 32,
   "id": "0f8207ad",
   "metadata": {},
   "outputs": [
    {
     "data": {
      "text/plain": [
       "(9686, 7)"
      ]
     },
     "execution_count": 32,
     "metadata": {},
     "output_type": "execute_result"
    }
   ],
   "source": [
    "categoricals.shape"
   ]
  },
  {
   "cell_type": "code",
   "execution_count": 33,
   "id": "7b7fa931",
   "metadata": {},
   "outputs": [
    {
     "data": {
      "text/plain": [
       "(9686, 24)"
      ]
     },
     "execution_count": 33,
     "metadata": {},
     "output_type": "execute_result"
    }
   ],
   "source": [
    "cat_enc.shape"
   ]
  },
  {
   "cell_type": "code",
   "execution_count": 34,
   "id": "00156754",
   "metadata": {},
   "outputs": [],
   "source": [
    "#join back to the numbers \n",
    "X_full=pd.concat([cat_enc_df,numericals],axis=1)"
   ]
  },
  {
   "cell_type": "code",
   "execution_count": 35,
   "id": "a75584c2",
   "metadata": {},
   "outputs": [
    {
     "data": {
      "text/plain": [
       "(9686, 355)"
      ]
     },
     "execution_count": 35,
     "metadata": {},
     "output_type": "execute_result"
    }
   ],
   "source": [
    "X_full.shape # too many columns "
   ]
  },
  {
   "cell_type": "markdown",
   "id": "85b511a4",
   "metadata": {},
   "source": [
    "## train test split and model "
   ]
  },
  {
   "cell_type": "code",
   "execution_count": 39,
   "id": "1ca2c46e",
   "metadata": {},
   "outputs": [],
   "source": [
    "from sklearn.model_selection import train_test_split\n",
    "X_train,X_test,y_train,y_test=train_test_split(X_full,y,test_size=0.3, random_state=40)"
   ]
  },
  {
   "cell_type": "code",
   "execution_count": 45,
   "id": "d58ca5b1",
   "metadata": {},
   "outputs": [
    {
     "name": "stdout",
     "output_type": "stream",
     "text": [
      "0.9920853406744666\n"
     ]
    }
   ],
   "source": [
    "from sklearn.ensemble import RandomForestClassifier as rfc\n",
    "clf=rfc(n_estimators=50, max_depth=5,random_state=40)\n",
    "clf.fit(X_train,y_train)\n",
    "print(clf.score(X_test,y_test))"
   ]
  },
  {
   "cell_type": "markdown",
   "id": "b5083f3c",
   "metadata": {},
   "source": [
    "### cross validation \n",
    "\n",
    "- proxy test for overfit "
   ]
  },
  {
   "cell_type": "code",
   "execution_count": 46,
   "id": "af698f3f",
   "metadata": {},
   "outputs": [
    {
     "data": {
      "text/plain": [
       "0.9936578171091446"
      ]
     },
     "execution_count": 46,
     "metadata": {},
     "output_type": "execute_result"
    }
   ],
   "source": [
    "from sklearn.model_selection import cross_val_score\n",
    "cross_val_scores=cross_val_score(clf,X_train,y_train,cv=10)\n",
    "np.mean(cross_val_scores)"
   ]
  },
  {
   "cell_type": "markdown",
   "id": "6f20d428",
   "metadata": {},
   "source": [
    "# feature importances "
   ]
  },
  {
   "cell_type": "code",
   "execution_count": 47,
   "id": "4372f03c",
   "metadata": {},
   "outputs": [],
   "source": [
    "feature_importances=clf.feature_importances_"
   ]
  },
  {
   "cell_type": "code",
   "execution_count": 48,
   "id": "52d2ceb0",
   "metadata": {},
   "outputs": [],
   "source": [
    "feature_names = X_full.columns"
   ]
  },
  {
   "cell_type": "code",
   "execution_count": 49,
   "id": "161f805b",
   "metadata": {},
   "outputs": [],
   "source": [
    "forest_importances = pd.Series(feature_importances, index=feature_names)"
   ]
  },
  {
   "cell_type": "code",
   "execution_count": 50,
   "id": "2a488738",
   "metadata": {},
   "outputs": [
    {
     "data": {
      "text/plain": [
       "STATE_FL        0.000000\n",
       "STATE_GA        0.000000\n",
       "STATE_IL        0.000000\n",
       "STATE_IN        0.000000\n",
       "STATE_MI        0.000000\n",
       "                  ...   \n",
       "LASTDATE_YR     0.001901\n",
       "LASTDATE_MM     0.002407\n",
       "FIRSTDATE_YR    0.004654\n",
       "FIRSTDATE_MM    0.000676\n",
       "TARGET_D        0.478181\n",
       "Length: 355, dtype: float64"
      ]
     },
     "execution_count": 50,
     "metadata": {},
     "output_type": "execute_result"
    }
   ],
   "source": [
    "forest_importances"
   ]
  },
  {
   "cell_type": "code",
   "execution_count": 53,
   "id": "a27204d9",
   "metadata": {},
   "outputs": [
    {
     "data": {
      "text/plain": [
       "TARGET_D    0.478181\n",
       "RFA_2F      0.034793\n",
       "LASTGIFT    0.025739\n",
       "AVGGIFT     0.021524\n",
       "CARDGIFT    0.014654\n",
       "              ...   \n",
       "STATE_GA    0.000000\n",
       "IC14        0.000000\n",
       "HUPA7       0.000000\n",
       "DW9         0.000000\n",
       "IC18        0.000000\n",
       "Length: 355, dtype: float64"
      ]
     },
     "execution_count": 53,
     "metadata": {},
     "output_type": "execute_result"
    }
   ],
   "source": [
    "forest_importances.sort_values(ascending=False)"
   ]
  },
  {
   "cell_type": "code",
   "execution_count": 54,
   "id": "c93a6e90",
   "metadata": {},
   "outputs": [
    {
     "name": "stdout",
     "output_type": "stream",
     "text": [
      "TARGET_D        0.478181\n",
      "RFA_2F          0.034793\n",
      "LASTGIFT        0.025739\n",
      "AVGGIFT         0.021524\n",
      "CARDGIFT        0.014654\n",
      "NGIFTALL        0.014376\n",
      "MAXRAMNT        0.013408\n",
      "RFA_2A_G        0.009827\n",
      "NUMPRM12        0.006647\n",
      "NUMPROM         0.006332\n",
      "CONTROLN        0.005692\n",
      "ETH13           0.004807\n",
      "MINRAMNT        0.004802\n",
      "ETHC3           0.004671\n",
      "FIRSTDATE_YR    0.004654\n",
      "CARDPROM        0.004317\n",
      "EC5             0.004244\n",
      "RAMNTALL        0.004129\n",
      "ODATEW_YR       0.004120\n",
      "ETH2            0.003857\n",
      "AGEC7           0.003648\n",
      "HU2             0.003559\n",
      "DMA             0.003403\n",
      "HHD4            0.003206\n",
      "HIT             0.003191\n",
      "HVP5            0.003162\n",
      "CHILC4          0.003100\n",
      "HV1             0.003061\n",
      "IC1             0.003044\n",
      "HHAS3           0.002974\n",
      "CARDPM12        0.002755\n",
      "HHD7            0.002736\n",
      "MINRDATE_MM     0.002702\n",
      "RHP1            0.002689\n",
      "HVP3            0.002660\n",
      "IC7             0.002634\n",
      "VC1             0.002616\n",
      "LFC7            0.002579\n",
      "TPE1            0.002577\n",
      "HVP4            0.002550\n",
      "RFA_2A_F        0.002543\n",
      "HHP2            0.002539\n",
      "HUR2            0.002462\n",
      "HHD5            0.002438\n",
      "INCOME          0.002430\n",
      "LASTDATE_MM     0.002407\n",
      "POP901          0.002405\n",
      "AGE906          0.002400\n",
      "HC12            0.002372\n",
      "EIC16           0.002351\n",
      "POP903          0.002313\n",
      "VC3             0.002300\n",
      "EIC12           0.002290\n",
      "LSC3            0.002266\n",
      "POP902          0.002264\n",
      "IC16            0.002262\n",
      "HHN5            0.002220\n",
      "CHIL1           0.002214\n",
      "OCC8            0.002186\n",
      "HV2             0.002185\n",
      "HHP1            0.002175\n",
      "OCC10           0.002152\n",
      "HHN1            0.002136\n",
      "TPE8            0.002121\n",
      "DW7             0.002117\n",
      "LFC5            0.002108\n",
      "AGE907          0.002100\n",
      "HUPA4           0.002079\n",
      "POP90C4         0.002067\n",
      "RP3             0.002057\n",
      "EC6             0.002001\n",
      "SEC1            0.001999\n",
      "IC3             0.001938\n",
      "LFC10           0.001915\n",
      "LFC3            0.001903\n",
      "MAXRDATE_YR     0.001902\n",
      "LASTDATE_YR     0.001901\n",
      "AGEC1           0.001895\n",
      "OCC3            0.001879\n",
      "IC2             0.001878\n",
      "IC4             0.001863\n",
      "RFA_2A_E        0.001822\n",
      "EIC11           0.001739\n",
      "HHN3            0.001734\n",
      "HVP1            0.001729\n",
      "LFC1            0.001705\n",
      "DW3             0.001701\n",
      "AGE             0.001699\n",
      "IC22            0.001671\n",
      "AFC4            0.001657\n",
      "CHIL2           0.001652\n",
      "DW2             0.001628\n",
      "OCC1            0.001627\n",
      "HC7             0.001622\n",
      "EC3             0.001620\n",
      "DW6             0.001614\n",
      "OCC4            0.001601\n",
      "IC9             0.001601\n",
      "HU4             0.001599\n",
      "TPE3            0.001594\n",
      "AGEC5           0.001587\n",
      "LSC2            0.001576\n",
      "VC4             0.001570\n",
      "ETHC4           0.001549\n",
      "HC6             0.001530\n",
      "HC1             0.001515\n",
      "LFC6            0.001508\n",
      "HHD9            0.001498\n",
      "SEC2            0.001478\n",
      "CHILC2          0.001455\n",
      "HC5             0.001429\n",
      "DOB_MM          0.001424\n",
      "IC20            0.001395\n",
      "IC17            0.001393\n",
      "MC3             0.001374\n",
      "POBC1           0.001362\n",
      "DW1             0.001362\n",
      "ANC7            0.001351\n",
      "HC14            0.001351\n",
      "HVP2            0.001347\n",
      "HU1             0.001328\n",
      "MARR4           0.001320\n",
      "EC2             0.001319\n",
      "TPE11           0.001294\n",
      "MARR1           0.001261\n",
      "HVP6            0.001254\n",
      "IC15            0.001246\n",
      "EIC1            0.001239\n",
      "HC8             0.001214\n",
      "VOC1            0.001214\n",
      "AFC5            0.001209\n",
      "MHUC1           0.001198\n",
      "HUPA3           0.001190\n",
      "OEDC4           0.001189\n",
      "ANC4            0.001187\n",
      "HHN4            0.001181\n",
      "HHN6            0.001177\n",
      "HV4             0.001161\n",
      "WEALTH1         0.001159\n",
      "TIMELAG         0.001145\n",
      "VC2             0.001144\n",
      "HU3             0.001144\n",
      "HHAGE3          0.001136\n",
      "AGEC2           0.001125\n",
      "EC7             0.001113\n",
      "TCODE           0.001111\n",
      "POP90C5         0.001075\n",
      "HUPA6           0.001072\n",
      "ETH9            0.001071\n",
      "POBC2           0.001070\n",
      "OCC11           0.001068\n",
      "HHD10           0.001065\n",
      "HC3             0.001063\n",
      "EIC9            0.001038\n",
      "CHILC1          0.001032\n",
      "RHP2            0.001030\n",
      "HC21            0.001027\n",
      "PEC2            0.001027\n",
      "VOC3            0.001018\n",
      "HUPA2           0.001017\n",
      "MARR3           0.001016\n",
      "AGEC4           0.001015\n",
      "ANC14           0.001013\n",
      "HUR1            0.001012\n",
      "IC11            0.001004\n",
      "ETH14           0.001002\n",
      "MARR2           0.000993\n",
      "ETH11           0.000990\n",
      "CHILC5          0.000957\n",
      "AGE905          0.000936\n",
      "TPE9            0.000934\n",
      "SEC4            0.000919\n",
      "HHAS1           0.000918\n",
      "MC1             0.000914\n",
      "EIC10           0.000914\n",
      "ETHC2           0.000912\n",
      "OCC2            0.000910\n",
      "HHD6            0.000905\n",
      "OEDC6           0.000878\n",
      "AGE904          0.000856\n",
      "HC11            0.000849\n",
      "ETH1            0.000848\n",
      "HC19            0.000844\n",
      "AC2             0.000843\n",
      "VOC2            0.000835\n",
      "AGE902          0.000834\n",
      "HV3             0.000810\n",
      "EIC8            0.000793\n",
      "ANC10           0.000789\n",
      "MALEVET         0.000781\n",
      "AC1             0.000776\n",
      "EIC14           0.000773\n",
      "HC10            0.000769\n",
      "RP1             0.000768\n",
      "EIC15           0.000765\n",
      "DW5             0.000762\n",
      "EIC4            0.000760\n",
      "RP2             0.000753\n",
      "HC2             0.000748\n",
      "HHD12           0.000747\n",
      "EIC3            0.000746\n",
      "MC2             0.000744\n",
      "LOCALGOV        0.000742\n",
      "ANC3            0.000726\n",
      "ETHC1           0.000726\n",
      "TPE7            0.000716\n",
      "CLUSTER         0.000703\n",
      "POP90C1         0.000695\n",
      "FIRSTDATE_MM    0.000676\n",
      "HHAGE1          0.000653\n",
      "WWIIVETS        0.000648\n",
      "HC20            0.000628\n",
      "TPE6            0.000626\n",
      "EC1             0.000622\n",
      "HHN2            0.000616\n",
      "IC12            0.000616\n",
      "HHD3            0.000610\n",
      "IC21            0.000610\n",
      "HHD2            0.000601\n",
      "LSC1            0.000600\n",
      "IC19            0.000568\n",
      "HUPA5           0.000567\n",
      "ADI             0.000564\n",
      "OCC7            0.000560\n",
      "HHAS4           0.000558\n",
      "AGEC3           0.000548\n",
      "ETHC5           0.000547\n",
      "IC13            0.000527\n",
      "LFC2            0.000526\n",
      "WEALTH2         0.000523\n",
      "AGE903          0.000522\n",
      "HHAGE2          0.000521\n",
      "TPE13           0.000520\n",
      "IC8             0.000513\n",
      "EIC7            0.000507\n",
      "OCC5            0.000502\n",
      "DOMAIN_A_T      0.000496\n",
      "MAXRDATE_MM     0.000492\n",
      "ETH15           0.000491\n",
      "HC4             0.000490\n",
      "HHD1            0.000489\n",
      "HC16            0.000488\n",
      "AGEC6           0.000481\n",
      "ETH4            0.000472\n",
      "OEDC2           0.000462\n",
      "LFC4            0.000448\n",
      "TPE2            0.000432\n",
      "TPE12           0.000431\n",
      "ETH10           0.000411\n",
      "HC17            0.000404\n",
      "HHD11           0.000403\n",
      "IC10            0.000383\n",
      "CHIL3           0.000367\n",
      "RP4             0.000349\n",
      "ETHC6           0.000342\n",
      "VIETVETS        0.000341\n",
      "IC5             0.000335\n",
      "OCC9            0.000317\n",
      "ETH3            0.000307\n",
      "ANC8            0.000305\n",
      "OEDC5           0.000296\n",
      "RHP4            0.000291\n",
      "LSC4            0.000287\n",
      "HHD8            0.000286\n",
      "HC9             0.000282\n",
      "OCC13           0.000274\n",
      "DOB_YR          0.000264\n",
      "OCC12           0.000261\n",
      "IC6             0.000261\n",
      "EIC6            0.000250\n",
      "MSA             0.000248\n",
      "ANC9            0.000239\n",
      "RHP3            0.000238\n",
      "HHAS2           0.000237\n",
      "POP90C3         0.000233\n",
      "DOMAIN_B        0.000232\n",
      "FEDGOV          0.000230\n",
      "CHILC3          0.000226\n",
      "ANC1            0.000218\n",
      "OCC6            0.000214\n",
      "MINRDATE_YR     0.000212\n",
      "SEC5            0.000207\n",
      "HUPA1           0.000201\n",
      "ANC13           0.000196\n",
      "AGE901          0.000192\n",
      "PEC1            0.000179\n",
      "EIC2            0.000172\n",
      "ETH12           0.000166\n",
      "TPE5            0.000156\n",
      "ANC2            0.000144\n",
      "DOMAIN_A_R      0.000139\n",
      "HU5             0.000121\n",
      "CLUSTER2        0.000119\n",
      "ETH6            0.000116\n",
      "ETH8            0.000115\n",
      "EIC13           0.000114\n",
      "HC13            0.000106\n",
      "AFC1            0.000097\n",
      "LFC8            0.000091\n",
      "DW8             0.000087\n",
      "DATASRCE        0.000063\n",
      "IC23            0.000035\n",
      "ODATEW_MM       0.000000\n",
      "HPHONE_D        0.000000\n",
      "MHUC2           0.000000\n",
      "HC15            0.000000\n",
      "HC18            0.000000\n",
      "STATE_FL        0.000000\n",
      "ANC15           0.000000\n",
      "GENDER_M        0.000000\n",
      "POP90C2         0.000000\n",
      "STATEGOV        0.000000\n",
      "MALEMILI        0.000000\n",
      "DOMAIN_A_U      0.000000\n",
      "DOMAIN_A_S      0.000000\n",
      "GEOCODE2_D      0.000000\n",
      "GEOCODE2_C      0.000000\n",
      "GEOCODE2_B      0.000000\n",
      "GENDER_other    0.000000\n",
      "HOMEOWNR_U      0.000000\n",
      "ETH7            0.000000\n",
      "STATE_other     0.000000\n",
      "STATE_WI        0.000000\n",
      "STATE_WA        0.000000\n",
      "STATE_TX        0.000000\n",
      "STATE_NC        0.000000\n",
      "STATE_MO        0.000000\n",
      "STATE_MI        0.000000\n",
      "STATE_IN        0.000000\n",
      "STATE_IL        0.000000\n",
      "ETH5            0.000000\n",
      "ETH16           0.000000\n",
      "ANC12           0.000000\n",
      "OEDC7           0.000000\n",
      "ANC11           0.000000\n",
      "ANC6            0.000000\n",
      "ANC5            0.000000\n",
      "AFC6            0.000000\n",
      "AFC3            0.000000\n",
      "AFC2            0.000000\n",
      "SEC3            0.000000\n",
      "EC8             0.000000\n",
      "EC4             0.000000\n",
      "OEDC3           0.000000\n",
      "DW4             0.000000\n",
      "OEDC1           0.000000\n",
      "EIC5            0.000000\n",
      "LFC9            0.000000\n",
      "TPE10           0.000000\n",
      "TPE4            0.000000\n",
      "STATE_GA        0.000000\n",
      "IC14            0.000000\n",
      "HUPA7           0.000000\n",
      "DW9             0.000000\n",
      "IC18            0.000000\n",
      "dtype: float64\n"
     ]
    }
   ],
   "source": [
    "with pd.option_context('display.max_rows', None) :\n",
    "    print(forest_importances.sort_values(ascending=False))"
   ]
  },
  {
   "cell_type": "code",
   "execution_count": 55,
   "id": "4e537726",
   "metadata": {},
   "outputs": [],
   "source": [
    "import time\n",
    "start_time = time.time()\n",
    "importances = clf.feature_importances_\n",
    "std = np.std([clf.feature_importances_ for tree in clf.estimators_], axis=0)\n",
    "elapsed_time = time.time() - start_time"
   ]
  },
  {
   "cell_type": "code",
   "execution_count": 56,
   "id": "22ebf189",
   "metadata": {},
   "outputs": [
    {
     "name": "stdout",
     "output_type": "stream",
     "text": [
      "Elapsed time to compute the importances: 0.197 seconds\n"
     ]
    }
   ],
   "source": [
    "print(f\"Elapsed time to compute the importances: {elapsed_time:.3f} seconds\")"
   ]
  },
  {
   "cell_type": "code",
   "execution_count": 58,
   "id": "febe1768",
   "metadata": {},
   "outputs": [],
   "source": [
    "import matplotlib.pyplot as plt "
   ]
  },
  {
   "cell_type": "code",
   "execution_count": 59,
   "id": "8296097e",
   "metadata": {},
   "outputs": [
    {
     "data": {
      "image/png": "[encoded data removed]",
      "text/plain": [
       "<Figure size 3600x2160 with 1 Axes>"
      ]
     },
     "metadata": {
      "needs_background": "light"
     },
     "output_type": "display_data"
    }
   ],
   "source": [
    "forest_importances = pd.Series(importances, index=feature_names)\n",
    "\n",
    "fig, ax = plt.subplots(figsize=(50,30))\n",
    "forest_importances.plot.bar(yerr=std, ax=ax)\n",
    "ax.set_title(\"Feature importances using MDI\")\n",
    "ax.set_ylabel(\"Mean decrease in impurity\")\n",
    "fig.tight_layout()"
   ]
  },
  {
   "cell_type": "code",
   "execution_count": null,
   "id": "8184fc54",
   "metadata": {},
   "outputs": [],
   "source": []
  }
 ],
 "metadata": {
  "kernelspec": {
   "display_name": "Python 3 (ipykernel)",
   "language": "python",
   "name": "python3"
  },
  "language_info": {
   "codemirror_mode": {
    "name": "ipython",
    "version": 3
   },
   "file_extension": ".py",
   "mimetype": "text/x-python",
   "name": "python",
   "nbconvert_exporter": "python",
   "pygments_lexer": "ipython3",
   "version": "3.8.13"
  },
  "toc": {
   "base_numbering": 1,
   "nav_menu": {},
   "number_sections": true,
   "sideBar": true,
   "skip_h1_title": false,
   "title_cell": "Table of Contents",
   "title_sidebar": "Contents",
   "toc_cell": false,
   "toc_position": {},
   "toc_section_display": true,
   "toc_window_display": false
  },
  "varInspector": {
   "cols": {
    "lenName": 16,
    "lenType": 16,
    "lenVar": 40
   },
   "kernels_config": {
    "python": {
     "delete_cmd_postfix": "",
     "delete_cmd_prefix": "del ",
     "library": "var_list.py",
     "varRefreshCmd": "print(var_dic_list())"
    },
    "r": {
     "delete_cmd_postfix": ") ",
     "delete_cmd_prefix": "rm(",
     "library": "var_list.r",
     "varRefreshCmd": "cat(var_dic_list()) "
    }
   },
   "types_to_exclude": [
    "module",
    "function",
    "builtin_function_or_method",
    "instance",
    "_Feature"
   ],
   "window_display": false
  }
 },
 "nbformat": 4,
 "nbformat_minor": 5
}
