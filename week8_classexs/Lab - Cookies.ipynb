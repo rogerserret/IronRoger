{
 "cells": [
  {
   "cell_type": "code",
   "execution_count": 1,
   "id": "c8bdf182",
   "metadata": {},
   "outputs": [],
   "source": [
    "import pandas as pd \n",
    "import numpy as np "
   ]
  },
  {
   "cell_type": "code",
   "execution_count": 2,
   "id": "0c3dffc6",
   "metadata": {},
   "outputs": [],
   "source": [
    "df_train=pd.read_excel('cookies_comp_students.xlsx', sheet_name='cookies_train')"
   ]
  },
  {
   "cell_type": "code",
   "execution_count": 3,
   "id": "44a373af",
   "metadata": {},
   "outputs": [
    {
     "data": {
      "text/html": [
       "<div>\n",
       "<style scoped>\n",
       "    .dataframe tbody tr th:only-of-type {\n",
       "        vertical-align: middle;\n",
       "    }\n",
       "\n",
       "    .dataframe tbody tr th {\n",
       "        vertical-align: top;\n",
       "    }\n",
       "\n",
       "    .dataframe thead th {\n",
       "        text-align: right;\n",
       "    }\n",
       "</style>\n",
       "<table border=\"1\" class=\"dataframe\">\n",
       "  <thead>\n",
       "    <tr style=\"text-align: right;\">\n",
       "      <th></th>\n",
       "      <th>sugar to flour ratio</th>\n",
       "      <th>sugar index</th>\n",
       "      <th>bake temp</th>\n",
       "      <th>chill time</th>\n",
       "      <th>calories</th>\n",
       "      <th>density</th>\n",
       "      <th>pH</th>\n",
       "      <th>grams baking soda</th>\n",
       "      <th>bake time</th>\n",
       "      <th>quality</th>\n",
       "      <th>butter type</th>\n",
       "      <th>weight</th>\n",
       "      <th>diameter</th>\n",
       "      <th>mixins</th>\n",
       "      <th>crunch factor</th>\n",
       "      <th>aesthetic appeal</th>\n",
       "    </tr>\n",
       "  </thead>\n",
       "  <tbody>\n",
       "    <tr>\n",
       "      <th>0</th>\n",
       "      <td>0.25</td>\n",
       "      <td>9.5</td>\n",
       "      <td>300</td>\n",
       "      <td>15.0</td>\n",
       "      <td>136.0</td>\n",
       "      <td>0.99367</td>\n",
       "      <td>8.10</td>\n",
       "      <td>0.44</td>\n",
       "      <td>12.1</td>\n",
       "      <td>8</td>\n",
       "      <td>melted</td>\n",
       "      <td>15.2</td>\n",
       "      <td>7</td>\n",
       "      <td>raisins</td>\n",
       "      <td>1.30</td>\n",
       "      <td>3</td>\n",
       "    </tr>\n",
       "    <tr>\n",
       "      <th>1</th>\n",
       "      <td>0.23</td>\n",
       "      <td>3.3</td>\n",
       "      <td>520</td>\n",
       "      <td>34.0</td>\n",
       "      <td>113.0</td>\n",
       "      <td>0.99429</td>\n",
       "      <td>8.16</td>\n",
       "      <td>0.48</td>\n",
       "      <td>8.4</td>\n",
       "      <td>7</td>\n",
       "      <td>melted</td>\n",
       "      <td>12.4</td>\n",
       "      <td>7</td>\n",
       "      <td>raisins</td>\n",
       "      <td>1.71</td>\n",
       "      <td>3</td>\n",
       "    </tr>\n",
       "    <tr>\n",
       "      <th>2</th>\n",
       "      <td>0.18</td>\n",
       "      <td>1.9</td>\n",
       "      <td>360</td>\n",
       "      <td>33.0</td>\n",
       "      <td>106.0</td>\n",
       "      <td>0.98746</td>\n",
       "      <td>8.21</td>\n",
       "      <td>0.83</td>\n",
       "      <td>14.0</td>\n",
       "      <td>9</td>\n",
       "      <td>melted</td>\n",
       "      <td>9.4</td>\n",
       "      <td>7</td>\n",
       "      <td>nuts, chocolate</td>\n",
       "      <td>1.78</td>\n",
       "      <td>3</td>\n",
       "    </tr>\n",
       "    <tr>\n",
       "      <th>3</th>\n",
       "      <td>0.18</td>\n",
       "      <td>10.5</td>\n",
       "      <td>490</td>\n",
       "      <td>41.0</td>\n",
       "      <td>124.0</td>\n",
       "      <td>0.99630</td>\n",
       "      <td>8.14</td>\n",
       "      <td>0.35</td>\n",
       "      <td>10.5</td>\n",
       "      <td>7</td>\n",
       "      <td>melted</td>\n",
       "      <td>12.2</td>\n",
       "      <td>7</td>\n",
       "      <td>chocolate</td>\n",
       "      <td>1.59</td>\n",
       "      <td>3</td>\n",
       "    </tr>\n",
       "    <tr>\n",
       "      <th>4</th>\n",
       "      <td>0.24</td>\n",
       "      <td>2.4</td>\n",
       "      <td>770</td>\n",
       "      <td>6.0</td>\n",
       "      <td>33.0</td>\n",
       "      <td>0.99740</td>\n",
       "      <td>8.09</td>\n",
       "      <td>0.57</td>\n",
       "      <td>9.4</td>\n",
       "      <td>5</td>\n",
       "      <td>cubed</td>\n",
       "      <td>19.8</td>\n",
       "      <td>7</td>\n",
       "      <td>nuts, oats, chocolate</td>\n",
       "      <td>1.30</td>\n",
       "      <td>3</td>\n",
       "    </tr>\n",
       "    <tr>\n",
       "      <th>...</th>\n",
       "      <td>...</td>\n",
       "      <td>...</td>\n",
       "      <td>...</td>\n",
       "      <td>...</td>\n",
       "      <td>...</td>\n",
       "      <td>...</td>\n",
       "      <td>...</td>\n",
       "      <td>...</td>\n",
       "      <td>...</td>\n",
       "      <td>...</td>\n",
       "      <td>...</td>\n",
       "      <td>...</td>\n",
       "      <td>...</td>\n",
       "      <td>...</td>\n",
       "      <td>...</td>\n",
       "      <td>...</td>\n",
       "    </tr>\n",
       "    <tr>\n",
       "      <th>5193</th>\n",
       "      <td>0.66</td>\n",
       "      <td>2.0</td>\n",
       "      <td>390</td>\n",
       "      <td>15.0</td>\n",
       "      <td>88.0</td>\n",
       "      <td>0.99357</td>\n",
       "      <td>8.66</td>\n",
       "      <td>0.60</td>\n",
       "      <td>11.5</td>\n",
       "      <td>6</td>\n",
       "      <td>cubed</td>\n",
       "      <td>11.6</td>\n",
       "      <td>7</td>\n",
       "      <td>peanut butter</td>\n",
       "      <td>1.36</td>\n",
       "      <td>3</td>\n",
       "    </tr>\n",
       "    <tr>\n",
       "      <th>5194</th>\n",
       "      <td>0.16</td>\n",
       "      <td>1.5</td>\n",
       "      <td>490</td>\n",
       "      <td>10.0</td>\n",
       "      <td>97.0</td>\n",
       "      <td>0.99170</td>\n",
       "      <td>8.48</td>\n",
       "      <td>0.44</td>\n",
       "      <td>10.7</td>\n",
       "      <td>8</td>\n",
       "      <td>melted</td>\n",
       "      <td>10.0</td>\n",
       "      <td>7</td>\n",
       "      <td>raisins</td>\n",
       "      <td>1.80</td>\n",
       "      <td>3</td>\n",
       "    </tr>\n",
       "    <tr>\n",
       "      <th>5195</th>\n",
       "      <td>0.25</td>\n",
       "      <td>14.3</td>\n",
       "      <td>480</td>\n",
       "      <td>79.0</td>\n",
       "      <td>149.0</td>\n",
       "      <td>0.99750</td>\n",
       "      <td>8.12</td>\n",
       "      <td>0.37</td>\n",
       "      <td>9.7</td>\n",
       "      <td>7</td>\n",
       "      <td>melted</td>\n",
       "      <td>13.4</td>\n",
       "      <td>7</td>\n",
       "      <td>chocolate, oats</td>\n",
       "      <td>1.07</td>\n",
       "      <td>3</td>\n",
       "    </tr>\n",
       "    <tr>\n",
       "      <th>5196</th>\n",
       "      <td>0.33</td>\n",
       "      <td>1.4</td>\n",
       "      <td>560</td>\n",
       "      <td>35.0</td>\n",
       "      <td>136.0</td>\n",
       "      <td>0.99380</td>\n",
       "      <td>8.63</td>\n",
       "      <td>0.78</td>\n",
       "      <td>10.3</td>\n",
       "      <td>8</td>\n",
       "      <td>melted</td>\n",
       "      <td>13.8</td>\n",
       "      <td>7</td>\n",
       "      <td>chocolate</td>\n",
       "      <td>1.77</td>\n",
       "      <td>3</td>\n",
       "    </tr>\n",
       "    <tr>\n",
       "      <th>5197</th>\n",
       "      <td>0.44</td>\n",
       "      <td>1.8</td>\n",
       "      <td>810</td>\n",
       "      <td>28.0</td>\n",
       "      <td>68.0</td>\n",
       "      <td>0.99501</td>\n",
       "      <td>8.36</td>\n",
       "      <td>0.66</td>\n",
       "      <td>11.2</td>\n",
       "      <td>5</td>\n",
       "      <td>cubed</td>\n",
       "      <td>16.0</td>\n",
       "      <td>7</td>\n",
       "      <td>chocolate</td>\n",
       "      <td>1.61</td>\n",
       "      <td>3</td>\n",
       "    </tr>\n",
       "  </tbody>\n",
       "</table>\n",
       "<p>5198 rows × 16 columns</p>\n",
       "</div>"
      ],
      "text/plain": [
       "      sugar to flour ratio  sugar index  bake temp  chill time  calories  \\\n",
       "0                     0.25          9.5        300        15.0     136.0   \n",
       "1                     0.23          3.3        520        34.0     113.0   \n",
       "2                     0.18          1.9        360        33.0     106.0   \n",
       "3                     0.18         10.5        490        41.0     124.0   \n",
       "4                     0.24          2.4        770         6.0      33.0   \n",
       "...                    ...          ...        ...         ...       ...   \n",
       "5193                  0.66          2.0        390        15.0      88.0   \n",
       "5194                  0.16          1.5        490        10.0      97.0   \n",
       "5195                  0.25         14.3        480        79.0     149.0   \n",
       "5196                  0.33          1.4        560        35.0     136.0   \n",
       "5197                  0.44          1.8        810        28.0      68.0   \n",
       "\n",
       "      density    pH  grams baking soda  bake time  quality butter type  \\\n",
       "0     0.99367  8.10               0.44       12.1        8      melted   \n",
       "1     0.99429  8.16               0.48        8.4        7      melted   \n",
       "2     0.98746  8.21               0.83       14.0        9      melted   \n",
       "3     0.99630  8.14               0.35       10.5        7      melted   \n",
       "4     0.99740  8.09               0.57        9.4        5       cubed   \n",
       "...       ...   ...                ...        ...      ...         ...   \n",
       "5193  0.99357  8.66               0.60       11.5        6       cubed   \n",
       "5194  0.99170  8.48               0.44       10.7        8      melted   \n",
       "5195  0.99750  8.12               0.37        9.7        7      melted   \n",
       "5196  0.99380  8.63               0.78       10.3        8      melted   \n",
       "5197  0.99501  8.36               0.66       11.2        5       cubed   \n",
       "\n",
       "      weight  diameter                 mixins  crunch factor  aesthetic appeal  \n",
       "0       15.2         7                raisins           1.30                 3  \n",
       "1       12.4         7                raisins           1.71                 3  \n",
       "2        9.4         7        nuts, chocolate           1.78                 3  \n",
       "3       12.2         7              chocolate           1.59                 3  \n",
       "4       19.8         7  nuts, oats, chocolate           1.30                 3  \n",
       "...      ...       ...                    ...            ...               ...  \n",
       "5193    11.6         7          peanut butter           1.36                 3  \n",
       "5194    10.0         7                raisins           1.80                 3  \n",
       "5195    13.4         7        chocolate, oats           1.07                 3  \n",
       "5196    13.8         7              chocolate           1.77                 3  \n",
       "5197    16.0         7              chocolate           1.61                 3  \n",
       "\n",
       "[5198 rows x 16 columns]"
      ]
     },
     "execution_count": 3,
     "metadata": {},
     "output_type": "execute_result"
    }
   ],
   "source": [
    "df_train"
   ]
  },
  {
   "cell_type": "code",
   "execution_count": 4,
   "id": "3f04f259",
   "metadata": {},
   "outputs": [],
   "source": [
    "df_test=pd.read_excel('cookies_comp_students.xlsx', sheet_name='cookies_test')"
   ]
  },
  {
   "cell_type": "code",
   "execution_count": 5,
   "id": "0e8d610a",
   "metadata": {},
   "outputs": [
    {
     "data": {
      "text/html": [
       "<div>\n",
       "<style scoped>\n",
       "    .dataframe tbody tr th:only-of-type {\n",
       "        vertical-align: middle;\n",
       "    }\n",
       "\n",
       "    .dataframe tbody tr th {\n",
       "        vertical-align: top;\n",
       "    }\n",
       "\n",
       "    .dataframe thead th {\n",
       "        text-align: right;\n",
       "    }\n",
       "</style>\n",
       "<table border=\"1\" class=\"dataframe\">\n",
       "  <thead>\n",
       "    <tr style=\"text-align: right;\">\n",
       "      <th></th>\n",
       "      <th>id</th>\n",
       "      <th>sugar to flour ratio</th>\n",
       "      <th>sugar index</th>\n",
       "      <th>bake temp</th>\n",
       "      <th>chill time</th>\n",
       "      <th>calories</th>\n",
       "      <th>density</th>\n",
       "      <th>pH</th>\n",
       "      <th>grams baking soda</th>\n",
       "      <th>bake time</th>\n",
       "      <th>quality</th>\n",
       "      <th>butter type</th>\n",
       "      <th>weight</th>\n",
       "      <th>diameter</th>\n",
       "      <th>mixins</th>\n",
       "      <th>crunch factor</th>\n",
       "      <th>aesthetic appeal</th>\n",
       "    </tr>\n",
       "  </thead>\n",
       "  <tbody>\n",
       "    <tr>\n",
       "      <th>0</th>\n",
       "      <td>1001</td>\n",
       "      <td>0.62</td>\n",
       "      <td>19.25</td>\n",
       "      <td>400.0</td>\n",
       "      <td>41.0</td>\n",
       "      <td>172.0</td>\n",
       "      <td>1.00020</td>\n",
       "      <td>7.98</td>\n",
       "      <td>0.67</td>\n",
       "      <td>9.7</td>\n",
       "      <td>0</td>\n",
       "      <td>melted</td>\n",
       "      <td>16.6</td>\n",
       "      <td>7</td>\n",
       "      <td>nuts, chocolate</td>\n",
       "      <td>1.85</td>\n",
       "      <td>3</td>\n",
       "    </tr>\n",
       "    <tr>\n",
       "      <th>1</th>\n",
       "      <td>1002</td>\n",
       "      <td>0.35</td>\n",
       "      <td>1.00</td>\n",
       "      <td>520.0</td>\n",
       "      <td>35.0</td>\n",
       "      <td>146.0</td>\n",
       "      <td>0.99300</td>\n",
       "      <td>8.45</td>\n",
       "      <td>0.44</td>\n",
       "      <td>10.0</td>\n",
       "      <td>0</td>\n",
       "      <td>melted</td>\n",
       "      <td>13.8</td>\n",
       "      <td>7</td>\n",
       "      <td>chocolate</td>\n",
       "      <td>1.43</td>\n",
       "      <td>3</td>\n",
       "    </tr>\n",
       "    <tr>\n",
       "      <th>2</th>\n",
       "      <td>1003</td>\n",
       "      <td>0.39</td>\n",
       "      <td>10.40</td>\n",
       "      <td>440.0</td>\n",
       "      <td>20.0</td>\n",
       "      <td>142.0</td>\n",
       "      <td>0.99740</td>\n",
       "      <td>8.20</td>\n",
       "      <td>0.53</td>\n",
       "      <td>10.0</td>\n",
       "      <td>0</td>\n",
       "      <td>melted</td>\n",
       "      <td>17.0</td>\n",
       "      <td>7</td>\n",
       "      <td>chocolate</td>\n",
       "      <td>1.57</td>\n",
       "      <td>3</td>\n",
       "    </tr>\n",
       "    <tr>\n",
       "      <th>3</th>\n",
       "      <td>1004</td>\n",
       "      <td>0.33</td>\n",
       "      <td>1.10</td>\n",
       "      <td>570.0</td>\n",
       "      <td>21.0</td>\n",
       "      <td>82.0</td>\n",
       "      <td>0.99100</td>\n",
       "      <td>8.32</td>\n",
       "      <td>0.46</td>\n",
       "      <td>10.9</td>\n",
       "      <td>0</td>\n",
       "      <td>melted</td>\n",
       "      <td>12.4</td>\n",
       "      <td>7</td>\n",
       "      <td>chocolate, oats</td>\n",
       "      <td>1.44</td>\n",
       "      <td>3</td>\n",
       "    </tr>\n",
       "    <tr>\n",
       "      <th>4</th>\n",
       "      <td>1005</td>\n",
       "      <td>0.37</td>\n",
       "      <td>13.50</td>\n",
       "      <td>600.0</td>\n",
       "      <td>52.0</td>\n",
       "      <td>192.0</td>\n",
       "      <td>0.99750</td>\n",
       "      <td>8.00</td>\n",
       "      <td>0.44</td>\n",
       "      <td>9.1</td>\n",
       "      <td>0</td>\n",
       "      <td>melted</td>\n",
       "      <td>14.8</td>\n",
       "      <td>7</td>\n",
       "      <td>chocolate</td>\n",
       "      <td>1.51</td>\n",
       "      <td>3</td>\n",
       "    </tr>\n",
       "    <tr>\n",
       "      <th>...</th>\n",
       "      <td>...</td>\n",
       "      <td>...</td>\n",
       "      <td>...</td>\n",
       "      <td>...</td>\n",
       "      <td>...</td>\n",
       "      <td>...</td>\n",
       "      <td>...</td>\n",
       "      <td>...</td>\n",
       "      <td>...</td>\n",
       "      <td>...</td>\n",
       "      <td>...</td>\n",
       "      <td>...</td>\n",
       "      <td>...</td>\n",
       "      <td>...</td>\n",
       "      <td>...</td>\n",
       "      <td>...</td>\n",
       "      <td>...</td>\n",
       "    </tr>\n",
       "    <tr>\n",
       "      <th>774</th>\n",
       "      <td>1775</td>\n",
       "      <td>0.02</td>\n",
       "      <td>1.90</td>\n",
       "      <td>780.0</td>\n",
       "      <td>18.0</td>\n",
       "      <td>30.0</td>\n",
       "      <td>0.99712</td>\n",
       "      <td>8.40</td>\n",
       "      <td>0.75</td>\n",
       "      <td>9.8</td>\n",
       "      <td>0</td>\n",
       "      <td>cubed</td>\n",
       "      <td>13.8</td>\n",
       "      <td>7</td>\n",
       "      <td>nuts, oats, chocolate</td>\n",
       "      <td>1.01</td>\n",
       "      <td>3</td>\n",
       "    </tr>\n",
       "    <tr>\n",
       "      <th>775</th>\n",
       "      <td>1776</td>\n",
       "      <td>0.19</td>\n",
       "      <td>5.20</td>\n",
       "      <td>940.0</td>\n",
       "      <td>19.0</td>\n",
       "      <td>98.0</td>\n",
       "      <td>0.99713</td>\n",
       "      <td>8.16</td>\n",
       "      <td>0.52</td>\n",
       "      <td>9.6</td>\n",
       "      <td>0</td>\n",
       "      <td>cubed</td>\n",
       "      <td>14.8</td>\n",
       "      <td>7</td>\n",
       "      <td>nuts, oats</td>\n",
       "      <td>1.68</td>\n",
       "      <td>3</td>\n",
       "    </tr>\n",
       "    <tr>\n",
       "      <th>776</th>\n",
       "      <td>1777</td>\n",
       "      <td>0.00</td>\n",
       "      <td>2.10</td>\n",
       "      <td>600.0</td>\n",
       "      <td>6.0</td>\n",
       "      <td>13.0</td>\n",
       "      <td>0.99664</td>\n",
       "      <td>8.59</td>\n",
       "      <td>0.61</td>\n",
       "      <td>10.0</td>\n",
       "      <td>0</td>\n",
       "      <td>cubed</td>\n",
       "      <td>12.4</td>\n",
       "      <td>7</td>\n",
       "      <td>nuts, oats</td>\n",
       "      <td>1.38</td>\n",
       "      <td>3</td>\n",
       "    </tr>\n",
       "    <tr>\n",
       "      <th>777</th>\n",
       "      <td>1778</td>\n",
       "      <td>0.08</td>\n",
       "      <td>2.30</td>\n",
       "      <td>670.0</td>\n",
       "      <td>19.0</td>\n",
       "      <td>32.0</td>\n",
       "      <td>0.99648</td>\n",
       "      <td>8.52</td>\n",
       "      <td>0.57</td>\n",
       "      <td>11.0</td>\n",
       "      <td>0</td>\n",
       "      <td>cubed</td>\n",
       "      <td>13.4</td>\n",
       "      <td>7</td>\n",
       "      <td>peanut butter</td>\n",
       "      <td>1.63</td>\n",
       "      <td>3</td>\n",
       "    </tr>\n",
       "    <tr>\n",
       "      <th>778</th>\n",
       "      <td>1779</td>\n",
       "      <td>0.50</td>\n",
       "      <td>13.80</td>\n",
       "      <td>2050.0</td>\n",
       "      <td>48.0</td>\n",
       "      <td>82.0</td>\n",
       "      <td>1.00242</td>\n",
       "      <td>8.16</td>\n",
       "      <td>0.75</td>\n",
       "      <td>8.8</td>\n",
       "      <td>0</td>\n",
       "      <td>cubed</td>\n",
       "      <td>19.8</td>\n",
       "      <td>7</td>\n",
       "      <td>nuts,raisins</td>\n",
       "      <td>1.90</td>\n",
       "      <td>3</td>\n",
       "    </tr>\n",
       "  </tbody>\n",
       "</table>\n",
       "<p>779 rows × 17 columns</p>\n",
       "</div>"
      ],
      "text/plain": [
       "       id  sugar to flour ratio  sugar index  bake temp  chill time  calories  \\\n",
       "0    1001                  0.62        19.25      400.0        41.0     172.0   \n",
       "1    1002                  0.35         1.00      520.0        35.0     146.0   \n",
       "2    1003                  0.39        10.40      440.0        20.0     142.0   \n",
       "3    1004                  0.33         1.10      570.0        21.0      82.0   \n",
       "4    1005                  0.37        13.50      600.0        52.0     192.0   \n",
       "..    ...                   ...          ...        ...         ...       ...   \n",
       "774  1775                  0.02         1.90      780.0        18.0      30.0   \n",
       "775  1776                  0.19         5.20      940.0        19.0      98.0   \n",
       "776  1777                  0.00         2.10      600.0         6.0      13.0   \n",
       "777  1778                  0.08         2.30      670.0        19.0      32.0   \n",
       "778  1779                  0.50        13.80     2050.0        48.0      82.0   \n",
       "\n",
       "     density    pH  grams baking soda  bake time  quality butter type  weight  \\\n",
       "0    1.00020  7.98               0.67        9.7        0      melted    16.6   \n",
       "1    0.99300  8.45               0.44       10.0        0      melted    13.8   \n",
       "2    0.99740  8.20               0.53       10.0        0      melted    17.0   \n",
       "3    0.99100  8.32               0.46       10.9        0      melted    12.4   \n",
       "4    0.99750  8.00               0.44        9.1        0      melted    14.8   \n",
       "..       ...   ...                ...        ...      ...         ...     ...   \n",
       "774  0.99712  8.40               0.75        9.8        0       cubed    13.8   \n",
       "775  0.99713  8.16               0.52        9.6        0       cubed    14.8   \n",
       "776  0.99664  8.59               0.61       10.0        0       cubed    12.4   \n",
       "777  0.99648  8.52               0.57       11.0        0       cubed    13.4   \n",
       "778  1.00242  8.16               0.75        8.8        0       cubed    19.8   \n",
       "\n",
       "     diameter                 mixins  crunch factor  aesthetic appeal  \n",
       "0           7        nuts, chocolate           1.85                 3  \n",
       "1           7              chocolate           1.43                 3  \n",
       "2           7              chocolate           1.57                 3  \n",
       "3           7        chocolate, oats           1.44                 3  \n",
       "4           7              chocolate           1.51                 3  \n",
       "..        ...                    ...            ...               ...  \n",
       "774         7  nuts, oats, chocolate           1.01                 3  \n",
       "775         7             nuts, oats           1.68                 3  \n",
       "776         7             nuts, oats           1.38                 3  \n",
       "777         7          peanut butter           1.63                 3  \n",
       "778         7           nuts,raisins           1.90                 3  \n",
       "\n",
       "[779 rows x 17 columns]"
      ]
     },
     "execution_count": 5,
     "metadata": {},
     "output_type": "execute_result"
    }
   ],
   "source": [
    "df_test"
   ]
  },
  {
   "cell_type": "code",
   "execution_count": 6,
   "id": "3586eebf",
   "metadata": {},
   "outputs": [
    {
     "name": "stdout",
     "output_type": "stream",
     "text": [
      "<class 'pandas.core.frame.DataFrame'>\n",
      "RangeIndex: 5198 entries, 0 to 5197\n",
      "Data columns (total 16 columns):\n",
      " #   Column                Non-Null Count  Dtype  \n",
      "---  ------                --------------  -----  \n",
      " 0   sugar to flour ratio  5198 non-null   float64\n",
      " 1   sugar index           5193 non-null   float64\n",
      " 2   bake temp             5198 non-null   int64  \n",
      " 3   chill time            5198 non-null   float64\n",
      " 4   calories              5198 non-null   float64\n",
      " 5   density               5198 non-null   float64\n",
      " 6   pH                    5198 non-null   float64\n",
      " 7   grams baking soda     5198 non-null   float64\n",
      " 8   bake time             5188 non-null   float64\n",
      " 9   quality               5198 non-null   int64  \n",
      " 10  butter type           5198 non-null   object \n",
      " 11  weight                5198 non-null   float64\n",
      " 12  diameter              5198 non-null   int64  \n",
      " 13  mixins                5196 non-null   object \n",
      " 14  crunch factor         5198 non-null   float64\n",
      " 15  aesthetic appeal      5198 non-null   int64  \n",
      "dtypes: float64(10), int64(4), object(2)\n",
      "memory usage: 649.9+ KB\n"
     ]
    }
   ],
   "source": [
    "df_train.info()"
   ]
  },
  {
   "cell_type": "code",
   "execution_count": 7,
   "id": "1070e109",
   "metadata": {},
   "outputs": [
    {
     "name": "stdout",
     "output_type": "stream",
     "text": [
      "<class 'pandas.core.frame.DataFrame'>\n",
      "RangeIndex: 779 entries, 0 to 778\n",
      "Data columns (total 17 columns):\n",
      " #   Column                Non-Null Count  Dtype  \n",
      "---  ------                --------------  -----  \n",
      " 0   id                    779 non-null    int64  \n",
      " 1   sugar to flour ratio  779 non-null    float64\n",
      " 2   sugar index           779 non-null    float64\n",
      " 3   bake temp             779 non-null    float64\n",
      " 4   chill time            779 non-null    float64\n",
      " 5   calories              779 non-null    float64\n",
      " 6   density               779 non-null    float64\n",
      " 7   pH                    779 non-null    float64\n",
      " 8   grams baking soda     779 non-null    float64\n",
      " 9   bake time             779 non-null    float64\n",
      " 10  quality               779 non-null    int64  \n",
      " 11  butter type           779 non-null    object \n",
      " 12  weight                779 non-null    float64\n",
      " 13  diameter              779 non-null    int64  \n",
      " 14  mixins                779 non-null    object \n",
      " 15  crunch factor         779 non-null    float64\n",
      " 16  aesthetic appeal      779 non-null    int64  \n",
      "dtypes: float64(11), int64(4), object(2)\n",
      "memory usage: 103.6+ KB\n"
     ]
    }
   ],
   "source": [
    "df_test.info()"
   ]
  },
  {
   "cell_type": "markdown",
   "id": "e67bcef5",
   "metadata": {},
   "source": [
    "# Data preprocessing"
   ]
  },
  {
   "cell_type": "markdown",
   "id": "8a5e9cf9",
   "metadata": {},
   "source": [
    "## Dealing with nulls"
   ]
  },
  {
   "cell_type": "code",
   "execution_count": 8,
   "id": "80ae7583",
   "metadata": {},
   "outputs": [],
   "source": [
    "# sugar index, bake time, mixins in df_train\n",
    "\n",
    "df_train.dropna(inplace=True)\n",
    "df_train.reset_index(inplace=True)\n",
    "# df_test has no nulls"
   ]
  },
  {
   "cell_type": "code",
   "execution_count": 9,
   "id": "b4e97786",
   "metadata": {},
   "outputs": [
    {
     "name": "stdout",
     "output_type": "stream",
     "text": [
      "<class 'pandas.core.frame.DataFrame'>\n",
      "RangeIndex: 5181 entries, 0 to 5180\n",
      "Data columns (total 17 columns):\n",
      " #   Column                Non-Null Count  Dtype  \n",
      "---  ------                --------------  -----  \n",
      " 0   index                 5181 non-null   int64  \n",
      " 1   sugar to flour ratio  5181 non-null   float64\n",
      " 2   sugar index           5181 non-null   float64\n",
      " 3   bake temp             5181 non-null   int64  \n",
      " 4   chill time            5181 non-null   float64\n",
      " 5   calories              5181 non-null   float64\n",
      " 6   density               5181 non-null   float64\n",
      " 7   pH                    5181 non-null   float64\n",
      " 8   grams baking soda     5181 non-null   float64\n",
      " 9   bake time             5181 non-null   float64\n",
      " 10  quality               5181 non-null   int64  \n",
      " 11  butter type           5181 non-null   object \n",
      " 12  weight                5181 non-null   float64\n",
      " 13  diameter              5181 non-null   int64  \n",
      " 14  mixins                5181 non-null   object \n",
      " 15  crunch factor         5181 non-null   float64\n",
      " 16  aesthetic appeal      5181 non-null   int64  \n",
      "dtypes: float64(10), int64(5), object(2)\n",
      "memory usage: 688.2+ KB\n"
     ]
    }
   ],
   "source": [
    "df_train.info()"
   ]
  },
  {
   "cell_type": "code",
   "execution_count": 10,
   "id": "a4834cec",
   "metadata": {},
   "outputs": [
    {
     "data": {
      "text/html": [
       "<div>\n",
       "<style scoped>\n",
       "    .dataframe tbody tr th:only-of-type {\n",
       "        vertical-align: middle;\n",
       "    }\n",
       "\n",
       "    .dataframe tbody tr th {\n",
       "        vertical-align: top;\n",
       "    }\n",
       "\n",
       "    .dataframe thead th {\n",
       "        text-align: right;\n",
       "    }\n",
       "</style>\n",
       "<table border=\"1\" class=\"dataframe\">\n",
       "  <thead>\n",
       "    <tr style=\"text-align: right;\">\n",
       "      <th></th>\n",
       "      <th>index</th>\n",
       "      <th>sugar to flour ratio</th>\n",
       "      <th>sugar index</th>\n",
       "      <th>bake temp</th>\n",
       "      <th>chill time</th>\n",
       "      <th>calories</th>\n",
       "      <th>density</th>\n",
       "      <th>pH</th>\n",
       "      <th>grams baking soda</th>\n",
       "      <th>bake time</th>\n",
       "      <th>quality</th>\n",
       "      <th>butter type</th>\n",
       "      <th>weight</th>\n",
       "      <th>diameter</th>\n",
       "      <th>mixins</th>\n",
       "      <th>crunch factor</th>\n",
       "      <th>aesthetic appeal</th>\n",
       "    </tr>\n",
       "  </thead>\n",
       "  <tbody>\n",
       "    <tr>\n",
       "      <th>0</th>\n",
       "      <td>0</td>\n",
       "      <td>0.25</td>\n",
       "      <td>9.5</td>\n",
       "      <td>300</td>\n",
       "      <td>15.0</td>\n",
       "      <td>136.0</td>\n",
       "      <td>0.99367</td>\n",
       "      <td>8.10</td>\n",
       "      <td>0.44</td>\n",
       "      <td>12.1</td>\n",
       "      <td>8</td>\n",
       "      <td>melted</td>\n",
       "      <td>15.2</td>\n",
       "      <td>7</td>\n",
       "      <td>raisins</td>\n",
       "      <td>1.30</td>\n",
       "      <td>3</td>\n",
       "    </tr>\n",
       "    <tr>\n",
       "      <th>1</th>\n",
       "      <td>1</td>\n",
       "      <td>0.23</td>\n",
       "      <td>3.3</td>\n",
       "      <td>520</td>\n",
       "      <td>34.0</td>\n",
       "      <td>113.0</td>\n",
       "      <td>0.99429</td>\n",
       "      <td>8.16</td>\n",
       "      <td>0.48</td>\n",
       "      <td>8.4</td>\n",
       "      <td>7</td>\n",
       "      <td>melted</td>\n",
       "      <td>12.4</td>\n",
       "      <td>7</td>\n",
       "      <td>raisins</td>\n",
       "      <td>1.71</td>\n",
       "      <td>3</td>\n",
       "    </tr>\n",
       "    <tr>\n",
       "      <th>2</th>\n",
       "      <td>2</td>\n",
       "      <td>0.18</td>\n",
       "      <td>1.9</td>\n",
       "      <td>360</td>\n",
       "      <td>33.0</td>\n",
       "      <td>106.0</td>\n",
       "      <td>0.98746</td>\n",
       "      <td>8.21</td>\n",
       "      <td>0.83</td>\n",
       "      <td>14.0</td>\n",
       "      <td>9</td>\n",
       "      <td>melted</td>\n",
       "      <td>9.4</td>\n",
       "      <td>7</td>\n",
       "      <td>nuts, chocolate</td>\n",
       "      <td>1.78</td>\n",
       "      <td>3</td>\n",
       "    </tr>\n",
       "    <tr>\n",
       "      <th>3</th>\n",
       "      <td>3</td>\n",
       "      <td>0.18</td>\n",
       "      <td>10.5</td>\n",
       "      <td>490</td>\n",
       "      <td>41.0</td>\n",
       "      <td>124.0</td>\n",
       "      <td>0.99630</td>\n",
       "      <td>8.14</td>\n",
       "      <td>0.35</td>\n",
       "      <td>10.5</td>\n",
       "      <td>7</td>\n",
       "      <td>melted</td>\n",
       "      <td>12.2</td>\n",
       "      <td>7</td>\n",
       "      <td>chocolate</td>\n",
       "      <td>1.59</td>\n",
       "      <td>3</td>\n",
       "    </tr>\n",
       "    <tr>\n",
       "      <th>4</th>\n",
       "      <td>4</td>\n",
       "      <td>0.24</td>\n",
       "      <td>2.4</td>\n",
       "      <td>770</td>\n",
       "      <td>6.0</td>\n",
       "      <td>33.0</td>\n",
       "      <td>0.99740</td>\n",
       "      <td>8.09</td>\n",
       "      <td>0.57</td>\n",
       "      <td>9.4</td>\n",
       "      <td>5</td>\n",
       "      <td>cubed</td>\n",
       "      <td>19.8</td>\n",
       "      <td>7</td>\n",
       "      <td>nuts, oats, chocolate</td>\n",
       "      <td>1.30</td>\n",
       "      <td>3</td>\n",
       "    </tr>\n",
       "  </tbody>\n",
       "</table>\n",
       "</div>"
      ],
      "text/plain": [
       "   index  sugar to flour ratio  sugar index  bake temp  chill time  calories  \\\n",
       "0      0                  0.25          9.5        300        15.0     136.0   \n",
       "1      1                  0.23          3.3        520        34.0     113.0   \n",
       "2      2                  0.18          1.9        360        33.0     106.0   \n",
       "3      3                  0.18         10.5        490        41.0     124.0   \n",
       "4      4                  0.24          2.4        770         6.0      33.0   \n",
       "\n",
       "   density    pH  grams baking soda  bake time  quality butter type  weight  \\\n",
       "0  0.99367  8.10               0.44       12.1        8      melted    15.2   \n",
       "1  0.99429  8.16               0.48        8.4        7      melted    12.4   \n",
       "2  0.98746  8.21               0.83       14.0        9      melted     9.4   \n",
       "3  0.99630  8.14               0.35       10.5        7      melted    12.2   \n",
       "4  0.99740  8.09               0.57        9.4        5       cubed    19.8   \n",
       "\n",
       "   diameter                 mixins  crunch factor  aesthetic appeal  \n",
       "0         7                raisins           1.30                 3  \n",
       "1         7                raisins           1.71                 3  \n",
       "2         7        nuts, chocolate           1.78                 3  \n",
       "3         7              chocolate           1.59                 3  \n",
       "4         7  nuts, oats, chocolate           1.30                 3  "
      ]
     },
     "execution_count": 10,
     "metadata": {},
     "output_type": "execute_result"
    }
   ],
   "source": [
    "df_train.head()"
   ]
  },
  {
   "cell_type": "markdown",
   "id": "29a74ac6",
   "metadata": {},
   "source": [
    "## Check duplicates"
   ]
  },
  {
   "cell_type": "code",
   "execution_count": 11,
   "id": "f01c38e1",
   "metadata": {},
   "outputs": [
    {
     "data": {
      "text/plain": [
       "0"
      ]
     },
     "execution_count": 11,
     "metadata": {},
     "output_type": "execute_result"
    }
   ],
   "source": [
    "df_train.duplicated().sum()"
   ]
  },
  {
   "cell_type": "code",
   "execution_count": 12,
   "id": "d7b965bc",
   "metadata": {},
   "outputs": [
    {
     "data": {
      "text/plain": [
       "0"
      ]
     },
     "execution_count": 12,
     "metadata": {},
     "output_type": "execute_result"
    }
   ],
   "source": [
    "df_test.duplicated().sum()"
   ]
  },
  {
   "cell_type": "markdown",
   "id": "e3d2f07d",
   "metadata": {},
   "source": [
    "## Drop index/id column"
   ]
  },
  {
   "cell_type": "code",
   "execution_count": 13,
   "id": "bd470219",
   "metadata": {},
   "outputs": [],
   "source": [
    "df_train = df_train.drop(['index'], axis=1)\n",
    "df_test = df_test.drop(['id'], axis=1)"
   ]
  },
  {
   "cell_type": "markdown",
   "id": "9bfaf0e5",
   "metadata": {},
   "source": [
    "## Set variables"
   ]
  },
  {
   "cell_type": "code",
   "execution_count": 14,
   "id": "f594a572",
   "metadata": {},
   "outputs": [],
   "source": [
    "#train\n",
    "y_train=df_train['quality']\n",
    "X_train=df_train.drop(['quality'],axis=1)\n",
    "#test\n",
    "y_test=df_test['quality']\n",
    "X_test=df_test.drop(['quality'],axis=1)"
   ]
  },
  {
   "cell_type": "code",
   "execution_count": 22,
   "id": "2e06bc56",
   "metadata": {},
   "outputs": [
    {
     "data": {
      "text/plain": [
       "Index(['sugar to flour ratio', 'sugar index', 'bake temp', 'chill time',\n",
       "       'calories', 'density', 'pH', 'grams baking soda', 'bake time',\n",
       "       'butter type', 'weight', 'diameter', 'mixins', 'crunch factor',\n",
       "       'aesthetic appeal'],\n",
       "      dtype='object')"
      ]
     },
     "execution_count": 22,
     "metadata": {},
     "output_type": "execute_result"
    }
   ],
   "source": [
    "X_train.columns"
   ]
  },
  {
   "cell_type": "markdown",
   "id": "8a3740b7",
   "metadata": {},
   "source": [
    "## Splitting variables"
   ]
  },
  {
   "cell_type": "code",
   "execution_count": 15,
   "id": "1f7237d9",
   "metadata": {},
   "outputs": [],
   "source": [
    "d_cat_train=X_train.select_dtypes(object) #encoding (1st)\n",
    "d_num_train=X_train.select_dtypes(np.number) #concating and scaling (2nd)\n",
    "\n",
    "d_cat_test=X_test.select_dtypes(object) #encoding (1st)\n",
    "d_num_test=X_test.select_dtypes(np.number) #concating and scaling (2nd)"
   ]
  },
  {
   "cell_type": "markdown",
   "id": "60d987d9",
   "metadata": {},
   "source": [
    "## Encoding categorical variables"
   ]
  },
  {
   "cell_type": "code",
   "execution_count": 16,
   "id": "07c0dbe4",
   "metadata": {},
   "outputs": [],
   "source": [
    "# one hot encoder \n",
    "from sklearn.preprocessing import OneHotEncoder as ohe\n",
    "#train\n",
    "encoder = ohe(drop='first').fit(d_cat_train)\n",
    "cat_enc_train=encoder.transform(d_cat_train).toarray()\n",
    "cat_enc_cols_train=encoder.get_feature_names_out(d_cat_train.columns)\n",
    "cat_enc_df_train=pd.DataFrame(cat_enc_train, columns=cat_enc_cols_train)\n",
    "#test\n",
    "encoder = ohe(drop='first').fit(d_cat_test)\n",
    "cat_enc_test=encoder.transform(d_cat_test).toarray()\n",
    "cat_enc_cols_test=encoder.get_feature_names_out(d_cat_test.columns)\n",
    "cat_enc_df_test=pd.DataFrame(cat_enc_test, columns=cat_enc_cols_test)"
   ]
  },
  {
   "cell_type": "code",
   "execution_count": 17,
   "id": "ae8679de",
   "metadata": {},
   "outputs": [
    {
     "data": {
      "text/plain": [
       "(5181, 13)"
      ]
     },
     "execution_count": 17,
     "metadata": {},
     "output_type": "execute_result"
    }
   ],
   "source": [
    "cat_enc_df_train.shape"
   ]
  },
  {
   "cell_type": "code",
   "execution_count": 18,
   "id": "5580f278",
   "metadata": {},
   "outputs": [
    {
     "data": {
      "text/plain": [
       "(5181, 2)"
      ]
     },
     "execution_count": 18,
     "metadata": {},
     "output_type": "execute_result"
    }
   ],
   "source": [
    "d_cat_train.shape"
   ]
  },
  {
   "cell_type": "markdown",
   "id": "9cf8785e",
   "metadata": {},
   "source": [
    "## Concat"
   ]
  },
  {
   "cell_type": "code",
   "execution_count": 19,
   "id": "260ca6c1",
   "metadata": {},
   "outputs": [],
   "source": [
    "#join back to the numbers \n",
    "X_full_train=pd.concat([cat_enc_df_train,d_num_train],axis=1)\n",
    "X_full_test=pd.concat([cat_enc_df_test,d_num_test],axis=1)"
   ]
  },
  {
   "cell_type": "markdown",
   "id": "7131dafd",
   "metadata": {},
   "source": [
    "## Scaling"
   ]
  },
  {
   "cell_type": "code",
   "execution_count": 28,
   "id": "df64df60",
   "metadata": {},
   "outputs": [
    {
     "data": {
      "text/plain": [
       "Index(['butter type_melted', 'mixins_chocolate, oats',\n",
       "       'mixins_chocolate, oats, peanut butter',\n",
       "       'mixins_chocolate, peanut butter', 'mixins_nuts, chocolate',\n",
       "       'mixins_nuts, oats', 'mixins_nuts, oats, chocolate',\n",
       "       'mixins_nuts,raisins', 'mixins_oats', 'mixins_peanut butter',\n",
       "       'mixins_peanut butter, raisins', 'mixins_raisins',\n",
       "       'mixins_raisins, oats', 'sugar to flour ratio', 'sugar index',\n",
       "       'bake temp', 'chill time', 'calories', 'density', 'pH',\n",
       "       'grams baking soda', 'bake time', 'weight', 'diameter', 'crunch factor',\n",
       "       'aesthetic appeal'],\n",
       "      dtype='object')"
      ]
     },
     "execution_count": 28,
     "metadata": {},
     "output_type": "execute_result"
    }
   ],
   "source": [
    "X_full_train.columns"
   ]
  },
  {
   "cell_type": "code",
   "execution_count": 38,
   "id": "23b8b1b8",
   "metadata": {},
   "outputs": [
    {
     "data": {
      "text/plain": [
       "Index(['butter type_melted', 'mixins_chocolate, oats',\n",
       "       'mixins_chocolate, oats, peanut butter',\n",
       "       'mixins_chocolate, peanut butter', 'mixins_nuts, chocolate',\n",
       "       'mixins_nuts, oats', 'mixins_nuts, oats, chocolate',\n",
       "       'mixins_nuts,raisins', 'mixins_peanut butter', 'mixins_raisins',\n",
       "       'mixins_raisins, oats', 'sugar to flour ratio', 'sugar index',\n",
       "       'bake temp', 'chill time', 'calories', 'density', 'pH',\n",
       "       'grams baking soda', 'bake time', 'weight', 'diameter', 'crunch factor',\n",
       "       'aesthetic appeal'],\n",
       "      dtype='object')"
      ]
     },
     "execution_count": 38,
     "metadata": {},
     "output_type": "execute_result"
    }
   ],
   "source": [
    "X_full_test.columns"
   ]
  },
  {
   "cell_type": "code",
   "execution_count": 30,
   "id": "b4886e86",
   "metadata": {},
   "outputs": [],
   "source": [
    "from sklearn import preprocessing\n",
    "min_max = preprocessing.MinMaxScaler()"
   ]
  },
  {
   "cell_type": "code",
   "execution_count": 39,
   "id": "37d9a374",
   "metadata": {},
   "outputs": [],
   "source": [
    "#not the cleanest way\n",
    "columns_train = ['butter type_melted', 'mixins_chocolate, oats',\n",
    "       'mixins_chocolate, oats, peanut butter',\n",
    "       'mixins_chocolate, peanut butter', 'mixins_nuts, chocolate',\n",
    "       'mixins_nuts, oats', 'mixins_nuts, oats, chocolate',\n",
    "       'mixins_nuts,raisins', 'mixins_oats', 'mixins_peanut butter',\n",
    "       'mixins_peanut butter, raisins', 'mixins_raisins',\n",
    "       'mixins_raisins, oats', 'sugar to flour ratio', 'sugar index',\n",
    "       'bake temp', 'chill time', 'calories', 'density', 'pH',\n",
    "       'grams baking soda', 'bake time', 'weight', 'diameter', 'crunch factor',\n",
    "       'aesthetic appeal']\n",
    "columns_test = ['butter type_melted', 'mixins_chocolate, oats',\n",
    "       'mixins_chocolate, oats, peanut butter',\n",
    "       'mixins_chocolate, peanut butter', 'mixins_nuts, chocolate',\n",
    "       'mixins_nuts, oats', 'mixins_nuts, oats, chocolate',\n",
    "       'mixins_nuts,raisins', 'mixins_peanut butter', 'mixins_raisins',\n",
    "       'mixins_raisins, oats', 'sugar to flour ratio', 'sugar index',\n",
    "       'bake temp', 'chill time', 'calories', 'density', 'pH',\n",
    "       'grams baking soda', 'bake time', 'weight', 'diameter', 'crunch factor',\n",
    "       'aesthetic appeal']"
   ]
  },
  {
   "cell_type": "code",
   "execution_count": 40,
   "id": "dc1cc86f",
   "metadata": {},
   "outputs": [],
   "source": [
    "X_full_train[columns_train] = min_max.fit_transform(X_full_train[columns_train])\n",
    "X_full_test[columns_test] = min_max.fit_transform(X_full_test[columns_test])"
   ]
  },
  {
   "cell_type": "markdown",
   "id": "1dc99b03",
   "metadata": {},
   "source": [
    "# Training the model (Random Forest)"
   ]
  },
  {
   "cell_type": "code",
   "execution_count": 44,
   "id": "21992165",
   "metadata": {},
   "outputs": [],
   "source": [
    "X_full_train = X_full_train.drop(['mixins_oats','mixins_peanut butter, raisins'], axis=1)"
   ]
  },
  {
   "cell_type": "code",
   "execution_count": 49,
   "id": "2b10f364",
   "metadata": {},
   "outputs": [
    {
     "data": {
      "text/plain": [
       "(5181, 24)"
      ]
     },
     "execution_count": 49,
     "metadata": {},
     "output_type": "execute_result"
    }
   ],
   "source": [
    "X_full_train.shape"
   ]
  },
  {
   "cell_type": "code",
   "execution_count": 48,
   "id": "14b7fe9d",
   "metadata": {},
   "outputs": [
    {
     "data": {
      "text/plain": [
       "(5181,)"
      ]
     },
     "execution_count": 48,
     "metadata": {},
     "output_type": "execute_result"
    }
   ],
   "source": [
    "y_train.shape"
   ]
  },
  {
   "cell_type": "code",
   "execution_count": 52,
   "id": "ee473ae2",
   "metadata": {},
   "outputs": [
    {
     "data": {
      "text/plain": [
       "0    779\n",
       "Name: quality, dtype: int64"
      ]
     },
     "execution_count": 52,
     "metadata": {},
     "output_type": "execute_result"
    }
   ],
   "source": [
    "y_test.value_counts()"
   ]
  },
  {
   "cell_type": "code",
   "execution_count": 45,
   "id": "41fa7e79",
   "metadata": {},
   "outputs": [
    {
     "name": "stdout",
     "output_type": "stream",
     "text": [
      "0.0\n"
     ]
    }
   ],
   "source": [
    "from sklearn.ensemble import RandomForestClassifier as rfc\n",
    "clf=rfc(n_estimators=50, max_depth=5,random_state=40)\n",
    "clf.fit(X_full_train,y_train)\n",
    "#print(clf.score(X_full_test,y_test))"
   ]
  },
  {
   "cell_type": "code",
   "execution_count": 53,
   "id": "ed42534f",
   "metadata": {},
   "outputs": [
    {
     "name": "stdout",
     "output_type": "stream",
     "text": [
      "0.5608955800038603\n"
     ]
    }
   ],
   "source": [
    "print(clf.score(X_full_train,y_train))"
   ]
  },
  {
   "cell_type": "code",
   "execution_count": 54,
   "id": "bc017a52",
   "metadata": {},
   "outputs": [],
   "source": [
    "pred_y=clf.predict(X_full_test)"
   ]
  },
  {
   "cell_type": "code",
   "execution_count": 55,
   "id": "88bf2de7",
   "metadata": {},
   "outputs": [
    {
     "data": {
      "text/plain": [
       "array([7, 8, 7, 8, 8, 8, 8, 6, 8, 8, 6, 8, 7, 8, 8, 6, 8, 8, 8, 8, 8, 8,\n",
       "       8, 8, 7, 7, 7, 8, 7, 8, 8, 8, 7, 8, 6, 8, 8, 8, 7, 8, 8, 7, 8, 8,\n",
       "       8, 8, 8, 8, 8, 8, 7, 8, 7, 8, 8, 8, 8, 7, 8, 8, 8, 8, 7, 8, 8, 8,\n",
       "       7, 8, 8, 8, 8, 8, 5, 8, 8, 6, 8, 8, 8, 8, 8, 6, 8, 8, 8, 8, 8, 8,\n",
       "       8, 8, 8, 8, 8, 8, 8, 8, 5, 8, 7, 8, 8, 8, 8, 8, 8, 8, 8, 8, 8, 8,\n",
       "       8, 7, 8, 8, 8, 8, 8, 8, 6, 8, 7, 8, 7, 8, 8, 8, 8, 8, 8, 8, 8, 8,\n",
       "       8, 8, 8, 8, 7, 8, 8, 8, 8, 8, 8, 8, 7, 5, 8, 6, 8, 8, 8, 8, 8, 8,\n",
       "       8, 8, 8, 8, 6, 7, 8, 8, 8, 6, 8, 8, 5, 8, 8, 8, 8, 8, 7, 7, 8, 6,\n",
       "       7, 7, 8, 8, 7, 7, 7, 8, 8, 7, 7, 8, 7, 6, 8, 8, 8, 8, 8, 8, 8, 8,\n",
       "       6, 8, 8, 8, 6, 8, 8, 8, 8, 8, 8, 8, 8, 8, 6, 8, 8, 8, 8, 8, 8, 7,\n",
       "       7, 8, 8, 7, 7, 8, 6, 7, 8, 8, 8, 8, 7, 8, 7, 8, 8, 7, 8, 7, 8, 8,\n",
       "       8, 6, 8, 7, 8, 8, 8, 8, 8, 8, 5, 8, 8, 8, 8, 8, 8, 7, 8, 7, 8, 8,\n",
       "       8, 7, 8, 8, 7, 8, 8, 8, 8, 5, 6, 8, 8, 8, 8, 8, 7, 8, 8, 8, 8, 7,\n",
       "       8, 8, 8, 7, 8, 8, 8, 8, 8, 7, 8, 8, 7, 8, 8, 8, 8, 7, 8, 8, 8, 8,\n",
       "       8, 8, 8, 8, 7, 8, 6, 7, 8, 8, 8, 8, 8, 6, 6, 7, 7, 8, 8, 8, 8, 8,\n",
       "       7, 8, 8, 8, 6, 8, 8, 8, 8, 8, 8, 6, 8, 8, 8, 8, 8, 8, 8, 8, 8, 8,\n",
       "       7, 6, 6, 8, 8, 8, 8, 8, 6, 8, 7, 8, 8, 6, 8, 7, 6, 7, 8, 7, 8, 8,\n",
       "       8, 7, 7, 8, 8, 8, 6, 8, 8, 8, 6, 8, 8, 8, 8, 8, 8, 8, 8, 8, 8, 8,\n",
       "       6, 8, 8, 6, 8, 8, 8, 8, 8, 8, 8, 8, 8, 6, 8, 8, 8, 7, 8, 7, 8, 8,\n",
       "       8, 8, 8, 8, 8, 6, 8, 8, 8, 8, 8, 8, 6, 6, 8, 8, 8, 8, 8, 6, 7, 8,\n",
       "       8, 8, 8, 8, 8, 8, 6, 8, 8, 8, 8, 7, 8, 8, 7, 8, 7, 8, 7, 8, 8, 8,\n",
       "       8, 8, 8, 8, 8, 7, 6, 8, 8, 8, 6, 8, 7, 7, 8, 8, 8, 8, 8, 8, 7, 8,\n",
       "       7, 8, 8, 8, 8, 8, 8, 8, 8, 8, 8, 8, 8, 8, 8, 8, 8, 7, 6, 8, 8, 7,\n",
       "       8, 8, 8, 7, 8, 7, 8, 8, 7, 8, 8, 8, 8, 6, 8, 8, 8, 6, 8, 8, 8, 8,\n",
       "       8, 8, 8, 8, 8, 8, 8, 8, 8, 8, 8, 8, 6, 8, 8, 6, 8, 5, 5, 6, 8, 8,\n",
       "       8, 7, 8, 8, 6, 7, 8, 8, 8, 8, 8, 8, 8, 8, 8, 8, 8, 8, 8, 8, 7, 8,\n",
       "       8, 8, 8, 8, 5, 7, 7, 8, 7, 7, 8, 8, 7, 8, 8, 7, 8, 8, 8, 6, 8, 5,\n",
       "       8, 7, 6, 8, 8, 6, 8, 6, 8, 8, 8, 6, 8, 8, 7, 8, 8, 6, 8, 8, 8, 8,\n",
       "       8, 8, 8, 7, 7, 6, 8, 7, 8, 8, 8, 8, 8, 8, 8, 8, 7, 6, 6, 8, 8, 7,\n",
       "       8, 8, 8, 8, 8, 8, 8, 8, 8, 8, 6, 8, 6, 6, 8, 8, 8, 8, 6, 6, 8, 8,\n",
       "       8, 8, 8, 8, 8, 7, 5, 8, 8, 7, 7, 7, 8, 8, 8, 8, 8, 7, 8, 8, 7, 8,\n",
       "       8, 8, 6, 8, 7, 8, 6, 8, 8, 8, 6, 8, 7, 6, 7, 8, 6, 6, 8, 8, 8, 8,\n",
       "       6, 8, 5, 5, 5, 5, 5, 5, 5, 5, 5, 6, 5, 5, 6, 5, 5, 5, 6, 6, 5, 6,\n",
       "       6, 5, 5, 5, 5, 6, 6, 5, 6, 6, 5, 5, 6, 5, 5, 5, 6, 6, 6, 6, 5, 5,\n",
       "       6, 6, 6, 6, 6, 6, 5, 6, 5, 6, 5, 6, 6, 5, 6, 5, 5, 6, 5, 6, 5, 5,\n",
       "       6, 5, 5, 5, 5, 5, 5, 6, 5])"
      ]
     },
     "execution_count": 55,
     "metadata": {},
     "output_type": "execute_result"
    }
   ],
   "source": [
    "pred_y"
   ]
  },
  {
   "cell_type": "code",
   "execution_count": null,
   "id": "d011745d",
   "metadata": {},
   "outputs": [],
   "source": [
    "# Now we would start optimizing the model\n",
    "# A good way to start would be to select the features that are really impacting our target"
   ]
  }
 ],
 "metadata": {
  "kernelspec": {
   "display_name": "Python 3 (ipykernel)",
   "language": "python",
   "name": "python3"
  },
  "language_info": {
   "codemirror_mode": {
    "name": "ipython",
    "version": 3
   },
   "file_extension": ".py",
   "mimetype": "text/x-python",
   "name": "python",
   "nbconvert_exporter": "python",
   "pygments_lexer": "ipython3",
   "version": "3.8.13"
  },
  "toc": {
   "base_numbering": 1,
   "nav_menu": {},
   "number_sections": true,
   "sideBar": true,
   "skip_h1_title": false,
   "title_cell": "Table of Contents",
   "title_sidebar": "Contents",
   "toc_cell": false,
   "toc_position": {},
   "toc_section_display": true,
   "toc_window_display": false
  }
 },
 "nbformat": 4,
 "nbformat_minor": 5
}
