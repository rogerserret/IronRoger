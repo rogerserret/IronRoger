{
 "cells": [
  {
   "cell_type": "code",
   "execution_count": 1,
   "id": "7f0dcadb",
   "metadata": {},
   "outputs": [],
   "source": [
    "#from instascrape import Profile, scrape_posts\n",
    "#import time\n",
    "#from selenium import webdriver"
   ]
  },
  {
   "cell_type": "code",
   "execution_count": 2,
   "id": "798013ec",
   "metadata": {},
   "outputs": [],
   "source": [
    "from selenium.webdriver import Chrome \n",
    "from instascrape import Profile, scrape_posts"
   ]
  },
  {
   "cell_type": "code",
   "execution_count": 3,
   "id": "3cd2173e",
   "metadata": {},
   "outputs": [],
   "source": [
    "#webdriver = webdriver.Chrome('/Users/rogerserret/Downloads/chromedriver')  "
   ]
  },
  {
   "cell_type": "code",
   "execution_count": 4,
   "id": "ea56141a",
   "metadata": {},
   "outputs": [
    {
     "name": "stderr",
     "output_type": "stream",
     "text": [
      "/var/folders/9v/7bwmj6h15y38yzfpq5wrwtb80000gn/T/ipykernel_93134/1092238186.py:1: DeprecationWarning: executable_path has been deprecated, please pass in a Service object\n",
      "  webdriver = Chrome('/Users/rogerserret/Downloads/chromedriver')\n"
     ]
    }
   ],
   "source": [
    "webdriver = Chrome('/Users/rogerserret/Downloads/chromedriver')"
   ]
  },
  {
   "cell_type": "code",
   "execution_count": 5,
   "id": "059bbfd2",
   "metadata": {},
   "outputs": [],
   "source": [
    "headers = {\n",
    "    \"user-agent\": \"Mozilla/5.0 (Linux; Android 6.0; Nexus 5 Build/MRA58N) AppleWebKit/537.36 (KHTML, like Gecko) Chrome/87.0.4280.88 Mobile Safari/537.36 Edg/87.0.664.57\",\n",
    "    \"cookie\": \"sessionid=53604218868%3Ah01A83njRalDjH%3A17;\"\n",
    "}\n",
    "RC = Profile(\"recette_cocktail\")\n",
    "RC.scrape(headers=headers)"
   ]
  },
  {
   "cell_type": "code",
   "execution_count": 6,
   "id": "9638b6fa",
   "metadata": {},
   "outputs": [],
   "source": [
    "posts = RC.get_posts(webdriver=webdriver, login_first=True)"
   ]
  },
  {
   "cell_type": "code",
   "execution_count": 10,
   "id": "302c8bf1",
   "metadata": {},
   "outputs": [
    {
     "data": {
      "text/plain": [
       "[]"
      ]
     },
     "execution_count": 10,
     "metadata": {},
     "output_type": "execute_result"
    }
   ],
   "source": [
    "posts"
   ]
  },
  {
   "cell_type": "code",
   "execution_count": 7,
   "id": "5e628bc5",
   "metadata": {},
   "outputs": [],
   "source": [
    "scraped_posts, unscraped_posts = scrape_posts(posts, headers=headers, pause=10, silent=False)"
   ]
  },
  {
   "cell_type": "code",
   "execution_count": 8,
   "id": "825296c8",
   "metadata": {},
   "outputs": [
    {
     "data": {
      "text/plain": [
       "[]"
      ]
     },
     "execution_count": 8,
     "metadata": {},
     "output_type": "execute_result"
    }
   ],
   "source": [
    "scraped_posts"
   ]
  },
  {
   "cell_type": "code",
   "execution_count": 9,
   "id": "a69eac14",
   "metadata": {},
   "outputs": [],
   "source": [
    "# source: https://dev.to/chrisgreening/scraping-every-post-on-an-instagram-profile-with-less-than-10-lines-of-python-1n8b"
   ]
  }
 ],
 "metadata": {
  "kernelspec": {
   "display_name": "Python 3 (ipykernel)",
   "language": "python",
   "name": "python3"
  },
  "language_info": {
   "codemirror_mode": {
    "name": "ipython",
    "version": 3
   },
   "file_extension": ".py",
   "mimetype": "text/x-python",
   "name": "python",
   "nbconvert_exporter": "python",
   "pygments_lexer": "ipython3",
   "version": "3.8.13"
  },
  "toc": {
   "base_numbering": 1,
   "nav_menu": {},
   "number_sections": true,
   "sideBar": true,
   "skip_h1_title": false,
   "title_cell": "Table of Contents",
   "title_sidebar": "Contents",
   "toc_cell": false,
   "toc_position": {},
   "toc_section_display": true,
   "toc_window_display": false
  }
 },
 "nbformat": 4,
 "nbformat_minor": 5
}
