{
 "cells": [
  {
   "cell_type": "code",
   "execution_count": 1,
   "id": "13b071f7",
   "metadata": {},
   "outputs": [],
   "source": [
    "import pandas as pd "
   ]
  },
  {
   "cell_type": "code",
   "execution_count": 39,
   "id": "4c3ff681",
   "metadata": {},
   "outputs": [],
   "source": [
    "df=pd.read_csv('thestraghtup.csv')"
   ]
  },
  {
   "cell_type": "code",
   "execution_count": 40,
   "id": "0a44b745",
   "metadata": {},
   "outputs": [
    {
     "data": {
      "text/html": [
       "<div>\n",
       "<style scoped>\n",
       "    .dataframe tbody tr th:only-of-type {\n",
       "        vertical-align: middle;\n",
       "    }\n",
       "\n",
       "    .dataframe tbody tr th {\n",
       "        vertical-align: top;\n",
       "    }\n",
       "\n",
       "    .dataframe thead th {\n",
       "        text-align: right;\n",
       "    }\n",
       "</style>\n",
       "<table border=\"1\" class=\"dataframe\">\n",
       "  <thead>\n",
       "    <tr style=\"text-align: right;\">\n",
       "      <th></th>\n",
       "      <th>Date</th>\n",
       "      <th>Ingredients</th>\n",
       "    </tr>\n",
       "  </thead>\n",
       "  <tbody>\n",
       "    <tr>\n",
       "      <th>0</th>\n",
       "      <td>May 11, 2013,May 27, 2013,May 28, 2013,May 29,...</td>\n",
       "      <td>1oz Gin,1oz Gran Classico,1oz Cynar,1 dropper ...</td>\n",
       "    </tr>\n",
       "    <tr>\n",
       "      <th>1</th>\n",
       "      <td>March 22, 2013,March 23, 2013,March 23, 2013</td>\n",
       "      <td>1.5 Gin,.75 Cynar,.33 Campari,.5  Maurin Quina...</td>\n",
       "    </tr>\n",
       "    <tr>\n",
       "      <th>2</th>\n",
       "      <td>December 17, 2013,December 17, 2013,December 1...</td>\n",
       "      <td>.5oz Absinthe,.5oz Genepy,.5oz Green Chartreus...</td>\n",
       "    </tr>\n",
       "    <tr>\n",
       "      <th>3</th>\n",
       "      <td>December 26, 2012,September 11, 2013,September...</td>\n",
       "      <td>1.5oz Gin,.75oz Lillet Blanc,.75oz Orange Juic...</td>\n",
       "    </tr>\n",
       "    <tr>\n",
       "      <th>4</th>\n",
       "      <td>February 21, 2013,February 22, 2013,February 2...</td>\n",
       "      <td>.5oz Aperol,1.5oz Gin (Beefeater),.25oz Campar...</td>\n",
       "    </tr>\n",
       "    <tr>\n",
       "      <th>5</th>\n",
       "      <td>October 12, 2013</td>\n",
       "      <td>1.5oz Fino Sherry,1.5oz Sweet Vermouth,2 dashe...</td>\n",
       "    </tr>\n",
       "    <tr>\n",
       "      <th>6</th>\n",
       "      <td>March 3, 2013,March 3, 2013</td>\n",
       "      <td>2oz VSOP Cognac,.5oz Cointreau,.25oz Lemon Jui...</td>\n",
       "    </tr>\n",
       "    <tr>\n",
       "      <th>7</th>\n",
       "      <td>December 24, 2012</td>\n",
       "      <td>1.5oz Gin,.75oz Yellow Chartreuse,1 dash Orang...</td>\n",
       "    </tr>\n",
       "    <tr>\n",
       "      <th>8</th>\n",
       "      <td>February 14, 2013,February 14, 2013,August 6, ...</td>\n",
       "      <td>2oz Rittenhouse Rye,Barspoon Agave Nectar,3 da...</td>\n",
       "    </tr>\n",
       "    <tr>\n",
       "      <th>9</th>\n",
       "      <td>December 20, 2012,January 21, 2013,January 22,...</td>\n",
       "      <td>Equal parts (scale to desired size):,Averna Am...</td>\n",
       "    </tr>\n",
       "  </tbody>\n",
       "</table>\n",
       "</div>"
      ],
      "text/plain": [
       "                                                Date  \\\n",
       "0  May 11, 2013,May 27, 2013,May 28, 2013,May 29,...   \n",
       "1       March 22, 2013,March 23, 2013,March 23, 2013   \n",
       "2  December 17, 2013,December 17, 2013,December 1...   \n",
       "3  December 26, 2012,September 11, 2013,September...   \n",
       "4  February 21, 2013,February 22, 2013,February 2...   \n",
       "5                                   October 12, 2013   \n",
       "6                        March 3, 2013,March 3, 2013   \n",
       "7                                  December 24, 2012   \n",
       "8  February 14, 2013,February 14, 2013,August 6, ...   \n",
       "9  December 20, 2012,January 21, 2013,January 22,...   \n",
       "\n",
       "                                         Ingredients  \n",
       "0  1oz Gin,1oz Gran Classico,1oz Cynar,1 dropper ...  \n",
       "1  1.5 Gin,.75 Cynar,.33 Campari,.5  Maurin Quina...  \n",
       "2  .5oz Absinthe,.5oz Genepy,.5oz Green Chartreus...  \n",
       "3  1.5oz Gin,.75oz Lillet Blanc,.75oz Orange Juic...  \n",
       "4  .5oz Aperol,1.5oz Gin (Beefeater),.25oz Campar...  \n",
       "5  1.5oz Fino Sherry,1.5oz Sweet Vermouth,2 dashe...  \n",
       "6  2oz VSOP Cognac,.5oz Cointreau,.25oz Lemon Jui...  \n",
       "7  1.5oz Gin,.75oz Yellow Chartreuse,1 dash Orang...  \n",
       "8  2oz Rittenhouse Rye,Barspoon Agave Nectar,3 da...  \n",
       "9  Equal parts (scale to desired size):,Averna Am...  "
      ]
     },
     "execution_count": 40,
     "metadata": {},
     "output_type": "execute_result"
    }
   ],
   "source": [
    "df.head(10)"
   ]
  },
  {
   "cell_type": "code",
   "execution_count": 41,
   "id": "4cd3d801",
   "metadata": {},
   "outputs": [
    {
     "data": {
      "text/plain": [
       "'May 11, 2013,May 27, 2013,May 28, 2013,May 29, 2013,May 31, 2013,June 26, 2013'"
      ]
     },
     "execution_count": 41,
     "metadata": {},
     "output_type": "execute_result"
    }
   ],
   "source": [
    "string=df.Date.iloc[0]\n",
    "string"
   ]
  },
  {
   "cell_type": "code",
   "execution_count": 42,
   "id": "e1366eac",
   "metadata": {},
   "outputs": [
    {
     "data": {
      "text/plain": [
       "['June 26', ' 2013']"
      ]
     },
     "execution_count": 42,
     "metadata": {},
     "output_type": "execute_result"
    }
   ],
   "source": [
    "text=string.split(',')[-2:]\n",
    "text"
   ]
  },
  {
   "cell_type": "code",
   "execution_count": 43,
   "id": "8e41fb85",
   "metadata": {},
   "outputs": [
    {
     "data": {
      "text/plain": [
       "'June 26, 2013'"
      ]
     },
     "execution_count": 43,
     "metadata": {},
     "output_type": "execute_result"
    }
   ],
   "source": [
    "final =(','.join(text))\n",
    "final "
   ]
  },
  {
   "cell_type": "code",
   "execution_count": 44,
   "id": "f82f679e",
   "metadata": {},
   "outputs": [],
   "source": [
    "def get_final_date(string):\n",
    "    text=string.split(',')[-2:]\n",
    "    final=(','.join(text))\n",
    "    return final"
   ]
  },
  {
   "cell_type": "code",
   "execution_count": 45,
   "id": "e142dd84",
   "metadata": {},
   "outputs": [
    {
     "name": "stdout",
     "output_type": "stream",
     "text": [
      "<class 'pandas.core.frame.DataFrame'>\n",
      "RangeIndex: 123 entries, 0 to 122\n",
      "Data columns (total 2 columns):\n",
      " #   Column       Non-Null Count  Dtype \n",
      "---  ------       --------------  ----- \n",
      " 0   Date         122 non-null    object\n",
      " 1   Ingredients  122 non-null    object\n",
      "dtypes: object(2)\n",
      "memory usage: 2.0+ KB\n"
     ]
    }
   ],
   "source": [
    "df.info()"
   ]
  },
  {
   "cell_type": "code",
   "execution_count": 48,
   "id": "6e5972af",
   "metadata": {},
   "outputs": [],
   "source": [
    "df=df.dropna()"
   ]
  },
  {
   "cell_type": "code",
   "execution_count": 50,
   "id": "73ec58a6",
   "metadata": {},
   "outputs": [],
   "source": [
    "df['date_2'] = df['Date'].apply(get_final_date)"
   ]
  },
  {
   "cell_type": "code",
   "execution_count": 51,
   "id": "3c992a75",
   "metadata": {},
   "outputs": [
    {
     "data": {
      "text/html": [
       "<div>\n",
       "<style scoped>\n",
       "    .dataframe tbody tr th:only-of-type {\n",
       "        vertical-align: middle;\n",
       "    }\n",
       "\n",
       "    .dataframe tbody tr th {\n",
       "        vertical-align: top;\n",
       "    }\n",
       "\n",
       "    .dataframe thead th {\n",
       "        text-align: right;\n",
       "    }\n",
       "</style>\n",
       "<table border=\"1\" class=\"dataframe\">\n",
       "  <thead>\n",
       "    <tr style=\"text-align: right;\">\n",
       "      <th></th>\n",
       "      <th>Date</th>\n",
       "      <th>Ingredients</th>\n",
       "      <th>date_2</th>\n",
       "    </tr>\n",
       "  </thead>\n",
       "  <tbody>\n",
       "    <tr>\n",
       "      <th>0</th>\n",
       "      <td>May 11, 2013,May 27, 2013,May 28, 2013,May 29,...</td>\n",
       "      <td>1oz Gin,1oz Gran Classico,1oz Cynar,1 dropper ...</td>\n",
       "      <td>June 26, 2013</td>\n",
       "    </tr>\n",
       "    <tr>\n",
       "      <th>1</th>\n",
       "      <td>March 22, 2013,March 23, 2013,March 23, 2013</td>\n",
       "      <td>1.5 Gin,.75 Cynar,.33 Campari,.5  Maurin Quina...</td>\n",
       "      <td>March 23, 2013</td>\n",
       "    </tr>\n",
       "    <tr>\n",
       "      <th>2</th>\n",
       "      <td>December 17, 2013,December 17, 2013,December 1...</td>\n",
       "      <td>.5oz Absinthe,.5oz Genepy,.5oz Green Chartreus...</td>\n",
       "      <td>March 16, 2014</td>\n",
       "    </tr>\n",
       "    <tr>\n",
       "      <th>3</th>\n",
       "      <td>December 26, 2012,September 11, 2013,September...</td>\n",
       "      <td>1.5oz Gin,.75oz Lillet Blanc,.75oz Orange Juic...</td>\n",
       "      <td>September 12, 2013</td>\n",
       "    </tr>\n",
       "    <tr>\n",
       "      <th>4</th>\n",
       "      <td>February 21, 2013,February 22, 2013,February 2...</td>\n",
       "      <td>.5oz Aperol,1.5oz Gin (Beefeater),.25oz Campar...</td>\n",
       "      <td>February 22, 2013</td>\n",
       "    </tr>\n",
       "  </tbody>\n",
       "</table>\n",
       "</div>"
      ],
      "text/plain": [
       "                                                Date  \\\n",
       "0  May 11, 2013,May 27, 2013,May 28, 2013,May 29,...   \n",
       "1       March 22, 2013,March 23, 2013,March 23, 2013   \n",
       "2  December 17, 2013,December 17, 2013,December 1...   \n",
       "3  December 26, 2012,September 11, 2013,September...   \n",
       "4  February 21, 2013,February 22, 2013,February 2...   \n",
       "\n",
       "                                         Ingredients              date_2  \n",
       "0  1oz Gin,1oz Gran Classico,1oz Cynar,1 dropper ...       June 26, 2013  \n",
       "1  1.5 Gin,.75 Cynar,.33 Campari,.5  Maurin Quina...      March 23, 2013  \n",
       "2  .5oz Absinthe,.5oz Genepy,.5oz Green Chartreus...      March 16, 2014  \n",
       "3  1.5oz Gin,.75oz Lillet Blanc,.75oz Orange Juic...  September 12, 2013  \n",
       "4  .5oz Aperol,1.5oz Gin (Beefeater),.25oz Campar...   February 22, 2013  "
      ]
     },
     "execution_count": 51,
     "metadata": {},
     "output_type": "execute_result"
    }
   ],
   "source": [
    "df.head()"
   ]
  },
  {
   "cell_type": "code",
   "execution_count": null,
   "id": "24e597d0",
   "metadata": {},
   "outputs": [],
   "source": []
  }
 ],
 "metadata": {
  "kernelspec": {
   "display_name": "Python 3 (ipykernel)",
   "language": "python",
   "name": "python3"
  },
  "language_info": {
   "codemirror_mode": {
    "name": "ipython",
    "version": 3
   },
   "file_extension": ".py",
   "mimetype": "text/x-python",
   "name": "python",
   "nbconvert_exporter": "python",
   "pygments_lexer": "ipython3",
   "version": "3.8.13"
  },
  "toc": {
   "base_numbering": 1,
   "nav_menu": {},
   "number_sections": true,
   "sideBar": true,
   "skip_h1_title": false,
   "title_cell": "Table of Contents",
   "title_sidebar": "Contents",
   "toc_cell": false,
   "toc_position": {},
   "toc_section_display": true,
   "toc_window_display": false
  },
  "varInspector": {
   "cols": {
    "lenName": 16,
    "lenType": 16,
    "lenVar": 40
   },
   "kernels_config": {
    "python": {
     "delete_cmd_postfix": "",
     "delete_cmd_prefix": "del ",
     "library": "var_list.py",
     "varRefreshCmd": "print(var_dic_list())"
    },
    "r": {
     "delete_cmd_postfix": ") ",
     "delete_cmd_prefix": "rm(",
     "library": "var_list.r",
     "varRefreshCmd": "cat(var_dic_list()) "
    }
   },
   "types_to_exclude": [
    "module",
    "function",
    "builtin_function_or_method",
    "instance",
    "_Feature"
   ],
   "window_display": false
  }
 },
 "nbformat": 4,
 "nbformat_minor": 5
}
